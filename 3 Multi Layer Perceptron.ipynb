{
 "cells": [
  {
   "cell_type": "markdown",
   "metadata": {},
   "source": [
    "# Classifying Urban sounds using Deep Learning\n",
    "\n",
    "## 3 Model Training and Evaluation "
   ]
  },
  {
   "cell_type": "markdown",
   "metadata": {},
   "source": [
    "### Load Preprocessed data "
   ]
  },
  {
   "cell_type": "code",
   "execution_count": 1,
   "metadata": {},
   "outputs": [],
   "source": [
    "# retrieve the preprocessed data from previous notebook\n",
    "\n",
    "%store -r x_train \n",
    "%store -r x_test \n",
    "%store -r y_train \n",
    "%store -r y_test \n",
    "%store -r yy \n",
    "%store -r le"
   ]
  },
  {
   "cell_type": "code",
   "execution_count": 2,
   "metadata": {},
   "outputs": [
    {
     "data": {
      "text/plain": [
       "array([[0., 1., 0.],\n",
       "       [0., 1., 0.],\n",
       "       [0., 1., 0.],\n",
       "       ...,\n",
       "       [0., 0., 1.],\n",
       "       [0., 0., 1.],\n",
       "       [0., 1., 0.]], dtype=float32)"
      ]
     },
     "execution_count": 2,
     "metadata": {},
     "output_type": "execute_result"
    }
   ],
   "source": [
    "yy"
   ]
  },
  {
   "cell_type": "code",
   "execution_count": 3,
   "metadata": {},
   "outputs": [
    {
     "data": {
      "text/plain": [
       "array([[1., 0., 0.],\n",
       "       [0., 0., 1.],\n",
       "       [0., 0., 1.],\n",
       "       ...,\n",
       "       [0., 1., 0.],\n",
       "       [0., 1., 0.],\n",
       "       [0., 0., 1.]], dtype=float32)"
      ]
     },
     "execution_count": 3,
     "metadata": {},
     "output_type": "execute_result"
    }
   ],
   "source": [
    "y_train"
   ]
  },
  {
   "cell_type": "code",
   "execution_count": 4,
   "metadata": {},
   "outputs": [],
   "source": [
    "def add_noise(data,x):\n",
    "    noise = np.random.randn(len(data))\n",
    "    data_noise = data + x * noise\n",
    "    return data_noise\n",
    "\n",
    "def shift(data,x):\n",
    "    return np.roll(data, x)\n",
    "\n",
    "def stretch(data, rate):\n",
    "    data = librosa.effects.time_stretch(data, rate)\n",
    "    return data"
   ]
  },
  {
   "cell_type": "code",
   "execution_count": 5,
   "metadata": {},
   "outputs": [],
   "source": [
    "import numpy as np\n",
    "import librosa\n",
    "import pandas as pd\n",
    "import os\n",
    "metadata = pd.read_csv('./metadata_compiled.csv')\n",
    "X_=[]\n",
    "y_=[]\n",
    "#dir_= './clinical/converted_seg/cneg/'\n",
    "for index, row in metadata.iterrows():\n",
    "    if row[\"status\"] == \"healthy\":\n",
    "        file_name = os.path.join(os.path.abspath('./improved_dataset'),str(row[\"uuid\"]+\".wav\"))\n",
    "        # for soundDir in (os.listdir(dir_)):\n",
    "        data_x, sampling_rate = librosa.load(file_name,res_type='kaiser_fast')\n",
    "        mfccs = np.mean(librosa.feature.mfcc(y=data_x, sr=sampling_rate, n_mfcc=40).T,axis=0) \n",
    "        X_.append(mfccs)\n",
    "        y_.append('healthy')\n",
    "    else:\n",
    "        p='COVID-19'\n",
    "        \n",
    "        file_name = os.path.join(os.path.abspath('./improved_dataset'),str(row[\"uuid\"]+\".wav\"))\n",
    "        # for soundDir in (os.listdir(dir_)):\n",
    "        data_x, sampling_rate = librosa.load(file_name,res_type='kaiser_fast')\n",
    "        mfccs = np.mean(librosa.feature.mfcc(y=data_x, sr=sampling_rate, n_mfcc=40).T,axis=0) \n",
    "        X_.append(mfccs)\n",
    "        y_.append(p)\n",
    "\n",
    "        data_noise = add_noise(data_x,0.005)\n",
    "        mfccs_noise = np.mean(librosa.feature.mfcc(y=data_noise, sr=sampling_rate, n_mfcc=40).T,axis=0) \n",
    "        X_.append(mfccs_noise)\n",
    "        y_.append(p)\n",
    "\n",
    "        data_shift = shift(data_x,1600)\n",
    "        mfccs_shift = np.mean(librosa.feature.mfcc(y=data_shift, sr=sampling_rate, n_mfcc=40).T,axis=0) \n",
    "        X_.append(mfccs_shift)\n",
    "        y_.append(p)\n",
    "\n",
    "        data_stretch = stretch(data_x,1.2)\n",
    "        mfccs_stretch = np.mean(librosa.feature.mfcc(y=data_stretch, sr=sampling_rate, n_mfcc=40).T,axis=0) \n",
    "        X_.append(mfccs_stretch)\n",
    "        y_.append(p)\n",
    "\n",
    "        data_stretch_2 = stretch(data_x,0.8)\n",
    "        mfccs_stretch_2 = np.mean(librosa.feature.mfcc(y=data_stretch_2, sr=sampling_rate, n_mfcc=40).T,axis=0) \n",
    "        X_.append(mfccs_stretch_2)\n",
    "        y_.append(p)"
   ]
  },
  {
   "cell_type": "code",
   "execution_count": 6,
   "metadata": {},
   "outputs": [],
   "source": [
    "# import numpy as np\n",
    "# import librosa\n",
    "# import os\n",
    "\n",
    "# dir_= './clinical/converted_seg/cpos/'\n",
    "# p='positive'\n",
    "# for soundDir in (os.listdir(dir_)):\n",
    "#     data_x, sampling_rate = librosa.load(dir_+soundDir,res_type='kaiser_fast')\n",
    "#     mfccs = np.mean(librosa.feature.mfcc(y=data_x, sr=sampling_rate, n_mfcc=40).T,axis=0) \n",
    "#     X_.append(mfccs)\n",
    "#     y_.append('positive')\n",
    "\n",
    "#     data_noise = add_noise(data_x,0.005)\n",
    "#     mfccs_noise = np.mean(librosa.feature.mfcc(y=data_noise, sr=sampling_rate, n_mfcc=40).T,axis=0) \n",
    "#     X_.append(mfccs_noise)\n",
    "#     y_.append(p)\n",
    "\n",
    "#     data_shift = shift(data_x,1600)\n",
    "#     mfccs_shift = np.mean(librosa.feature.mfcc(y=data_shift, sr=sampling_rate, n_mfcc=40).T,axis=0) \n",
    "#     X_.append(mfccs_shift)\n",
    "#     y_.append(p)\n",
    "\n",
    "#     data_stretch = stretch(data_x,1.2)\n",
    "#     mfccs_stretch = np.mean(librosa.feature.mfcc(y=data_stretch, sr=sampling_rate, n_mfcc=40).T,axis=0) \n",
    "#     X_.append(mfccs_stretch)\n",
    "#     y_.append(p)\n",
    "\n",
    "#     data_stretch_2 = stretch(data_x,0.8)\n",
    "#     mfccs_stretch_2 = np.mean(librosa.feature.mfcc(y=data_stretch_2, sr=sampling_rate, n_mfcc=40).T,axis=0) \n",
    "#     X_.append(mfccs_stretch_2)\n",
    "#     y_.append(p)"
   ]
  },
  {
   "cell_type": "code",
   "execution_count": 7,
   "metadata": {},
   "outputs": [],
   "source": [
    "X = np.array(X_)\n",
    "y = np.array(y_)"
   ]
  },
  {
   "cell_type": "code",
   "execution_count": 8,
   "metadata": {},
   "outputs": [
    {
     "name": "stdout",
     "output_type": "stream",
     "text": [
      "[[-5.63286072e+02  1.82369003e+01 -2.34143949e+00 ...  2.08231524e-01\n",
      "  -3.72024238e-01  1.91061288e-01]\n",
      " [-7.36395081e+02  5.60351982e+01  9.28143120e+00 ... -1.26430750e-01\n",
      "   8.30247402e-01  9.10993099e-01]\n",
      " [-2.79818207e+02  1.02286911e+02 -2.72372284e+01 ... -3.43401885e+00\n",
      "  -2.21963358e+00 -1.87745678e+00]\n",
      " ...\n",
      " [-4.77796448e+02  3.58470688e+01 -5.85082474e+01 ... -2.01891646e-01\n",
      "  -2.20986962e-01  2.13427007e-01]\n",
      " [-4.71484192e+02  3.25430870e+01 -5.61231918e+01 ... -5.69744349e-01\n",
      "  -4.61468399e-01 -6.55625939e-01]\n",
      " [-2.65285828e+02  1.31167923e+02 -4.36617393e+01 ...  1.49560201e+00\n",
      "   9.85208750e-01 -8.23351368e-02]]\n",
      "['healthy' 'healthy' 'healthy' ... 'COVID-19' 'COVID-19' 'healthy']\n"
     ]
    }
   ],
   "source": [
    "print(X)\n",
    "print(y)"
   ]
  },
  {
   "cell_type": "code",
   "execution_count": 9,
   "metadata": {},
   "outputs": [
    {
     "name": "stdout",
     "output_type": "stream",
     "text": [
      "[[0. 1.]\n",
      " [0. 1.]\n",
      " [0. 1.]\n",
      " ...\n",
      " [1. 0.]\n",
      " [1. 0.]\n",
      " [0. 1.]]\n"
     ]
    }
   ],
   "source": [
    "from sklearn.preprocessing import LabelEncoder\n",
    "from tensorflow.keras.utils import to_categorical\n",
    "\n",
    "# Convert features and corresponding classification labels into numpy arrays\n",
    "# X = np.array(featuresdf.feature.tolist())\n",
    "# y = np.array(featuresdf.class_label.tolist())\n",
    "\n",
    "# Encode the classification labels\n",
    "le = LabelEncoder()\n",
    "yy = to_categorical(le.fit_transform(y)) \n",
    "print(yy)\n"
   ]
  },
  {
   "cell_type": "code",
   "execution_count": 10,
   "metadata": {},
   "outputs": [],
   "source": [
    "# split the dataset \n",
    "from sklearn.model_selection import train_test_split \n",
    "\n",
    "x_train, x_test, y_train, y_test = train_test_split(X, yy, test_size=0.3, random_state = 42)"
   ]
  },
  {
   "cell_type": "code",
   "execution_count": 11,
   "metadata": {},
   "outputs": [
    {
     "name": "stdout",
     "output_type": "stream",
     "text": [
      "Stored 'x_train' (ndarray)\n",
      "Stored 'x_test' (ndarray)\n",
      "Stored 'y_train' (ndarray)\n",
      "Stored 'y_test' (ndarray)\n",
      "Stored 'yy' (ndarray)\n",
      "Stored 'le' (LabelEncoder)\n"
     ]
    }
   ],
   "source": [
    "%store x_train \n",
    "%store x_test \n",
    "%store y_train \n",
    "%store y_test \n",
    "%store yy \n",
    "%store le"
   ]
  },
  {
   "cell_type": "code",
   "execution_count": 16,
   "metadata": {},
   "outputs": [],
   "source": [
    "%store -r x_train \n",
    "%store -r x_test \n",
    "%store -r y_train \n",
    "%store -r y_test \n",
    "%store -r yy \n",
    "%store -r le"
   ]
  },
  {
   "cell_type": "markdown",
   "metadata": {},
   "source": [
    "### Initial model architecture - MLP\n",
    "\n",
    "We will start with constructing a Multilayer Perceptron (MLP) Neural Network using Keras and a Tensorflow backend. \n",
    "\n",
    "Starting with a `sequential` model so we can build the model layer by layer. \n",
    "\n",
    "We will begin with a simple model architecture, consisting of three layers, an input layer, a hidden layer and an output layer. All three layers will be of the `dense` layer type which is a standard layer type that is used in many cases for neural networks. \n",
    "\n",
    "The first layer will receive the input shape. As each sample contains 40 MFCCs (or columns) we have a shape of (1x40) this means we will start with an input shape of 40. \n",
    "\n",
    "The first two layers will have 256 nodes. The activation function we will be using for our first 2 layers is the `ReLU`, or `Rectified Linear Activation`. This activation function has been proven to work well in neural networks.\n",
    "\n",
    "We will also apply a `Dropout` value of 50% on our first two layers. This will randomly exclude nodes from each update cycle which in turn results in a network that is capable of better generalisation and is less likely to overfit the training data.\n",
    "\n",
    "Our output layer will have 2 nodes (num_labels) which matches the number of possible classifications. The activation is for our output layer is `softmax`. Softmax makes the output sum up to 1 so the output can be interpreted as probabilities. The model will then make its prediction based on which option has the highest probability."
   ]
  },
  {
   "cell_type": "code",
   "execution_count": 17,
   "metadata": {},
   "outputs": [
    {
     "name": "stdout",
     "output_type": "stream",
     "text": [
      "2\n"
     ]
    }
   ],
   "source": [
    "print(yy.shape[1])"
   ]
  },
  {
   "cell_type": "code",
   "execution_count": 18,
   "metadata": {},
   "outputs": [
    {
     "name": "stdout",
     "output_type": "stream",
     "text": [
      "21842\n"
     ]
    }
   ],
   "source": [
    "print(x_train.shape[0])"
   ]
  },
  {
   "cell_type": "code",
   "execution_count": 19,
   "metadata": {},
   "outputs": [],
   "source": [
    "import numpy as np\n",
    "from keras.models import Sequential,load_model\n",
    "from keras.layers import Dense, Dropout, Activation, Flatten\n",
    "from keras.layers import Convolution2D, MaxPooling1D\n",
    "from tensorflow.keras.optimizers import Adam\n",
    "from keras.utils import np_utils\n",
    "from sklearn import metrics \n",
    "\n",
    "\n",
    "num_labels = yy.shape[1]\n",
    "filter_size = 1\n",
    "\n",
    "\n",
    "# Construct model \n",
    "model = Sequential()\n",
    "\n",
    "model.add(Dense(256, input_shape=(40,)))\n",
    "model.add(Activation('relu'))\n",
    "model.add(Dropout(0.25))\n",
    "\n",
    "model.add(Dense(128))\n",
    "model.add(Activation('relu'))\n",
    "model.add(Dropout(0.25))\n",
    "\n",
    "model.add(Dense(128))\n",
    "model.add(Activation('relu'))\n",
    "model.add(Dropout(0.25))\n",
    "\n",
    "model.add(Dense(64))\n",
    "model.add(Activation('relu'))\n",
    "# model.add(MaxPooling2D(pool_size=1))\n",
    "model.add(Dropout(0.20))\n",
    "\n",
    "\n",
    "model.add(Dense(64))\n",
    "model.add(Activation('relu'))\n",
    "model.add(Dropout(0.25))\n",
    "\n",
    "model.add(Dense(64))\n",
    "model.add(Activation('relu'))\n",
    "model.add(Dropout(0.25))\n",
    "\n",
    "model.add(Dense(64))\n",
    "model.add(Activation('relu'))\n",
    "# model.add(MaxPooling1D(pool_size=1))\n",
    "model.add(Dropout(0.20))\n",
    "\n",
    "\n",
    "model.add(Dense(64))\n",
    "model.add(Activation('relu'))\n",
    "model.add(Dropout(0.25))\n",
    "\n",
    "model.add(Dense(64))\n",
    "model.add(Activation('relu'))\n",
    "# model.add(MaxPooling2D(pool_size=1))\n",
    "model.add(Dropout(0.20))\n",
    "\n",
    "\n",
    "model.add(Dense(num_labels))\n",
    "model.add(Activation('softmax'))\n",
    "\n"
   ]
  },
  {
   "cell_type": "markdown",
   "metadata": {},
   "source": [
    "### Compiling the model \n",
    "\n",
    "For compiling our model, we will use the following three parameters: \n",
    "\n",
    "* Loss function - we will use `categorical_crossentropy`. This is the most common choice for classification. A lower score indicates that the model is performing better.\n",
    "\n",
    "* Metrics - we will use the `accuracy` metric which will allow us to view the accuracy score on the validation data when we train the model. \n",
    "\n",
    "* Optimizer - here we will use `adam` which is a generally good optimizer for many use cases.\n"
   ]
  },
  {
   "cell_type": "code",
   "execution_count": 20,
   "metadata": {},
   "outputs": [],
   "source": [
    "# Compile the model\n",
    "model.compile(loss='categorical_crossentropy', metrics=['accuracy'], optimizer='adam') "
   ]
  },
  {
   "cell_type": "code",
   "execution_count": 21,
   "metadata": {},
   "outputs": [
    {
     "name": "stdout",
     "output_type": "stream",
     "text": [
      "Model: \"sequential_2\"\n",
      "_________________________________________________________________\n",
      "Layer (type)                 Output Shape              Param #   \n",
      "=================================================================\n",
      "dense_20 (Dense)             (None, 256)               10496     \n",
      "_________________________________________________________________\n",
      "activation_20 (Activation)   (None, 256)               0         \n",
      "_________________________________________________________________\n",
      "dropout_18 (Dropout)         (None, 256)               0         \n",
      "_________________________________________________________________\n",
      "dense_21 (Dense)             (None, 128)               32896     \n",
      "_________________________________________________________________\n",
      "activation_21 (Activation)   (None, 128)               0         \n",
      "_________________________________________________________________\n",
      "dropout_19 (Dropout)         (None, 128)               0         \n",
      "_________________________________________________________________\n",
      "dense_22 (Dense)             (None, 128)               16512     \n",
      "_________________________________________________________________\n",
      "activation_22 (Activation)   (None, 128)               0         \n",
      "_________________________________________________________________\n",
      "dropout_20 (Dropout)         (None, 128)               0         \n",
      "_________________________________________________________________\n",
      "dense_23 (Dense)             (None, 64)                8256      \n",
      "_________________________________________________________________\n",
      "activation_23 (Activation)   (None, 64)                0         \n",
      "_________________________________________________________________\n",
      "dropout_21 (Dropout)         (None, 64)                0         \n",
      "_________________________________________________________________\n",
      "dense_24 (Dense)             (None, 64)                4160      \n",
      "_________________________________________________________________\n",
      "activation_24 (Activation)   (None, 64)                0         \n",
      "_________________________________________________________________\n",
      "dropout_22 (Dropout)         (None, 64)                0         \n",
      "_________________________________________________________________\n",
      "dense_25 (Dense)             (None, 64)                4160      \n",
      "_________________________________________________________________\n",
      "activation_25 (Activation)   (None, 64)                0         \n",
      "_________________________________________________________________\n",
      "dropout_23 (Dropout)         (None, 64)                0         \n",
      "_________________________________________________________________\n",
      "dense_26 (Dense)             (None, 64)                4160      \n",
      "_________________________________________________________________\n",
      "activation_26 (Activation)   (None, 64)                0         \n",
      "_________________________________________________________________\n",
      "dropout_24 (Dropout)         (None, 64)                0         \n",
      "_________________________________________________________________\n",
      "dense_27 (Dense)             (None, 64)                4160      \n",
      "_________________________________________________________________\n",
      "activation_27 (Activation)   (None, 64)                0         \n",
      "_________________________________________________________________\n",
      "dropout_25 (Dropout)         (None, 64)                0         \n",
      "_________________________________________________________________\n",
      "dense_28 (Dense)             (None, 64)                4160      \n",
      "_________________________________________________________________\n",
      "activation_28 (Activation)   (None, 64)                0         \n",
      "_________________________________________________________________\n",
      "dropout_26 (Dropout)         (None, 64)                0         \n",
      "_________________________________________________________________\n",
      "dense_29 (Dense)             (None, 2)                 130       \n",
      "_________________________________________________________________\n",
      "activation_29 (Activation)   (None, 2)                 0         \n",
      "=================================================================\n",
      "Total params: 89,090\n",
      "Trainable params: 89,090\n",
      "Non-trainable params: 0\n",
      "_________________________________________________________________\n",
      "Pre-training accuracy: 59.4531%\n"
     ]
    }
   ],
   "source": [
    "# Display model architecture summary \n",
    "model.summary()\n",
    "\n",
    "# Calculate pre-training accuracy \n",
    "score = model.evaluate(x_test, y_test, verbose=0)\n",
    "accuracy = 100*score[1]\n",
    "\n",
    "print(\"Pre-training accuracy: %.4f%%\" % accuracy)"
   ]
  },
  {
   "cell_type": "markdown",
   "metadata": {},
   "source": [
    "### Training \n",
    "\n",
    "Here we will train the model. \n",
    "\n",
    "We will start with 100 epochs which is the number of times the model will cycle through the data. The model will improve on each cycle until it reaches a certain point. \n",
    "\n",
    "We will also start with a low batch size, as having a large batch size can reduce the generalisation ability of the model. "
   ]
  },
  {
   "cell_type": "code",
   "execution_count": 22,
   "metadata": {},
   "outputs": [
    {
     "name": "stdout",
     "output_type": "stream",
     "text": [
      "Epoch 1/130\n",
      "683/683 [==============================] - 3s 4ms/step - loss: 0.7258 - accuracy: 0.5793 - val_loss: 0.6753 - val_accuracy: 0.5945\n",
      "\n",
      "Epoch 00001: val_loss improved from inf to 0.67527, saving model to saved_models\\weights.best.basic_mlp.h5\n",
      "Epoch 2/130\n",
      "683/683 [==============================] - 2s 3ms/step - loss: 0.6740 - accuracy: 0.5983 - val_loss: 0.6755 - val_accuracy: 0.5945\n",
      "\n",
      "Epoch 00002: val_loss did not improve from 0.67527\n",
      "Epoch 3/130\n",
      "683/683 [==============================] - 2s 3ms/step - loss: 0.6731 - accuracy: 0.5998 - val_loss: 0.6734 - val_accuracy: 0.5945\n",
      "\n",
      "Epoch 00003: val_loss improved from 0.67527 to 0.67337, saving model to saved_models\\weights.best.basic_mlp.h5\n",
      "Epoch 4/130\n",
      "683/683 [==============================] - 3s 4ms/step - loss: 0.6722 - accuracy: 0.6008 - val_loss: 0.6758 - val_accuracy: 0.5945\n",
      "\n",
      "Epoch 00004: val_loss did not improve from 0.67337\n",
      "Epoch 5/130\n",
      "683/683 [==============================] - 2s 3ms/step - loss: 0.6702 - accuracy: 0.5998 - val_loss: 0.6688 - val_accuracy: 0.5945\n",
      "\n",
      "Epoch 00005: val_loss improved from 0.67337 to 0.66880, saving model to saved_models\\weights.best.basic_mlp.h5\n",
      "Epoch 6/130\n",
      "683/683 [==============================] - 2s 4ms/step - loss: 0.6703 - accuracy: 0.6012 - val_loss: 0.6674 - val_accuracy: 0.5945\n",
      "\n",
      "Epoch 00006: val_loss improved from 0.66880 to 0.66742, saving model to saved_models\\weights.best.basic_mlp.h5\n",
      "Epoch 7/130\n",
      "683/683 [==============================] - 3s 4ms/step - loss: 0.6704 - accuracy: 0.6020 - val_loss: 0.6642 - val_accuracy: 0.5945\n",
      "\n",
      "Epoch 00007: val_loss improved from 0.66742 to 0.66416, saving model to saved_models\\weights.best.basic_mlp.h5\n",
      "Epoch 8/130\n",
      "683/683 [==============================] - 2s 4ms/step - loss: 0.6681 - accuracy: 0.6015 - val_loss: 0.6833 - val_accuracy: 0.5945\n",
      "\n",
      "Epoch 00008: val_loss did not improve from 0.66416\n",
      "Epoch 9/130\n",
      "683/683 [==============================] - 2s 3ms/step - loss: 0.6654 - accuracy: 0.6018 - val_loss: 0.6609 - val_accuracy: 0.5945\n",
      "\n",
      "Epoch 00009: val_loss improved from 0.66416 to 0.66090, saving model to saved_models\\weights.best.basic_mlp.h5\n",
      "Epoch 10/130\n",
      "683/683 [==============================] - 2s 4ms/step - loss: 0.6610 - accuracy: 0.6010 - val_loss: 0.6998 - val_accuracy: 0.5945\n",
      "\n",
      "Epoch 00010: val_loss did not improve from 0.66090\n",
      "Epoch 11/130\n",
      "683/683 [==============================] - 3s 4ms/step - loss: 0.6542 - accuracy: 0.6010 - val_loss: 0.6545 - val_accuracy: 0.5945\n",
      "\n",
      "Epoch 00011: val_loss improved from 0.66090 to 0.65453, saving model to saved_models\\weights.best.basic_mlp.h5\n",
      "Epoch 12/130\n",
      "683/683 [==============================] - 3s 4ms/step - loss: 0.6486 - accuracy: 0.6013 - val_loss: 0.6345 - val_accuracy: 0.5945\n",
      "\n",
      "Epoch 00012: val_loss improved from 0.65453 to 0.63452, saving model to saved_models\\weights.best.basic_mlp.h5\n",
      "Epoch 13/130\n",
      "683/683 [==============================] - 3s 4ms/step - loss: 0.6424 - accuracy: 0.6015 - val_loss: 0.6698 - val_accuracy: 0.5945\n",
      "\n",
      "Epoch 00013: val_loss did not improve from 0.63452\n",
      "Epoch 14/130\n",
      "683/683 [==============================] - 2s 4ms/step - loss: 0.6408 - accuracy: 0.6027 - val_loss: 0.6249 - val_accuracy: 0.5945\n",
      "\n",
      "Epoch 00014: val_loss improved from 0.63452 to 0.62487, saving model to saved_models\\weights.best.basic_mlp.h5\n",
      "Epoch 15/130\n",
      "683/683 [==============================] - 2s 3ms/step - loss: 0.6378 - accuracy: 0.6018 - val_loss: 0.6246 - val_accuracy: 0.5945\n",
      "\n",
      "Epoch 00015: val_loss improved from 0.62487 to 0.62461, saving model to saved_models\\weights.best.basic_mlp.h5\n",
      "Epoch 16/130\n",
      "683/683 [==============================] - 2s 3ms/step - loss: 0.6354 - accuracy: 0.6023 - val_loss: 0.6229 - val_accuracy: 0.5945\n",
      "\n",
      "Epoch 00016: val_loss improved from 0.62461 to 0.62292, saving model to saved_models\\weights.best.basic_mlp.h5\n",
      "Epoch 17/130\n",
      "683/683 [==============================] - 2s 3ms/step - loss: 0.6316 - accuracy: 0.6021 - val_loss: 0.6616 - val_accuracy: 0.5945\n",
      "\n",
      "Epoch 00017: val_loss did not improve from 0.62292\n",
      "Epoch 18/130\n",
      "683/683 [==============================] - 2s 4ms/step - loss: 0.6321 - accuracy: 0.6019 - val_loss: 0.6219 - val_accuracy: 0.5945\n",
      "\n",
      "Epoch 00018: val_loss improved from 0.62292 to 0.62193, saving model to saved_models\\weights.best.basic_mlp.h5\n",
      "Epoch 19/130\n",
      "683/683 [==============================] - 3s 4ms/step - loss: 0.6323 - accuracy: 0.6020 - val_loss: 0.6902 - val_accuracy: 0.5945\n",
      "\n",
      "Epoch 00019: val_loss did not improve from 0.62193\n",
      "Epoch 20/130\n",
      "683/683 [==============================] - 3s 4ms/step - loss: 0.6324 - accuracy: 0.6025 - val_loss: 0.6343 - val_accuracy: 0.5945\n",
      "\n",
      "Epoch 00020: val_loss did not improve from 0.62193\n",
      "Epoch 21/130\n",
      "683/683 [==============================] - 2s 4ms/step - loss: 0.6275 - accuracy: 0.6023 - val_loss: 0.6210 - val_accuracy: 0.5945\n",
      "\n",
      "Epoch 00021: val_loss improved from 0.62193 to 0.62104, saving model to saved_models\\weights.best.basic_mlp.h5\n",
      "Epoch 22/130\n",
      "683/683 [==============================] - 2s 4ms/step - loss: 0.6280 - accuracy: 0.6025 - val_loss: 0.6198 - val_accuracy: 0.5945\n",
      "\n",
      "Epoch 00022: val_loss improved from 0.62104 to 0.61977, saving model to saved_models\\weights.best.basic_mlp.h5\n",
      "Epoch 23/130\n",
      "683/683 [==============================] - 2s 4ms/step - loss: 0.6282 - accuracy: 0.6027 - val_loss: 0.6198 - val_accuracy: 0.5945\n",
      "\n",
      "Epoch 00023: val_loss did not improve from 0.61977\n",
      "Epoch 24/130\n",
      "683/683 [==============================] - 3s 4ms/step - loss: 0.6278 - accuracy: 0.6025 - val_loss: 0.6193 - val_accuracy: 0.5945\n",
      "\n",
      "Epoch 00024: val_loss improved from 0.61977 to 0.61925, saving model to saved_models\\weights.best.basic_mlp.h5\n",
      "Epoch 25/130\n",
      "683/683 [==============================] - 3s 4ms/step - loss: 0.6252 - accuracy: 0.6022 - val_loss: 0.6216 - val_accuracy: 0.5945\n",
      "\n",
      "Epoch 00025: val_loss did not improve from 0.61925\n",
      "Epoch 26/130\n",
      "683/683 [==============================] - 3s 4ms/step - loss: 0.6253 - accuracy: 0.6025 - val_loss: 0.6171 - val_accuracy: 0.5945\n",
      "\n",
      "Epoch 00026: val_loss improved from 0.61925 to 0.61708, saving model to saved_models\\weights.best.basic_mlp.h5\n",
      "Epoch 27/130\n",
      "683/683 [==============================] - 3s 4ms/step - loss: 0.6245 - accuracy: 0.6024 - val_loss: 0.6257 - val_accuracy: 0.5945\n",
      "\n",
      "Epoch 00027: val_loss did not improve from 0.61708\n",
      "Epoch 28/130\n",
      "683/683 [==============================] - 2s 4ms/step - loss: 0.6270 - accuracy: 0.6024 - val_loss: 0.6166 - val_accuracy: 0.5945\n",
      "\n",
      "Epoch 00028: val_loss improved from 0.61708 to 0.61663, saving model to saved_models\\weights.best.basic_mlp.h5\n",
      "Epoch 29/130\n",
      "683/683 [==============================] - 2s 3ms/step - loss: 0.6308 - accuracy: 0.6020 - val_loss: 0.6195 - val_accuracy: 0.5945\n",
      "\n",
      "Epoch 00029: val_loss did not improve from 0.61663\n",
      "Epoch 30/130\n",
      "683/683 [==============================] - 2s 3ms/step - loss: 0.6277 - accuracy: 0.6023 - val_loss: 0.6198 - val_accuracy: 0.5945\n",
      "\n",
      "Epoch 00030: val_loss did not improve from 0.61663\n",
      "Epoch 31/130\n",
      "683/683 [==============================] - 2s 4ms/step - loss: 0.6270 - accuracy: 0.6023 - val_loss: 0.6177 - val_accuracy: 0.5945\n",
      "\n",
      "Epoch 00031: val_loss did not improve from 0.61663\n",
      "Epoch 32/130\n",
      "683/683 [==============================] - 3s 4ms/step - loss: 0.6278 - accuracy: 0.6025 - val_loss: 0.6186 - val_accuracy: 0.5945\n",
      "\n",
      "Epoch 00032: val_loss did not improve from 0.61663\n",
      "Epoch 33/130\n",
      "683/683 [==============================] - 3s 4ms/step - loss: 0.6236 - accuracy: 0.6022 - val_loss: 0.6166 - val_accuracy: 0.5945\n",
      "\n",
      "Epoch 00033: val_loss improved from 0.61663 to 0.61660, saving model to saved_models\\weights.best.basic_mlp.h5\n",
      "Epoch 34/130\n",
      "683/683 [==============================] - 3s 4ms/step - loss: 0.6262 - accuracy: 0.6024 - val_loss: 0.6400 - val_accuracy: 0.5945\n",
      "\n",
      "Epoch 00034: val_loss did not improve from 0.61660\n",
      "Epoch 35/130\n",
      "683/683 [==============================] - 3s 4ms/step - loss: 0.6272 - accuracy: 0.6020 - val_loss: 0.6245 - val_accuracy: 0.5945\n",
      "\n",
      "Epoch 00035: val_loss did not improve from 0.61660\n",
      "Epoch 36/130\n",
      "683/683 [==============================] - 2s 4ms/step - loss: 0.6223 - accuracy: 0.6023 - val_loss: 0.6254 - val_accuracy: 0.5945\n",
      "\n",
      "Epoch 00036: val_loss did not improve from 0.61660\n",
      "Epoch 37/130\n",
      "683/683 [==============================] - 3s 4ms/step - loss: 0.6239 - accuracy: 0.6024 - val_loss: 0.6260 - val_accuracy: 0.5945\n",
      "\n",
      "Epoch 00037: val_loss did not improve from 0.61660\n",
      "Epoch 38/130\n",
      "683/683 [==============================] - 3s 4ms/step - loss: 0.6199 - accuracy: 0.6023 - val_loss: 0.6156 - val_accuracy: 0.5945\n",
      "\n",
      "Epoch 00038: val_loss improved from 0.61660 to 0.61563, saving model to saved_models\\weights.best.basic_mlp.h5\n",
      "Epoch 39/130\n",
      "683/683 [==============================] - 2s 4ms/step - loss: 0.6247 - accuracy: 0.6022 - val_loss: 0.6351 - val_accuracy: 0.5945\n",
      "\n",
      "Epoch 00039: val_loss did not improve from 0.61563\n",
      "Epoch 40/130\n",
      "683/683 [==============================] - 3s 4ms/step - loss: 0.6220 - accuracy: 0.6023 - val_loss: 0.6134 - val_accuracy: 0.5945\n",
      "\n",
      "Epoch 00040: val_loss improved from 0.61563 to 0.61340, saving model to saved_models\\weights.best.basic_mlp.h5\n",
      "Epoch 41/130\n",
      "683/683 [==============================] - 3s 4ms/step - loss: 0.6229 - accuracy: 0.6023 - val_loss: 0.6348 - val_accuracy: 0.5945\n",
      "\n",
      "Epoch 00041: val_loss did not improve from 0.61340\n",
      "Epoch 42/130\n",
      "683/683 [==============================] - 3s 4ms/step - loss: 0.6254 - accuracy: 0.6025 - val_loss: 0.6150 - val_accuracy: 0.5945\n",
      "\n",
      "Epoch 00042: val_loss did not improve from 0.61340\n",
      "Epoch 43/130\n",
      "683/683 [==============================] - 3s 4ms/step - loss: 0.6230 - accuracy: 0.6024 - val_loss: 0.6162 - val_accuracy: 0.5945\n",
      "\n",
      "Epoch 00043: val_loss did not improve from 0.61340\n",
      "Epoch 44/130\n",
      "683/683 [==============================] - 3s 4ms/step - loss: 0.6227 - accuracy: 0.6021 - val_loss: 0.6214 - val_accuracy: 0.5945\n",
      "\n",
      "Epoch 00044: val_loss did not improve from 0.61340\n",
      "Epoch 45/130\n",
      "683/683 [==============================] - 2s 4ms/step - loss: 0.6198 - accuracy: 0.6020 - val_loss: 0.6212 - val_accuracy: 0.5945\n",
      "\n",
      "Epoch 00045: val_loss did not improve from 0.61340\n",
      "Epoch 46/130\n",
      "683/683 [==============================] - 3s 4ms/step - loss: 0.6201 - accuracy: 0.6024 - val_loss: 0.6149 - val_accuracy: 0.5945\n",
      "\n",
      "Epoch 00046: val_loss did not improve from 0.61340\n",
      "Epoch 47/130\n",
      "683/683 [==============================] - 3s 4ms/step - loss: 0.6219 - accuracy: 0.6023 - val_loss: 0.6138 - val_accuracy: 0.5945\n",
      "\n",
      "Epoch 00047: val_loss did not improve from 0.61340\n",
      "Epoch 48/130\n",
      "683/683 [==============================] - 3s 4ms/step - loss: 0.6252 - accuracy: 0.6023 - val_loss: 0.6158 - val_accuracy: 0.5945\n",
      "\n",
      "Epoch 00048: val_loss did not improve from 0.61340\n",
      "Epoch 49/130\n",
      "683/683 [==============================] - 2s 4ms/step - loss: 0.6227 - accuracy: 0.6025 - val_loss: 0.6246 - val_accuracy: 0.5945\n",
      "\n",
      "Epoch 00049: val_loss did not improve from 0.61340\n",
      "Epoch 50/130\n",
      "683/683 [==============================] - 3s 4ms/step - loss: 0.6198 - accuracy: 0.6025 - val_loss: 0.6209 - val_accuracy: 0.5945\n",
      "\n",
      "Epoch 00050: val_loss did not improve from 0.61340\n",
      "Epoch 51/130\n",
      "683/683 [==============================] - 3s 4ms/step - loss: 0.6190 - accuracy: 0.6023 - val_loss: 0.6190 - val_accuracy: 0.5945\n",
      "\n",
      "Epoch 00051: val_loss did not improve from 0.61340\n",
      "Epoch 52/130\n",
      "683/683 [==============================] - 3s 4ms/step - loss: 0.6236 - accuracy: 0.6024 - val_loss: 0.6626 - val_accuracy: 0.5945\n",
      "\n",
      "Epoch 00052: val_loss did not improve from 0.61340\n",
      "Epoch 53/130\n",
      "683/683 [==============================] - 3s 4ms/step - loss: 0.6239 - accuracy: 0.6024 - val_loss: 0.6148 - val_accuracy: 0.5945\n",
      "\n",
      "Epoch 00053: val_loss did not improve from 0.61340\n",
      "Epoch 54/130\n",
      "683/683 [==============================] - 3s 5ms/step - loss: 0.6248 - accuracy: 0.6026 - val_loss: 0.6165 - val_accuracy: 0.5945\n",
      "\n",
      "Epoch 00054: val_loss did not improve from 0.61340\n",
      "Epoch 55/130\n",
      "683/683 [==============================] - 3s 4ms/step - loss: 0.6189 - accuracy: 0.6024 - val_loss: 0.6127 - val_accuracy: 0.5945\n",
      "\n",
      "Epoch 00055: val_loss improved from 0.61340 to 0.61274, saving model to saved_models\\weights.best.basic_mlp.h5\n",
      "Epoch 56/130\n",
      "683/683 [==============================] - 3s 5ms/step - loss: 0.6198 - accuracy: 0.6025 - val_loss: 0.6247 - val_accuracy: 0.5945\n",
      "\n",
      "Epoch 00056: val_loss did not improve from 0.61274\n",
      "Epoch 57/130\n",
      "683/683 [==============================] - 3s 4ms/step - loss: 0.6183 - accuracy: 0.6025 - val_loss: 0.6138 - val_accuracy: 0.5945\n",
      "\n",
      "Epoch 00057: val_loss did not improve from 0.61274\n",
      "Epoch 58/130\n",
      "683/683 [==============================] - 3s 5ms/step - loss: 0.6190 - accuracy: 0.6022 - val_loss: 0.6188 - val_accuracy: 0.5945\n",
      "\n",
      "Epoch 00058: val_loss did not improve from 0.61274\n",
      "Epoch 59/130\n",
      "683/683 [==============================] - 3s 5ms/step - loss: 0.6175 - accuracy: 0.6025 - val_loss: 0.6132 - val_accuracy: 0.5945\n",
      "\n",
      "Epoch 00059: val_loss did not improve from 0.61274\n",
      "Epoch 60/130\n",
      "683/683 [==============================] - 3s 4ms/step - loss: 0.6199 - accuracy: 0.6025 - val_loss: 0.6152 - val_accuracy: 0.5945\n",
      "\n",
      "Epoch 00060: val_loss did not improve from 0.61274\n",
      "Epoch 61/130\n",
      "683/683 [==============================] - 4s 6ms/step - loss: 0.6193 - accuracy: 0.6025 - val_loss: 0.6137 - val_accuracy: 0.5945\n",
      "\n",
      "Epoch 00061: val_loss did not improve from 0.61274\n",
      "Epoch 62/130\n",
      "683/683 [==============================] - 4s 5ms/step - loss: 0.6206 - accuracy: 0.6025 - val_loss: 0.6176 - val_accuracy: 0.5945\n",
      "\n",
      "Epoch 00062: val_loss did not improve from 0.61274\n",
      "Epoch 63/130\n",
      "683/683 [==============================] - 3s 5ms/step - loss: 0.6182 - accuracy: 0.6024 - val_loss: 0.6419 - val_accuracy: 0.5945\n",
      "\n",
      "Epoch 00063: val_loss did not improve from 0.61274\n",
      "Epoch 64/130\n",
      "683/683 [==============================] - 4s 5ms/step - loss: 0.6277 - accuracy: 0.6025 - val_loss: 0.6152 - val_accuracy: 0.5945\n",
      "\n",
      "Epoch 00064: val_loss did not improve from 0.61274\n",
      "Epoch 65/130\n",
      "683/683 [==============================] - 4s 6ms/step - loss: 0.6242 - accuracy: 0.6024 - val_loss: 0.6149 - val_accuracy: 0.5945\n",
      "\n",
      "Epoch 00065: val_loss did not improve from 0.61274\n",
      "Epoch 66/130\n",
      "683/683 [==============================] - 5s 7ms/step - loss: 0.6193 - accuracy: 0.6024 - val_loss: 0.6148 - val_accuracy: 0.5945\n",
      "\n",
      "Epoch 00066: val_loss did not improve from 0.61274\n",
      "Epoch 67/130\n",
      "683/683 [==============================] - 5s 7ms/step - loss: 0.6218 - accuracy: 0.6025 - val_loss: 0.6114 - val_accuracy: 0.5945\n",
      "\n",
      "Epoch 00067: val_loss improved from 0.61274 to 0.61138, saving model to saved_models\\weights.best.basic_mlp.h5\n",
      "Epoch 68/130\n",
      "683/683 [==============================] - 5s 7ms/step - loss: 0.6189 - accuracy: 0.6024 - val_loss: 0.6160 - val_accuracy: 0.5945\n",
      "\n",
      "Epoch 00068: val_loss did not improve from 0.61138\n",
      "Epoch 69/130\n",
      "683/683 [==============================] - 6s 8ms/step - loss: 0.6216 - accuracy: 0.6024 - val_loss: 0.6133 - val_accuracy: 0.5945\n",
      "\n",
      "Epoch 00069: val_loss did not improve from 0.61138\n",
      "Epoch 70/130\n",
      "683/683 [==============================] - 5s 7ms/step - loss: 0.6207 - accuracy: 0.6024 - val_loss: 0.6151 - val_accuracy: 0.5945\n",
      "\n",
      "Epoch 00070: val_loss did not improve from 0.61138\n",
      "Epoch 71/130\n",
      "683/683 [==============================] - 5s 7ms/step - loss: 0.6197 - accuracy: 0.6023 - val_loss: 0.6428 - val_accuracy: 0.5945\n",
      "\n",
      "Epoch 00071: val_loss did not improve from 0.61138\n",
      "Epoch 72/130\n",
      "683/683 [==============================] - 6s 9ms/step - loss: 0.6191 - accuracy: 0.6025 - val_loss: 0.6298 - val_accuracy: 0.5945\n",
      "\n",
      "Epoch 00072: val_loss did not improve from 0.61138\n",
      "Epoch 73/130\n",
      "683/683 [==============================] - 6s 9ms/step - loss: 0.6178 - accuracy: 0.6024 - val_loss: 0.6367 - val_accuracy: 0.5945\n",
      "\n",
      "Epoch 00073: val_loss did not improve from 0.61138\n",
      "Epoch 74/130\n",
      "683/683 [==============================] - 4s 6ms/step - loss: 0.6171 - accuracy: 0.6024 - val_loss: 0.6197 - val_accuracy: 0.5945\n",
      "\n",
      "Epoch 00074: val_loss did not improve from 0.61138\n",
      "Epoch 75/130\n",
      "683/683 [==============================] - 4s 6ms/step - loss: 0.6209 - accuracy: 0.6025 - val_loss: 0.6277 - val_accuracy: 0.5945\n",
      "\n",
      "Epoch 00075: val_loss did not improve from 0.61138\n",
      "Epoch 76/130\n",
      "683/683 [==============================] - 4s 5ms/step - loss: 0.6219 - accuracy: 0.6026 - val_loss: 0.6149 - val_accuracy: 0.5945\n",
      "\n",
      "Epoch 00076: val_loss did not improve from 0.61138\n",
      "Epoch 77/130\n",
      "683/683 [==============================] - 3s 5ms/step - loss: 0.6192 - accuracy: 0.6024 - val_loss: 0.6199 - val_accuracy: 0.5945\n",
      "\n",
      "Epoch 00077: val_loss did not improve from 0.61138\n",
      "Epoch 78/130\n",
      "683/683 [==============================] - 3s 5ms/step - loss: 0.6172 - accuracy: 0.6024 - val_loss: 0.6134 - val_accuracy: 0.5945\n",
      "\n",
      "Epoch 00078: val_loss did not improve from 0.61138\n",
      "Epoch 79/130\n",
      "683/683 [==============================] - 3s 5ms/step - loss: 0.6153 - accuracy: 0.6024 - val_loss: 0.6218 - val_accuracy: 0.5945\n",
      "\n",
      "Epoch 00079: val_loss did not improve from 0.61138\n",
      "Epoch 80/130\n",
      "683/683 [==============================] - 3s 4ms/step - loss: 0.6167 - accuracy: 0.6024 - val_loss: 0.6178 - val_accuracy: 0.5945\n",
      "\n",
      "Epoch 00080: val_loss did not improve from 0.61138\n",
      "Epoch 81/130\n",
      "683/683 [==============================] - 3s 5ms/step - loss: 0.6194 - accuracy: 0.6026 - val_loss: 0.6125 - val_accuracy: 0.5945\n",
      "\n",
      "Epoch 00081: val_loss did not improve from 0.61138\n",
      "Epoch 82/130\n",
      "683/683 [==============================] - 3s 4ms/step - loss: 0.6170 - accuracy: 0.6025 - val_loss: 0.6186 - val_accuracy: 0.5945\n",
      "\n",
      "Epoch 00082: val_loss did not improve from 0.61138\n",
      "Epoch 83/130\n",
      "683/683 [==============================] - 3s 4ms/step - loss: 0.6199 - accuracy: 0.6024 - val_loss: 0.6129 - val_accuracy: 0.5945\n",
      "\n",
      "Epoch 00083: val_loss did not improve from 0.61138\n",
      "Epoch 84/130\n",
      "683/683 [==============================] - 3s 4ms/step - loss: 0.6176 - accuracy: 0.6025 - val_loss: 0.6289 - val_accuracy: 0.5945\n",
      "\n",
      "Epoch 00084: val_loss did not improve from 0.61138\n",
      "Epoch 85/130\n",
      "683/683 [==============================] - 3s 4ms/step - loss: 0.6168 - accuracy: 0.6023 - val_loss: 0.6152 - val_accuracy: 0.5945\n",
      "\n",
      "Epoch 00085: val_loss did not improve from 0.61138\n",
      "Epoch 86/130\n",
      "683/683 [==============================] - 3s 4ms/step - loss: 0.6155 - accuracy: 0.6024 - val_loss: 0.6162 - val_accuracy: 0.5945\n",
      "\n",
      "Epoch 00086: val_loss did not improve from 0.61138\n",
      "Epoch 87/130\n",
      "683/683 [==============================] - 3s 4ms/step - loss: 0.6193 - accuracy: 0.6022 - val_loss: 0.6271 - val_accuracy: 0.5945\n",
      "\n",
      "Epoch 00087: val_loss did not improve from 0.61138\n",
      "Epoch 88/130\n",
      "683/683 [==============================] - 3s 4ms/step - loss: 0.6217 - accuracy: 0.6024 - val_loss: 0.6124 - val_accuracy: 0.5945\n",
      "\n",
      "Epoch 00088: val_loss did not improve from 0.61138\n",
      "Epoch 89/130\n",
      "683/683 [==============================] - 3s 4ms/step - loss: 0.6216 - accuracy: 0.6024 - val_loss: 0.6110 - val_accuracy: 0.5945\n",
      "\n",
      "Epoch 00089: val_loss improved from 0.61138 to 0.61097, saving model to saved_models\\weights.best.basic_mlp.h5\n",
      "Epoch 90/130\n",
      "683/683 [==============================] - 3s 5ms/step - loss: 0.6172 - accuracy: 0.6024 - val_loss: 0.6110 - val_accuracy: 0.5945\n",
      "\n",
      "Epoch 00090: val_loss did not improve from 0.61097\n",
      "Epoch 91/130\n",
      "683/683 [==============================] - 3s 4ms/step - loss: 0.6183 - accuracy: 0.6023 - val_loss: 0.6136 - val_accuracy: 0.5945\n",
      "\n",
      "Epoch 00091: val_loss did not improve from 0.61097\n",
      "Epoch 92/130\n",
      "683/683 [==============================] - 3s 4ms/step - loss: 0.6183 - accuracy: 0.6025 - val_loss: 0.6181 - val_accuracy: 0.5945\n",
      "\n",
      "Epoch 00092: val_loss did not improve from 0.61097\n",
      "Epoch 93/130\n",
      "683/683 [==============================] - 3s 5ms/step - loss: 0.6150 - accuracy: 0.6024 - val_loss: 0.6096 - val_accuracy: 0.5945\n",
      "\n",
      "Epoch 00093: val_loss improved from 0.61097 to 0.60964, saving model to saved_models\\weights.best.basic_mlp.h5\n",
      "Epoch 94/130\n",
      "683/683 [==============================] - 3s 4ms/step - loss: 0.6172 - accuracy: 0.6026 - val_loss: 0.6208 - val_accuracy: 0.5945\n",
      "\n",
      "Epoch 00094: val_loss did not improve from 0.60964\n",
      "Epoch 95/130\n",
      "683/683 [==============================] - 4s 5ms/step - loss: 0.6170 - accuracy: 0.6025 - val_loss: 0.6104 - val_accuracy: 0.5945\n",
      "\n",
      "Epoch 00095: val_loss did not improve from 0.60964\n",
      "Epoch 96/130\n",
      "683/683 [==============================] - 4s 5ms/step - loss: 0.6201 - accuracy: 0.6024 - val_loss: 0.6188 - val_accuracy: 0.5945\n",
      "\n",
      "Epoch 00096: val_loss did not improve from 0.60964\n",
      "Epoch 97/130\n",
      "683/683 [==============================] - 3s 5ms/step - loss: 0.6175 - accuracy: 0.6024 - val_loss: 0.6111 - val_accuracy: 0.5945\n",
      "\n",
      "Epoch 00097: val_loss did not improve from 0.60964\n",
      "Epoch 98/130\n",
      "683/683 [==============================] - 3s 5ms/step - loss: 0.6164 - accuracy: 0.6024 - val_loss: 0.6217 - val_accuracy: 0.5945\n",
      "\n",
      "Epoch 00098: val_loss did not improve from 0.60964\n",
      "Epoch 99/130\n",
      "683/683 [==============================] - 4s 5ms/step - loss: 0.6162 - accuracy: 0.6025 - val_loss: 0.6092 - val_accuracy: 0.5945\n",
      "\n",
      "Epoch 00099: val_loss improved from 0.60964 to 0.60921, saving model to saved_models\\weights.best.basic_mlp.h5\n",
      "Epoch 100/130\n",
      "683/683 [==============================] - 4s 6ms/step - loss: 0.6133 - accuracy: 0.6024 - val_loss: 0.6121 - val_accuracy: 0.5945\n",
      "\n",
      "Epoch 00100: val_loss did not improve from 0.60921\n",
      "Epoch 101/130\n",
      "683/683 [==============================] - 4s 6ms/step - loss: 0.6123 - accuracy: 0.6025 - val_loss: 0.6173 - val_accuracy: 0.5945\n",
      "\n",
      "Epoch 00101: val_loss did not improve from 0.60921\n",
      "Epoch 102/130\n",
      "683/683 [==============================] - 4s 6ms/step - loss: 0.6226 - accuracy: 0.6025 - val_loss: 0.6110 - val_accuracy: 0.5945\n",
      "\n",
      "Epoch 00102: val_loss did not improve from 0.60921\n",
      "Epoch 103/130\n",
      "683/683 [==============================] - 4s 6ms/step - loss: 0.6178 - accuracy: 0.6025 - val_loss: 0.6488 - val_accuracy: 0.5945\n",
      "\n",
      "Epoch 00103: val_loss did not improve from 0.60921\n",
      "Epoch 104/130\n",
      "683/683 [==============================] - 5s 8ms/step - loss: 0.6230 - accuracy: 0.6024 - val_loss: 0.6250 - val_accuracy: 0.5945\n",
      "\n",
      "Epoch 00104: val_loss did not improve from 0.60921\n",
      "Epoch 105/130\n",
      "683/683 [==============================] - 5s 8ms/step - loss: 0.6170 - accuracy: 0.6024 - val_loss: 0.6245 - val_accuracy: 0.5945\n",
      "\n",
      "Epoch 00105: val_loss did not improve from 0.60921\n",
      "Epoch 106/130\n",
      "683/683 [==============================] - 5s 7ms/step - loss: 0.6146 - accuracy: 0.6025 - val_loss: 0.6294 - val_accuracy: 0.5945\n",
      "\n",
      "Epoch 00106: val_loss did not improve from 0.60921\n",
      "Epoch 107/130\n",
      "683/683 [==============================] - 5s 7ms/step - loss: 0.6178 - accuracy: 0.6025 - val_loss: 0.6292 - val_accuracy: 0.5945\n",
      "\n",
      "Epoch 00107: val_loss did not improve from 0.60921\n",
      "Epoch 108/130\n",
      "683/683 [==============================] - 5s 8ms/step - loss: 0.6144 - accuracy: 0.6023 - val_loss: 0.6176 - val_accuracy: 0.5945\n",
      "\n",
      "Epoch 00108: val_loss did not improve from 0.60921\n",
      "Epoch 109/130\n",
      "683/683 [==============================] - 4s 7ms/step - loss: 0.6155 - accuracy: 0.6024 - val_loss: 0.6173 - val_accuracy: 0.5945\n",
      "\n",
      "Epoch 00109: val_loss did not improve from 0.60921\n",
      "Epoch 110/130\n",
      "683/683 [==============================] - 4s 6ms/step - loss: 0.6142 - accuracy: 0.6025 - val_loss: 0.6360 - val_accuracy: 0.5945\n",
      "\n",
      "Epoch 00110: val_loss did not improve from 0.60921\n",
      "Epoch 111/130\n",
      "683/683 [==============================] - 4s 6ms/step - loss: 0.6165 - accuracy: 0.6025 - val_loss: 0.6157 - val_accuracy: 0.5945\n",
      "\n",
      "Epoch 00111: val_loss did not improve from 0.60921\n",
      "Epoch 112/130\n",
      "683/683 [==============================] - 4s 5ms/step - loss: 0.6139 - accuracy: 0.6023 - val_loss: 0.6094 - val_accuracy: 0.5945\n",
      "\n",
      "Epoch 00112: val_loss did not improve from 0.60921\n",
      "Epoch 113/130\n",
      "683/683 [==============================] - 4s 5ms/step - loss: 0.6154 - accuracy: 0.6026 - val_loss: 0.6232 - val_accuracy: 0.5945\n",
      "\n",
      "Epoch 00113: val_loss did not improve from 0.60921\n",
      "Epoch 114/130\n",
      "683/683 [==============================] - 3s 5ms/step - loss: 0.6148 - accuracy: 0.6025 - val_loss: 0.6205 - val_accuracy: 0.5945\n",
      "\n",
      "Epoch 00114: val_loss did not improve from 0.60921\n",
      "Epoch 115/130\n",
      "683/683 [==============================] - 3s 5ms/step - loss: 0.6218 - accuracy: 0.6023 - val_loss: 0.6100 - val_accuracy: 0.5945\n",
      "\n",
      "Epoch 00115: val_loss did not improve from 0.60921\n",
      "Epoch 116/130\n",
      "683/683 [==============================] - 3s 5ms/step - loss: 0.6140 - accuracy: 0.6024 - val_loss: 0.6979 - val_accuracy: 0.5945\n",
      "\n",
      "Epoch 00116: val_loss did not improve from 0.60921\n",
      "Epoch 117/130\n",
      "683/683 [==============================] - 3s 5ms/step - loss: 0.6300 - accuracy: 0.6022 - val_loss: 0.6222 - val_accuracy: 0.5945\n",
      "\n",
      "Epoch 00117: val_loss did not improve from 0.60921\n",
      "Epoch 118/130\n",
      "683/683 [==============================] - 3s 4ms/step - loss: 0.6233 - accuracy: 0.6025 - val_loss: 0.6234 - val_accuracy: 0.5945\n",
      "\n",
      "Epoch 00118: val_loss did not improve from 0.60921\n",
      "Epoch 119/130\n",
      "683/683 [==============================] - 3s 5ms/step - loss: 0.6264 - accuracy: 0.6025 - val_loss: 0.6222 - val_accuracy: 0.5945\n",
      "\n",
      "Epoch 00119: val_loss did not improve from 0.60921\n",
      "Epoch 120/130\n",
      "683/683 [==============================] - 3s 4ms/step - loss: 0.6199 - accuracy: 0.6024 - val_loss: 0.6254 - val_accuracy: 0.5945\n",
      "\n",
      "Epoch 00120: val_loss did not improve from 0.60921\n",
      "Epoch 121/130\n",
      "683/683 [==============================] - 3s 4ms/step - loss: 0.6183 - accuracy: 0.6024 - val_loss: 0.6126 - val_accuracy: 0.5945\n",
      "\n",
      "Epoch 00121: val_loss did not improve from 0.60921\n",
      "Epoch 122/130\n",
      "683/683 [==============================] - 3s 4ms/step - loss: 0.6194 - accuracy: 0.6023 - val_loss: 0.6337 - val_accuracy: 0.5945\n",
      "\n",
      "Epoch 00122: val_loss did not improve from 0.60921\n",
      "Epoch 123/130\n",
      "683/683 [==============================] - 3s 4ms/step - loss: 0.6178 - accuracy: 0.6024 - val_loss: 0.6339 - val_accuracy: 0.5945\n",
      "\n",
      "Epoch 00123: val_loss did not improve from 0.60921\n",
      "Epoch 124/130\n",
      "683/683 [==============================] - 3s 4ms/step - loss: 0.6172 - accuracy: 0.6025 - val_loss: 0.6374 - val_accuracy: 0.5945\n",
      "\n",
      "Epoch 00124: val_loss did not improve from 0.60921\n",
      "Epoch 125/130\n",
      "683/683 [==============================] - 3s 4ms/step - loss: 0.6161 - accuracy: 0.6025 - val_loss: 0.6148 - val_accuracy: 0.5945\n",
      "\n",
      "Epoch 00125: val_loss did not improve from 0.60921\n",
      "Epoch 126/130\n",
      "683/683 [==============================] - 3s 4ms/step - loss: 0.6186 - accuracy: 0.6024 - val_loss: 0.6385 - val_accuracy: 0.5945\n",
      "\n",
      "Epoch 00126: val_loss did not improve from 0.60921\n",
      "Epoch 127/130\n",
      "683/683 [==============================] - 3s 4ms/step - loss: 0.6260 - accuracy: 0.6024 - val_loss: 0.6179 - val_accuracy: 0.5945\n",
      "\n",
      "Epoch 00127: val_loss did not improve from 0.60921\n",
      "Epoch 128/130\n",
      "683/683 [==============================] - 3s 4ms/step - loss: 0.6187 - accuracy: 0.6025 - val_loss: 0.6160 - val_accuracy: 0.5945\n",
      "\n",
      "Epoch 00128: val_loss did not improve from 0.60921\n",
      "Epoch 129/130\n",
      "683/683 [==============================] - 3s 4ms/step - loss: 0.6182 - accuracy: 0.6024 - val_loss: 0.6160 - val_accuracy: 0.5945\n",
      "\n",
      "Epoch 00129: val_loss did not improve from 0.60921\n",
      "Epoch 130/130\n",
      "683/683 [==============================] - 3s 4ms/step - loss: 0.6230 - accuracy: 0.6025 - val_loss: 0.6248 - val_accuracy: 0.5945\n",
      "\n",
      "Epoch 00130: val_loss did not improve from 0.60921\n",
      "Training completed in time:  0:06:54.909422\n"
     ]
    }
   ],
   "source": [
    "from keras.callbacks import ModelCheckpoint \n",
    "from datetime import datetime \n",
    "\n",
    "num_epochs = 130\n",
    "num_batch_size = 32\n",
    "\n",
    "checkpointer = ModelCheckpoint(filepath='saved_models/weights.best.basic_mlp.h5', \n",
    "                               verbose=1, save_best_only=True)\n",
    "start = datetime.now()\n",
    "\n",
    "history = model.fit(x_train, y_train, batch_size=num_batch_size, epochs=num_epochs, validation_data=(x_test, y_test), callbacks=[checkpointer], verbose=1)\n",
    "\n",
    "\n",
    "duration = datetime.now() - start\n",
    "print(\"Training completed in time: \", duration)"
   ]
  },
  {
   "cell_type": "markdown",
   "metadata": {},
   "source": [
    "### Test the model \n",
    "\n",
    "Here we will review the accuracy of the model on both the training and test data sets. "
   ]
  },
  {
   "cell_type": "code",
   "execution_count": 23,
   "metadata": {},
   "outputs": [
    {
     "name": "stdout",
     "output_type": "stream",
     "text": [
      "INFO:tensorflow:Assets written to: saved_models/mlp_ka_sapna\\assets\n"
     ]
    }
   ],
   "source": [
    "model.save('saved_models/mlp_ka_sapna')"
   ]
  },
  {
   "cell_type": "code",
   "execution_count": 24,
   "metadata": {},
   "outputs": [
    {
     "name": "stdout",
     "output_type": "stream",
     "text": [
      "Training Accuracy:  0.6024631261825562\n",
      "Testing Accuracy:  0.5945310592651367\n"
     ]
    }
   ],
   "source": [
    "# Evaluating the model on the training and testing set\n",
    "model=load_model('saved_models/mlp_ka_sapna')\n",
    "\n",
    "training_accuracy = model.evaluate(x_train, y_train, verbose=0)\n",
    "print(\"Training Accuracy: \", training_accuracy[1])\n",
    "\n",
    "testing_accuracy = model.evaluate(x_test, y_test, verbose=0)\n",
    "\n",
    "print(\"Testing Accuracy: \", testing_accuracy[1])"
   ]
  },
  {
   "cell_type": "markdown",
   "metadata": {},
   "source": [
    "The initial Training and Testing accuracy scores are quite high. As there is not a great difference between the Training and Test scores (~5%) this suggests that the model has not suffered from overfitting. "
   ]
  },
  {
   "cell_type": "code",
   "execution_count": 30,
   "metadata": {},
   "outputs": [
    {
     "name": "stdout",
     "output_type": "stream",
     "text": [
      "[[0.5484351  0.45156488]\n",
      " [0.5484351  0.45156488]\n",
      " [0.99102205 0.00897799]\n",
      " ...\n",
      " [0.5484351  0.45156488]\n",
      " [0.5484351  0.45156488]\n",
      " [0.5484351  0.45156488]]\n"
     ]
    }
   ],
   "source": [
    "#predicted_vector = model.predict(x_test)\n",
    "from sklearn.preprocessing import LabelEncoder\n",
    "from tensorflow.keras.utils import to_categorical\n",
    "predict_x=model.predict(x_test) \n",
    "predicted_vector=np.argmax(predict_x,axis=1)\n",
    "le = LabelEncoder()\n",
    "yy_pred = to_categorical(le.fit_transform(predicted_vector)) \n",
    "print(predict_x)"
   ]
  },
  {
   "cell_type": "code",
   "execution_count": 28,
   "metadata": {},
   "outputs": [
    {
     "name": "stdout",
     "output_type": "stream",
     "text": [
      "Normalized confusion matrix\n",
      "[[1. 0.]\n",
      " [1. 0.]]\n"
     ]
    },
    {
     "data": {
      "image/png": "[encoded data removed]",
      "text/plain": [
       "<Figure size 432x288 with 2 Axes>"
      ]
     },
     "metadata": {
      "needs_background": "light"
     },
     "output_type": "display_data"
    }
   ],
   "source": [
    "from sklearn.metrics import classification_report\n",
    "from sklearn.metrics import confusion_matrix\n",
    "from sklearn.metrics import plot_confusion_matrix\n",
    "import matplotlib.pyplot as plt\n",
    "import itertools\n",
    "\n",
    "def plot_confusion_matrix(cm, classes,\n",
    "                          normalize=False,\n",
    "                          title='Confusion matrix',\n",
    "                          cmap=plt.cm.Blues):\n",
    "    plt.imshow(cm, interpolation='nearest', cmap=cmap)\n",
    "    plt.title(title)\n",
    "    plt.colorbar()\n",
    "    tick_marks = np.arange(len(classes))\n",
    "    plt.xticks(tick_marks, classes, rotation=45)\n",
    "    plt.yticks(tick_marks, classes)\n",
    "\n",
    "    if normalize:\n",
    "        cm = cm.astype('float') / cm.sum(axis=1)[:, np.newaxis]\n",
    "        print(\"Normalized confusion matrix\")\n",
    "    else:\n",
    "        print('Confusion matrix, without normalization')\n",
    "\n",
    "    print(cm)\n",
    "    np.set_printoptions(precision=2)\n",
    "    thresh = cm.max() / 2.\n",
    "    for i, j in itertools.product(range(cm.shape[0]), range(cm.shape[1])):\n",
    "        plt.text(j, i, cm[i, j],\n",
    "                 horizontalalignment=\"center\",\n",
    "                 color=\"white\" if cm[i, j] > thresh else \"black\")\n",
    "\n",
    "    plt.tight_layout()\n",
    "    plt.ylabel('True label')\n",
    "    plt.xlabel('Predicted label')\n",
    "\n",
    "\n",
    "cnf_matrix=confusion_matrix(y_test.argmax(axis=1),yy_pred.argmax(axis=1))\n",
    "np.set_printoptions(precision=2)\n",
    "plt.figure()\n",
    "plot_confusion_matrix(cnf_matrix, ['negative','positive'],\n",
    "                      'Confusion matrix, without normalization')\n",
    "plt.show()\n",
    "\n",
    "\n"
   ]
  },
  {
   "cell_type": "code",
   "execution_count": 29,
   "metadata": {},
   "outputs": [
    {
     "name": "stdout",
     "output_type": "stream",
     "text": [
      "              precision    recall  f1-score   support\n",
      "\n",
      "           0       1.00      0.59      0.75      9362\n",
      "           1       0.00      0.00      0.00         0\n",
      "\n",
      "    accuracy                           0.59      9362\n",
      "   macro avg       0.50      0.30      0.37      9362\n",
      "weighted avg       1.00      0.59      0.75      9362\n",
      "\n"
     ]
    }
   ],
   "source": [
    "print(classification_report(yy_pred.argmax(axis=1),y_test.argmax(axis=1)))"
   ]
  },
  {
   "cell_type": "code",
   "execution_count": 24,
   "metadata": {},
   "outputs": [
    {
     "data": {
      "text/plain": [
       "<matplotlib.legend.Legend at 0x272a8959850>"
      ]
     },
     "execution_count": 24,
     "metadata": {},
     "output_type": "execute_result"
    },
    {
     "data": {
      "image/png": "[encoded data removed]",
      "text/plain": [
       "<Figure size 1008x432 with 2 Axes>"
      ]
     },
     "metadata": {
      "needs_background": "light"
     },
     "output_type": "display_data"
    }
   ],
   "source": [
    "import matplotlib.pyplot as plt\n",
    " \n",
    "history_dict = history.history\n",
    "loss_values = history_dict['loss']\n",
    "val_loss_values = history_dict['val_loss']\n",
    "accuracy = history_dict['accuracy']\n",
    "val_accuracy = history_dict['val_accuracy']\n",
    " \n",
    "epochs = range(1, len(loss_values) + 1)\n",
    "fig, ax = plt.subplots(1, 2, figsize=(14, 6))\n",
    "#\n",
    "# Plot the model accuracy vs Epochs\n",
    "#\n",
    "ax[0].plot(epochs, accuracy, 'ro', label='Training accuracy')\n",
    "ax[0].plot(epochs, val_accuracy, 'b', label='Validation accuracy')\n",
    "ax[0].set_title('Training & Validation Accuracy', fontsize=16)\n",
    "ax[0].set_xlabel('Epochs', fontsize=16)\n",
    "ax[0].set_ylabel('Accuracy', fontsize=16)\n",
    "ax[0].legend()\n",
    "#\n",
    "# Plot the loss vs Epochs\n",
    "#\n",
    "ax[1].plot(epochs, loss_values, 'ro', label='Training loss')\n",
    "ax[1].plot(epochs, val_loss_values, 'b', label='Validation loss')\n",
    "ax[1].set_title('Training & Validation Loss', fontsize=16)\n",
    "ax[1].set_xlabel('Epochs', fontsize=16)\n",
    "ax[1].set_ylabel('Loss', fontsize=16)\n",
    "ax[1].legend()"
   ]
  },
  {
   "cell_type": "markdown",
   "metadata": {},
   "source": [
    "### Predictions  \n",
    "\n",
    "Here we will build a method which will allow us to test the models predictions on a specified audio .wav file. "
   ]
  },
  {
   "cell_type": "code",
   "execution_count": 25,
   "metadata": {},
   "outputs": [],
   "source": [
    "import librosa \n",
    "import numpy as np \n",
    "\n",
    "def extract_feature(file_name):\n",
    "   \n",
    "    try:\n",
    "        audio_data, sample_rate = librosa.load(file_name, res_type='kaiser_fast') \n",
    "        mfccs = librosa.feature.mfcc(y=audio_data, sr=sample_rate, n_mfcc=40)\n",
    "        mfccsscaled = np.mean(mfccs.T,axis=0)\n",
    "        \n",
    "    except Exception as e:\n",
    "        print(\"Error encountered while parsing file: \", file_name)\n",
    "        return None, None\n",
    "\n",
    "    return np.array([mfccsscaled])\n"
   ]
  },
  {
   "cell_type": "code",
   "execution_count": 26,
   "metadata": {},
   "outputs": [],
   "source": [
    "def print_prediction(file_name):\n",
    "    prediction_feature = extract_feature(file_name) \n",
    "\n",
    "    #predicted_vector = model.predict_classes(prediction_feature)\n",
    "    predict_x=model.predict(prediction_feature) \n",
    "    predicted_vector=np.argmax(predict_x,axis=1)\n",
    "    predicted_class = le.inverse_transform(predicted_vector) \n",
    "    print(\"The predicted class is:\", predicted_class[0], '\\n') \n",
    "\n",
    "    predicted_proba_vector = model.predict(prediction_feature) \n",
    "    predicted_proba = predicted_proba_vector[0]\n",
    "    for i in range(len(predicted_proba)): \n",
    "        category = le.inverse_transform(np.array([i]))\n",
    "        print(category[0], \"\\t\\t : \", format(predicted_proba[i], '.32f') )"
   ]
  },
  {
   "cell_type": "markdown",
   "metadata": {},
   "source": [
    "### Validation \n",
    "\n",
    "#### Test with sample data \n",
    "\n",
    "Initial sainity check to verify the predictions using a subsection of the sample audio files we explored in the first notebook. We expect the bulk of these to be classified correctly. "
   ]
  },
  {
   "cell_type": "code",
   "execution_count": 27,
   "metadata": {},
   "outputs": [
    {
     "name": "stderr",
     "output_type": "stream",
     "text": [
      "C:\\Users\\yajwi\\anaconda3\\lib\\site-packages\\librosa\\core\\audio.py:162: UserWarning: PySoundFile failed. Trying audioread instead.\n",
      "  warnings.warn(\"PySoundFile failed. Trying audioread instead.\")\n"
     ]
    },
    {
     "name": "stdout",
     "output_type": "stream",
     "text": [
      "Error encountered while parsing file:  ./clinical/converted/neg/neg-0421-088-cough-f-66.wav\n"
     ]
    },
    {
     "ename": "ValueError",
     "evalue": "Failed to find data adapter that can handle input: (<class 'tuple'> containing values of types {\"<class 'NoneType'>\"}), <class 'NoneType'>",
     "output_type": "error",
     "traceback": [
      "\u001b[1;31m---------------------------------------------------------------------------\u001b[0m",
      "\u001b[1;31mValueError\u001b[0m                                Traceback (most recent call last)",
      "\u001b[1;32m<ipython-input-27-037e57a34688>\u001b[0m in \u001b[0;36m<module>\u001b[1;34m\u001b[0m\n\u001b[0;32m      2\u001b[0m \u001b[1;33m\u001b[0m\u001b[0m\n\u001b[0;32m      3\u001b[0m \u001b[0mfilename\u001b[0m \u001b[1;33m=\u001b[0m \u001b[1;34m'./clinical/converted/neg/neg-0421-088-cough-f-66.wav'\u001b[0m\u001b[1;33m\u001b[0m\u001b[1;33m\u001b[0m\u001b[0m\n\u001b[1;32m----> 4\u001b[1;33m \u001b[0mprint_prediction\u001b[0m\u001b[1;33m(\u001b[0m\u001b[0mfilename\u001b[0m\u001b[1;33m)\u001b[0m\u001b[1;33m\u001b[0m\u001b[1;33m\u001b[0m\u001b[0m\n\u001b[0m",
      "\u001b[1;32m<ipython-input-26-85ccf61e4314>\u001b[0m in \u001b[0;36mprint_prediction\u001b[1;34m(file_name)\u001b[0m\n\u001b[0;32m      3\u001b[0m \u001b[1;33m\u001b[0m\u001b[0m\n\u001b[0;32m      4\u001b[0m     \u001b[1;31m#predicted_vector = model.predict_classes(prediction_feature)\u001b[0m\u001b[1;33m\u001b[0m\u001b[1;33m\u001b[0m\u001b[1;33m\u001b[0m\u001b[0m\n\u001b[1;32m----> 5\u001b[1;33m     \u001b[0mpredict_x\u001b[0m\u001b[1;33m=\u001b[0m\u001b[0mmodel\u001b[0m\u001b[1;33m.\u001b[0m\u001b[0mpredict\u001b[0m\u001b[1;33m(\u001b[0m\u001b[0mprediction_feature\u001b[0m\u001b[1;33m)\u001b[0m\u001b[1;33m\u001b[0m\u001b[1;33m\u001b[0m\u001b[0m\n\u001b[0m\u001b[0;32m      6\u001b[0m     \u001b[0mpredicted_vector\u001b[0m\u001b[1;33m=\u001b[0m\u001b[0mnp\u001b[0m\u001b[1;33m.\u001b[0m\u001b[0margmax\u001b[0m\u001b[1;33m(\u001b[0m\u001b[0mpredict_x\u001b[0m\u001b[1;33m,\u001b[0m\u001b[0maxis\u001b[0m\u001b[1;33m=\u001b[0m\u001b[1;36m1\u001b[0m\u001b[1;33m)\u001b[0m\u001b[1;33m\u001b[0m\u001b[1;33m\u001b[0m\u001b[0m\n\u001b[0;32m      7\u001b[0m     \u001b[0mpredicted_class\u001b[0m \u001b[1;33m=\u001b[0m \u001b[0mle\u001b[0m\u001b[1;33m.\u001b[0m\u001b[0minverse_transform\u001b[0m\u001b[1;33m(\u001b[0m\u001b[0mpredicted_vector\u001b[0m\u001b[1;33m)\u001b[0m\u001b[1;33m\u001b[0m\u001b[1;33m\u001b[0m\u001b[0m\n",
      "\u001b[1;32m~\\anaconda3\\lib\\site-packages\\tensorflow\\python\\keras\\engine\\training.py\u001b[0m in \u001b[0;36mpredict\u001b[1;34m(self, x, batch_size, verbose, steps, callbacks, max_queue_size, workers, use_multiprocessing)\u001b[0m\n\u001b[0;32m   1596\u001b[0m                         '. Consider setting it to AutoShardPolicy.DATA.')\n\u001b[0;32m   1597\u001b[0m \u001b[1;33m\u001b[0m\u001b[0m\n\u001b[1;32m-> 1598\u001b[1;33m       data_handler = data_adapter.DataHandler(\n\u001b[0m\u001b[0;32m   1599\u001b[0m           \u001b[0mx\u001b[0m\u001b[1;33m=\u001b[0m\u001b[0mx\u001b[0m\u001b[1;33m,\u001b[0m\u001b[1;33m\u001b[0m\u001b[1;33m\u001b[0m\u001b[0m\n\u001b[0;32m   1600\u001b[0m           \u001b[0mbatch_size\u001b[0m\u001b[1;33m=\u001b[0m\u001b[0mbatch_size\u001b[0m\u001b[1;33m,\u001b[0m\u001b[1;33m\u001b[0m\u001b[1;33m\u001b[0m\u001b[0m\n",
      "\u001b[1;32m~\\anaconda3\\lib\\site-packages\\tensorflow\\python\\keras\\engine\\data_adapter.py\u001b[0m in \u001b[0;36m__init__\u001b[1;34m(self, x, y, sample_weight, batch_size, steps_per_epoch, initial_epoch, epochs, shuffle, class_weight, max_queue_size, workers, use_multiprocessing, model, steps_per_execution)\u001b[0m\n\u001b[0;32m   1097\u001b[0m       \u001b[0mself\u001b[0m\u001b[1;33m.\u001b[0m\u001b[0m_steps_per_execution_value\u001b[0m \u001b[1;33m=\u001b[0m \u001b[0msteps_per_execution\u001b[0m\u001b[1;33m.\u001b[0m\u001b[0mnumpy\u001b[0m\u001b[1;33m(\u001b[0m\u001b[1;33m)\u001b[0m\u001b[1;33m.\u001b[0m\u001b[0mitem\u001b[0m\u001b[1;33m(\u001b[0m\u001b[1;33m)\u001b[0m\u001b[1;33m\u001b[0m\u001b[1;33m\u001b[0m\u001b[0m\n\u001b[0;32m   1098\u001b[0m \u001b[1;33m\u001b[0m\u001b[0m\n\u001b[1;32m-> 1099\u001b[1;33m     \u001b[0madapter_cls\u001b[0m \u001b[1;33m=\u001b[0m \u001b[0mselect_data_adapter\u001b[0m\u001b[1;33m(\u001b[0m\u001b[0mx\u001b[0m\u001b[1;33m,\u001b[0m \u001b[0my\u001b[0m\u001b[1;33m)\u001b[0m\u001b[1;33m\u001b[0m\u001b[1;33m\u001b[0m\u001b[0m\n\u001b[0m\u001b[0;32m   1100\u001b[0m     self._adapter = adapter_cls(\n\u001b[0;32m   1101\u001b[0m         \u001b[0mx\u001b[0m\u001b[1;33m,\u001b[0m\u001b[1;33m\u001b[0m\u001b[1;33m\u001b[0m\u001b[0m\n",
      "\u001b[1;32m~\\anaconda3\\lib\\site-packages\\tensorflow\\python\\keras\\engine\\data_adapter.py\u001b[0m in \u001b[0;36mselect_data_adapter\u001b[1;34m(x, y)\u001b[0m\n\u001b[0;32m    959\u001b[0m   \u001b[1;32mif\u001b[0m \u001b[1;32mnot\u001b[0m \u001b[0madapter_cls\u001b[0m\u001b[1;33m:\u001b[0m\u001b[1;33m\u001b[0m\u001b[1;33m\u001b[0m\u001b[0m\n\u001b[0;32m    960\u001b[0m     \u001b[1;31m# TODO(scottzhu): This should be a less implementation-specific error.\u001b[0m\u001b[1;33m\u001b[0m\u001b[1;33m\u001b[0m\u001b[1;33m\u001b[0m\u001b[0m\n\u001b[1;32m--> 961\u001b[1;33m     raise ValueError(\n\u001b[0m\u001b[0;32m    962\u001b[0m         \u001b[1;34m\"Failed to find data adapter that can handle \"\u001b[0m\u001b[1;33m\u001b[0m\u001b[1;33m\u001b[0m\u001b[0m\n\u001b[0;32m    963\u001b[0m         \"input: {}, {}\".format(\n",
      "\u001b[1;31mValueError\u001b[0m: Failed to find data adapter that can handle input: (<class 'tuple'> containing values of types {\"<class 'NoneType'>\"}), <class 'NoneType'>"
     ]
    }
   ],
   "source": [
    "# Class: neg\n",
    "\n",
    "filename = './clinical/converted/neg/neg-0421-088-cough-f-66.wav' \n",
    "print_prediction(filename) "
   ]
  },
  {
   "cell_type": "code",
   "execution_count": null,
   "metadata": {
    "scrolled": true
   },
   "outputs": [],
   "source": [
    "# Class: positive\n",
    "\n",
    "filename = './clinical/converted/pos/pos-0421-094-cough-m-51.wav'\n",
    "print_prediction(filename) "
   ]
  },
  {
   "cell_type": "code",
   "execution_count": null,
   "metadata": {},
   "outputs": [],
   "source": [
    "# # Class: Street music \n",
    "\n",
    "# filename = '../UrbanSound Dataset sample/audio/101848-9-0-0.wav'\n",
    "# print_prediction(filename) "
   ]
  },
  {
   "cell_type": "code",
   "execution_count": null,
   "metadata": {},
   "outputs": [],
   "source": [
    "#  Class: Car Horn \n",
    "\n",
    "# filename = '../UrbanSound Dataset sample/audio/100648-1-0-0.wav'\n",
    "# print_prediction(filename) "
   ]
  },
  {
   "cell_type": "markdown",
   "metadata": {},
   "source": [
    "#### Observations \n",
    "\n",
    "From this brief sanity check the model seems to predict well. One errror was observed whereby a car horn was incorrectly classifed as a dog bark. \n",
    "\n",
    "We can see from the per class confidence that this was quite a low score (43%). This allows follows our early observation that a dog bark and car horn are similar in spectral shape. "
   ]
  },
  {
   "cell_type": "markdown",
   "metadata": {},
   "source": [
    "### Other audio\n",
    "\n",
    "Here we will use a sample of various copyright free sounds that we not part of either our test or training data to further validate our model. "
   ]
  },
  {
   "cell_type": "code",
   "execution_count": null,
   "metadata": {},
   "outputs": [],
   "source": [
    "#filename = '../Evaluation audio/pos/az5zELVN7ObicxGrBLMoX8ki1LF2_shallow_1.wav'\n",
    "#print_prediction(filename) "
   ]
  },
  {
   "cell_type": "code",
   "execution_count": null,
   "metadata": {
    "scrolled": true
   },
   "outputs": [],
   "source": [
    "filename = '../Evaluation audio/Tanya(20-4-2021).wav'\n",
    "\n",
    "print_prediction(filename) "
   ]
  },
  {
   "cell_type": "code",
   "execution_count": null,
   "metadata": {},
   "outputs": [],
   "source": [
    "#filename = '../Evaluation audio/pos/Fi2lLmV3LHR5brvXs0z1JSKDvnI2_heavy_1.wav'\n",
    "\n",
    "#print_prediction(filename) \n",
    "\n",
    "# sample data weighted towards gun shot - peak in the dog barking sample is simmilar in shape to the gun shot sample"
   ]
  },
  {
   "cell_type": "code",
   "execution_count": null,
   "metadata": {},
   "outputs": [],
   "source": [
    "#filename = '../Evaluation audio/neg/0zAgZhOXaGhmL1SnhkzJOIoowKg2_heavy_1.wav'\n",
    "\n",
    "#print_prediction(filename) "
   ]
  },
  {
   "cell_type": "code",
   "execution_count": null,
   "metadata": {},
   "outputs": [],
   "source": [
    "filename = '../Evaluation audio/Ghaziabad.wav'\n",
    "\n",
    "print_prediction(filename) "
   ]
  },
  {
   "cell_type": "code",
   "execution_count": null,
   "metadata": {},
   "outputs": [],
   "source": [
    "filename = '../Evaluation audio/coughtest2.wav'\n",
    "\n",
    "print_prediction(filename) "
   ]
  },
  {
   "cell_type": "code",
   "execution_count": null,
   "metadata": {},
   "outputs": [],
   "source": [
    "\n",
    "#filename = '../Evaluation audio/neg/zBiORuLmvGhOciaUXFeAKRhMyhj2_heavy_5.wav'\n",
    "\n",
    "#print_prediction(filename) "
   ]
  },
  {
   "cell_type": "code",
   "execution_count": null,
   "metadata": {},
   "outputs": [],
   "source": [
    "filename = '../Evaluation audio/Divyam.wav'\n",
    "\n",
    "print_prediction(filename) "
   ]
  },
  {
   "cell_type": "code",
   "execution_count": null,
   "metadata": {},
   "outputs": [],
   "source": [
    "filename = '../Evaluation audio/DJ(03-05-21).wav'\n",
    "\n",
    "print_prediction(filename) "
   ]
  },
  {
   "cell_type": "code",
   "execution_count": null,
   "metadata": {},
   "outputs": [],
   "source": [
    "filename = '../Evaluation audio/DJ2.wav'\n",
    "\n",
    "print_prediction(filename) "
   ]
  },
  {
   "cell_type": "code",
   "execution_count": null,
   "metadata": {},
   "outputs": [],
   "source": [
    "filename = '../Evaluation audio/DJ3.wav'\n",
    "\n",
    "print_prediction(filename) "
   ]
  },
  {
   "cell_type": "code",
   "execution_count": null,
   "metadata": {},
   "outputs": [],
   "source": [
    "filename = '../Evaluation audio/Vardhika(03-05-21).wav'\n",
    "\n",
    "print_prediction(filename) "
   ]
  },
  {
   "cell_type": "code",
   "execution_count": null,
   "metadata": {},
   "outputs": [],
   "source": [
    "filename = '../Evaluation audio/Tanyas_Grandma(29-4-2021).wav'\n",
    "\n",
    "print_prediction(filename) "
   ]
  },
  {
   "cell_type": "code",
   "execution_count": null,
   "metadata": {},
   "outputs": [],
   "source": [
    "filename = '../Evaluation audio/Mom(29-4-2021).wav'\n",
    "\n",
    "print_prediction(filename) \n"
   ]
  },
  {
   "cell_type": "code",
   "execution_count": null,
   "metadata": {},
   "outputs": [],
   "source": [
    "filename = '../Evaluation audio/Avi(29-4-2021).wav'\n",
    "\n",
    "print_prediction(filename) "
   ]
  },
  {
   "cell_type": "code",
   "execution_count": null,
   "metadata": {},
   "outputs": [],
   "source": [
    "filename = '../Evaluation audio/Bhaiya(04-05-21).wav'\n",
    "\n",
    "print_prediction(filename) "
   ]
  },
  {
   "cell_type": "code",
   "execution_count": null,
   "metadata": {},
   "outputs": [],
   "source": [
    "filename = '../Evaluation audio/Papa(29-4-2021).wav'\n",
    "\n",
    "print_prediction(filename) "
   ]
  },
  {
   "cell_type": "code",
   "execution_count": null,
   "metadata": {},
   "outputs": [],
   "source": [
    "filename = '../Evaluation audio/Shreya2(08-05-21).wav'\n",
    "\n",
    "print_prediction(filename) "
   ]
  },
  {
   "cell_type": "code",
   "execution_count": null,
   "metadata": {},
   "outputs": [],
   "source": [
    "filename = '../Evaluation audio/Satyashree3(08-05-21).wav'\n",
    "\n",
    "print_prediction(filename) "
   ]
  },
  {
   "cell_type": "markdown",
   "metadata": {},
   "source": [
    "#### Observations \n",
    "\n",
    "The performance of our initial model is satisfactorry and has generalised well, seeming to predict well when tested against new audio data. "
   ]
  },
  {
   "cell_type": "markdown",
   "metadata": {},
   "source": [
    "### *In the next notebook we will refine our model*"
   ]
  },
  {
   "cell_type": "code",
   "execution_count": null,
   "metadata": {},
   "outputs": [],
   "source": []
  }
 ],
 "metadata": {
  "kernelspec": {
   "display_name": "Python 3",
   "language": "python",
   "name": "python3"
  },
  "language_info": {
   "codemirror_mode": {
    "name": "ipython",
    "version": 3
   },
   "file_extension": ".py",
   "mimetype": "text/x-python",
   "name": "python",
   "nbconvert_exporter": "python",
   "pygments_lexer": "ipython3",
   "version": "3.8.3"
  }
 },
 "nbformat": 4,
 "nbformat_minor": 4
}
