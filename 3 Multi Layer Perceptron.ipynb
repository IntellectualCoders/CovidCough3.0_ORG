{
 "cells": [
  {
   "cell_type": "markdown",
   "metadata": {},
   "source": [
    "# Classifying Urban sounds using Deep Learning\n",
    "\n",
    "## 3 Model Training and Evaluation "
   ]
  },
  {
   "cell_type": "markdown",
   "metadata": {},
   "source": [
    "### Load Preprocessed data "
   ]
  },
  {
   "cell_type": "code",
   "execution_count": 1,
   "metadata": {},
   "outputs": [],
   "source": [
    "# retrieve the preprocessed data from previous notebook\n",
    "\n",
    "# %store -r x_train \n",
    "# %store -r x_test \n",
    "# %store -r y_train \n",
    "# %store -r y_test \n",
    "# %store -r yy \n",
    "# %store -r le"
   ]
  },
  {
   "cell_type": "code",
   "execution_count": 1,
   "metadata": {},
   "outputs": [],
   "source": [
    "def add_noise(data,x):\n",
    "    noise = np.random.randn(len(data))\n",
    "    data_noise = data + x * noise\n",
    "    return data_noise\n",
    "\n",
    "def shift(data,x):\n",
    "    return np.roll(data, x)\n",
    "\n",
    "def stretch(data, rate):\n",
    "    data = librosa.effects.time_stretch(data, rate)\n",
    "    return data"
   ]
  },
  {
   "cell_type": "code",
   "execution_count": 3,
   "metadata": {},
   "outputs": [],
   "source": [
    "import numpy as np\n",
    "import librosa\n",
    "import os\n",
    "X_=[]\n",
    "y_=[]\n",
    "dir_= './clinical/converted_seg/cneg/'\n",
    "p='negative'\n",
    "for soundDir in (os.listdir(dir_)):\n",
    "    data_x, sampling_rate = librosa.load(dir_+soundDir,res_type='kaiser_fast')\n",
    "    mfccs = np.mean(librosa.feature.mfcc(y=data_x, sr=sampling_rate, n_mfcc=40).T,axis=0) \n",
    "    X_.append(mfccs)\n",
    "    y_.append('negative')\n",
    "\n",
    "    data_noise = add_noise(data_x,0.005)\n",
    "    mfccs_noise = np.mean(librosa.feature.mfcc(y=data_noise, sr=sampling_rate, n_mfcc=40).T,axis=0) \n",
    "    X_.append(mfccs_noise)\n",
    "    y_.append(p)\n",
    "\n",
    "    data_shift = shift(data_x,1600)\n",
    "    mfccs_shift = np.mean(librosa.feature.mfcc(y=data_shift, sr=sampling_rate, n_mfcc=40).T,axis=0) \n",
    "    X_.append(mfccs_shift)\n",
    "    y_.append(p)\n",
    "\n",
    "    data_stretch = stretch(data_x,1.2)\n",
    "    mfccs_stretch = np.mean(librosa.feature.mfcc(y=data_stretch, sr=sampling_rate, n_mfcc=40).T,axis=0) \n",
    "    X_.append(mfccs_stretch)\n",
    "    y_.append(p)\n",
    "\n",
    "    data_stretch_2 = stretch(data_x,0.8)\n",
    "    mfccs_stretch_2 = np.mean(librosa.feature.mfcc(y=data_stretch_2, sr=sampling_rate, n_mfcc=40).T,axis=0) \n",
    "    X_.append(mfccs_stretch_2)\n",
    "    y_.append(p)"
   ]
  },
  {
   "cell_type": "code",
   "execution_count": 4,
   "metadata": {},
   "outputs": [],
   "source": [
    "import numpy as np\n",
    "import librosa\n",
    "import os\n",
    "\n",
    "dir_= './clinical/converted_seg/cpos/'\n",
    "p='positive'\n",
    "for soundDir in (os.listdir(dir_)):\n",
    "    data_x, sampling_rate = librosa.load(dir_+soundDir,res_type='kaiser_fast')\n",
    "    mfccs = np.mean(librosa.feature.mfcc(y=data_x, sr=sampling_rate, n_mfcc=40).T,axis=0) \n",
    "    X_.append(mfccs)\n",
    "    y_.append('positive')\n",
    "\n",
    "    data_noise = add_noise(data_x,0.005)\n",
    "    mfccs_noise = np.mean(librosa.feature.mfcc(y=data_noise, sr=sampling_rate, n_mfcc=40).T,axis=0) \n",
    "    X_.append(mfccs_noise)\n",
    "    y_.append(p)\n",
    "\n",
    "    data_shift = shift(data_x,1600)\n",
    "    mfccs_shift = np.mean(librosa.feature.mfcc(y=data_shift, sr=sampling_rate, n_mfcc=40).T,axis=0) \n",
    "    X_.append(mfccs_shift)\n",
    "    y_.append(p)\n",
    "\n",
    "    data_stretch = stretch(data_x,1.2)\n",
    "    mfccs_stretch = np.mean(librosa.feature.mfcc(y=data_stretch, sr=sampling_rate, n_mfcc=40).T,axis=0) \n",
    "    X_.append(mfccs_stretch)\n",
    "    y_.append(p)\n",
    "\n",
    "    data_stretch_2 = stretch(data_x,0.8)\n",
    "    mfccs_stretch_2 = np.mean(librosa.feature.mfcc(y=data_stretch_2, sr=sampling_rate, n_mfcc=40).T,axis=0) \n",
    "    X_.append(mfccs_stretch_2)\n",
    "    y_.append(p)"
   ]
  },
  {
   "cell_type": "code",
   "execution_count": 5,
   "metadata": {},
   "outputs": [],
   "source": [
    "X = np.array(X_)\n",
    "y = np.array(y_)"
   ]
  },
  {
   "cell_type": "code",
   "execution_count": 6,
   "metadata": {},
   "outputs": [
    {
     "name": "stdout",
     "output_type": "stream",
     "text": [
      "[[-5.10094818e+02  3.20862427e+01 -1.48833714e+01 ...  3.81080687e-01\n",
      "   3.74728590e-01  1.38507652e+00]\n",
      " [-2.69644516e+02  1.59614408e+01 -4.85760469e+00 ...  8.94178798e-01\n",
      "   4.90179794e-01  1.64928549e+00]\n",
      " [-5.08641235e+02  3.45660172e+01 -1.65387192e+01 ...  3.78286183e-01\n",
      "   2.82604098e-01  1.48085976e+00]\n",
      " ...\n",
      " [-3.49824341e+02  5.46507072e+01 -4.65615921e+01 ... -8.15696359e-01\n",
      "  -1.11679304e+00 -2.90427953e-01]\n",
      " [-3.64710724e+02  5.27145729e+01 -4.16428795e+01 ... -1.20872974e+00\n",
      "  -1.72089839e+00 -1.17781043e+00]\n",
      " [-3.71380310e+02  5.08207207e+01 -4.21386871e+01 ... -1.21099401e+00\n",
      "  -1.07187545e+00 -2.70886362e-01]]\n",
      "['negative' 'negative' 'negative' 'negative' 'negative' 'negative'\n",
      " 'negative' 'negative' 'negative' 'negative' 'negative' 'negative'\n",
      " 'negative' 'negative' 'negative' 'negative' 'negative' 'negative'\n",
      " 'negative' 'negative' 'negative' 'negative' 'negative' 'negative'\n",
      " 'negative' 'negative' 'negative' 'negative' 'negative' 'negative'\n",
      " 'negative' 'negative' 'negative' 'negative' 'negative' 'negative'\n",
      " 'negative' 'negative' 'negative' 'negative' 'negative' 'negative'\n",
      " 'negative' 'negative' 'negative' 'negative' 'negative' 'negative'\n",
      " 'negative' 'negative' 'negative' 'negative' 'negative' 'negative'\n",
      " 'negative' 'negative' 'negative' 'negative' 'negative' 'negative'\n",
      " 'negative' 'negative' 'negative' 'negative' 'negative' 'negative'\n",
      " 'negative' 'negative' 'negative' 'negative' 'negative' 'negative'\n",
      " 'negative' 'negative' 'negative' 'negative' 'negative' 'negative'\n",
      " 'negative' 'negative' 'negative' 'negative' 'negative' 'negative'\n",
      " 'negative' 'negative' 'negative' 'negative' 'negative' 'negative'\n",
      " 'negative' 'negative' 'negative' 'negative' 'negative' 'negative'\n",
      " 'negative' 'negative' 'negative' 'negative' 'negative' 'negative'\n",
      " 'negative' 'negative' 'negative' 'negative' 'negative' 'negative'\n",
      " 'negative' 'negative' 'negative' 'negative' 'negative' 'negative'\n",
      " 'negative' 'negative' 'negative' 'negative' 'negative' 'negative'\n",
      " 'negative' 'negative' 'negative' 'negative' 'negative' 'negative'\n",
      " 'negative' 'negative' 'negative' 'negative' 'negative' 'negative'\n",
      " 'negative' 'negative' 'negative' 'negative' 'negative' 'negative'\n",
      " 'negative' 'negative' 'negative' 'negative' 'negative' 'negative'\n",
      " 'negative' 'negative' 'negative' 'negative' 'negative' 'negative'\n",
      " 'negative' 'negative' 'negative' 'negative' 'negative' 'negative'\n",
      " 'negative' 'negative' 'negative' 'negative' 'negative' 'negative'\n",
      " 'negative' 'negative' 'negative' 'negative' 'negative' 'negative'\n",
      " 'negative' 'negative' 'negative' 'negative' 'negative' 'negative'\n",
      " 'negative' 'negative' 'negative' 'negative' 'negative' 'negative'\n",
      " 'negative' 'negative' 'negative' 'negative' 'negative' 'negative'\n",
      " 'negative' 'negative' 'negative' 'negative' 'negative' 'negative'\n",
      " 'negative' 'negative' 'negative' 'negative' 'negative' 'negative'\n",
      " 'negative' 'negative' 'negative' 'negative' 'negative' 'negative'\n",
      " 'negative' 'negative' 'negative' 'negative' 'negative' 'negative'\n",
      " 'negative' 'negative' 'negative' 'negative' 'negative' 'negative'\n",
      " 'negative' 'negative' 'negative' 'negative' 'negative' 'negative'\n",
      " 'negative' 'negative' 'negative' 'negative' 'negative' 'negative'\n",
      " 'negative' 'negative' 'negative' 'negative' 'negative' 'negative'\n",
      " 'negative' 'negative' 'negative' 'negative' 'negative' 'negative'\n",
      " 'negative' 'negative' 'negative' 'negative' 'negative' 'negative'\n",
      " 'negative' 'negative' 'negative' 'negative' 'negative' 'negative'\n",
      " 'negative' 'negative' 'negative' 'negative' 'negative' 'negative'\n",
      " 'negative' 'negative' 'negative' 'negative' 'negative' 'negative'\n",
      " 'negative' 'negative' 'negative' 'negative' 'negative' 'negative'\n",
      " 'negative' 'negative' 'negative' 'negative' 'negative' 'negative'\n",
      " 'negative' 'negative' 'negative' 'negative' 'negative' 'negative'\n",
      " 'negative' 'negative' 'negative' 'negative' 'negative' 'negative'\n",
      " 'negative' 'negative' 'negative' 'negative' 'negative' 'negative'\n",
      " 'negative' 'negative' 'negative' 'negative' 'negative' 'negative'\n",
      " 'negative' 'negative' 'negative' 'negative' 'negative' 'negative'\n",
      " 'negative' 'negative' 'negative' 'negative' 'negative' 'negative'\n",
      " 'negative' 'negative' 'negative' 'negative' 'negative' 'negative'\n",
      " 'negative' 'negative' 'negative' 'negative' 'negative' 'negative'\n",
      " 'negative' 'negative' 'negative' 'negative' 'negative' 'negative'\n",
      " 'negative' 'negative' 'negative' 'negative' 'negative' 'negative'\n",
      " 'negative' 'negative' 'negative' 'negative' 'negative' 'negative'\n",
      " 'negative' 'negative' 'negative' 'negative' 'negative' 'negative'\n",
      " 'negative' 'negative' 'negative' 'negative' 'negative' 'negative'\n",
      " 'negative' 'negative' 'negative' 'negative' 'negative' 'negative'\n",
      " 'negative' 'negative' 'negative' 'negative' 'negative' 'positive'\n",
      " 'positive' 'positive' 'positive' 'positive' 'positive' 'positive'\n",
      " 'positive' 'positive' 'positive' 'positive' 'positive' 'positive'\n",
      " 'positive' 'positive' 'positive' 'positive' 'positive' 'positive'\n",
      " 'positive' 'positive' 'positive' 'positive' 'positive' 'positive'\n",
      " 'positive' 'positive' 'positive' 'positive' 'positive' 'positive'\n",
      " 'positive' 'positive' 'positive' 'positive' 'positive' 'positive'\n",
      " 'positive' 'positive' 'positive' 'positive' 'positive' 'positive'\n",
      " 'positive' 'positive' 'positive' 'positive' 'positive' 'positive'\n",
      " 'positive' 'positive' 'positive' 'positive' 'positive' 'positive'\n",
      " 'positive' 'positive' 'positive' 'positive' 'positive' 'positive'\n",
      " 'positive' 'positive' 'positive' 'positive' 'positive' 'positive'\n",
      " 'positive' 'positive' 'positive' 'positive' 'positive' 'positive'\n",
      " 'positive' 'positive' 'positive' 'positive' 'positive' 'positive'\n",
      " 'positive' 'positive' 'positive' 'positive' 'positive' 'positive'\n",
      " 'positive' 'positive' 'positive' 'positive' 'positive' 'positive'\n",
      " 'positive' 'positive' 'positive' 'positive' 'positive' 'positive'\n",
      " 'positive' 'positive' 'positive' 'positive' 'positive' 'positive'\n",
      " 'positive' 'positive' 'positive' 'positive' 'positive' 'positive'\n",
      " 'positive' 'positive' 'positive' 'positive' 'positive' 'positive'\n",
      " 'positive' 'positive' 'positive' 'positive' 'positive' 'positive'\n",
      " 'positive' 'positive' 'positive' 'positive' 'positive' 'positive'\n",
      " 'positive' 'positive' 'positive' 'positive' 'positive' 'positive'\n",
      " 'positive' 'positive' 'positive' 'positive' 'positive' 'positive'\n",
      " 'positive' 'positive' 'positive' 'positive' 'positive' 'positive'\n",
      " 'positive' 'positive' 'positive' 'positive' 'positive' 'positive'\n",
      " 'positive' 'positive' 'positive' 'positive' 'positive' 'positive'\n",
      " 'positive' 'positive' 'positive' 'positive' 'positive' 'positive'\n",
      " 'positive' 'positive' 'positive' 'positive' 'positive' 'positive'\n",
      " 'positive' 'positive' 'positive' 'positive' 'positive' 'positive'\n",
      " 'positive' 'positive' 'positive' 'positive' 'positive' 'positive'\n",
      " 'positive' 'positive' 'positive' 'positive' 'positive' 'positive'\n",
      " 'positive' 'positive' 'positive' 'positive' 'positive' 'positive'\n",
      " 'positive' 'positive' 'positive' 'positive' 'positive' 'positive'\n",
      " 'positive' 'positive' 'positive' 'positive' 'positive' 'positive'\n",
      " 'positive' 'positive' 'positive' 'positive' 'positive' 'positive'\n",
      " 'positive' 'positive' 'positive' 'positive' 'positive' 'positive'\n",
      " 'positive' 'positive' 'positive' 'positive' 'positive' 'positive'\n",
      " 'positive' 'positive' 'positive' 'positive' 'positive' 'positive'\n",
      " 'positive' 'positive' 'positive' 'positive' 'positive' 'positive'\n",
      " 'positive' 'positive' 'positive' 'positive' 'positive']\n"
     ]
    }
   ],
   "source": [
    "print(X)\n",
    "print(y)"
   ]
  },
  {
   "cell_type": "code",
   "execution_count": 10,
   "metadata": {},
   "outputs": [
    {
     "name": "stdout",
     "output_type": "stream",
     "text": [
      "[[1. 0.]\n",
      " [1. 0.]\n",
      " [1. 0.]\n",
      " ...\n",
      " [0. 1.]\n",
      " [0. 1.]\n",
      " [0. 1.]]\n"
     ]
    }
   ],
   "source": [
    "from sklearn.preprocessing import LabelEncoder\n",
    "from tensorflow.keras.utils import to_categorical\n",
    "\n",
    "# Convert features and corresponding classification labels into numpy arrays\n",
    "# X = np.array(featuresdf.feature.tolist())\n",
    "# y = np.array(featuresdf.class_label.tolist())\n",
    "\n",
    "# Encode the classification labels\n",
    "le = LabelEncoder()\n",
    "yy = to_categorical(le.fit_transform(y)) \n",
    "print(yy)\n"
   ]
  },
  {
   "cell_type": "code",
   "execution_count": 11,
   "metadata": {},
   "outputs": [],
   "source": [
    "# split the dataset \n",
    "from sklearn.model_selection import train_test_split \n",
    "\n",
    "x_train, x_test, y_train, y_test = train_test_split(X, yy, test_size=0.3, random_state = 42)"
   ]
  },
  {
   "cell_type": "markdown",
   "metadata": {},
   "source": [
    "### Initial model architecture - MLP\n",
    "\n",
    "We will start with constructing a Multilayer Perceptron (MLP) Neural Network using Keras and a Tensorflow backend. \n",
    "\n",
    "Starting with a `sequential` model so we can build the model layer by layer. \n",
    "\n",
    "We will begin with a simple model architecture, consisting of three layers, an input layer, a hidden layer and an output layer. All three layers will be of the `dense` layer type which is a standard layer type that is used in many cases for neural networks. \n",
    "\n",
    "The first layer will receive the input shape. As each sample contains 40 MFCCs (or columns) we have a shape of (1x40) this means we will start with an input shape of 40. \n",
    "\n",
    "The first two layers will have 256 nodes. The activation function we will be using for our first 2 layers is the `ReLU`, or `Rectified Linear Activation`. This activation function has been proven to work well in neural networks.\n",
    "\n",
    "We will also apply a `Dropout` value of 50% on our first two layers. This will randomly exclude nodes from each update cycle which in turn results in a network that is capable of better generalisation and is less likely to overfit the training data.\n",
    "\n",
    "Our output layer will have 2 nodes (num_labels) which matches the number of possible classifications. The activation is for our output layer is `softmax`. Softmax makes the output sum up to 1 so the output can be interpreted as probabilities. The model will then make its prediction based on which option has the highest probability."
   ]
  },
  {
   "cell_type": "code",
   "execution_count": 12,
   "metadata": {},
   "outputs": [
    {
     "name": "stdout",
     "output_type": "stream",
     "text": [
      "2\n"
     ]
    }
   ],
   "source": [
    "print(yy.shape[1])"
   ]
  },
  {
   "cell_type": "code",
   "execution_count": 13,
   "metadata": {},
   "outputs": [
    {
     "name": "stdout",
     "output_type": "stream",
     "text": [
      "182\n"
     ]
    }
   ],
   "source": [
    "print(x_test.shape[0])"
   ]
  },
  {
   "cell_type": "code",
   "execution_count": 15,
   "metadata": {},
   "outputs": [],
   "source": [
    "import numpy as np\n",
    "from keras.models import Sequential\n",
    "from keras.layers import Dense, Dropout, Activation, Flatten\n",
    "from keras.layers import Convolution2D, MaxPooling2D\n",
    "from tensorflow.keras.optimizers import Adam\n",
    "from keras.utils import np_utils\n",
    "from sklearn import metrics \n",
    "\n",
    "\n",
    "num_labels = yy.shape[1]\n",
    "filter_size = 2\n",
    "\n",
    "\n",
    "# Construct model \n",
    "model = Sequential()\n",
    "\n",
    "model.add(Dense(256, input_shape=(40,)))\n",
    "model.add(Activation('relu'))\n",
    "model.add(Dropout(0.25))\n",
    "\n",
    "model.add(Dense(128))\n",
    "model.add(Activation('relu'))\n",
    "model.add(Dropout(0.25))\n",
    "\n",
    "model.add(Dense(64))\n",
    "model.add(Activation('relu'))\n",
    "model.add(Dropout(0.25))\n",
    "\n",
    "\n",
    "model.add(Dense(num_labels))\n",
    "model.add(Activation('softmax'))\n",
    "\n"
   ]
  },
  {
   "cell_type": "markdown",
   "metadata": {},
   "source": [
    "### Compiling the model \n",
    "\n",
    "For compiling our model, we will use the following three parameters: \n",
    "\n",
    "* Loss function - we will use `categorical_crossentropy`. This is the most common choice for classification. A lower score indicates that the model is performing better.\n",
    "\n",
    "* Metrics - we will use the `accuracy` metric which will allow us to view the accuracy score on the validation data when we train the model. \n",
    "\n",
    "* Optimizer - here we will use `adam` which is a generally good optimizer for many use cases.\n"
   ]
  },
  {
   "cell_type": "code",
   "execution_count": 16,
   "metadata": {},
   "outputs": [],
   "source": [
    "# Compile the model\n",
    "model.compile(loss='categorical_crossentropy', metrics=['accuracy'], optimizer='adam') "
   ]
  },
  {
   "cell_type": "code",
   "execution_count": 17,
   "metadata": {},
   "outputs": [
    {
     "name": "stdout",
     "output_type": "stream",
     "text": [
      "Model: \"sequential\"\n",
      "_________________________________________________________________\n",
      " Layer (type)                Output Shape              Param #   \n",
      "=================================================================\n",
      " dense (Dense)               (None, 256)               10496     \n",
      "                                                                 \n",
      " activation (Activation)     (None, 256)               0         \n",
      "                                                                 \n",
      " dropout (Dropout)           (None, 256)               0         \n",
      "                                                                 \n",
      " dense_1 (Dense)             (None, 128)               32896     \n",
      "                                                                 \n",
      " activation_1 (Activation)   (None, 128)               0         \n",
      "                                                                 \n",
      " dropout_1 (Dropout)         (None, 128)               0         \n",
      "                                                                 \n",
      " dense_2 (Dense)             (None, 64)                8256      \n",
      "                                                                 \n",
      " activation_2 (Activation)   (None, 64)                0         \n",
      "                                                                 \n",
      " dropout_2 (Dropout)         (None, 64)                0         \n",
      "                                                                 \n",
      " dense_3 (Dense)             (None, 2)                 130       \n",
      "                                                                 \n",
      " activation_3 (Activation)   (None, 2)                 0         \n",
      "                                                                 \n",
      "=================================================================\n",
      "Total params: 51,778\n",
      "Trainable params: 51,778\n",
      "Non-trainable params: 0\n",
      "_________________________________________________________________\n",
      "Pre-training accuracy: 67.0330%\n"
     ]
    }
   ],
   "source": [
    "# Display model architecture summary \n",
    "model.summary()\n",
    "\n",
    "# Calculate pre-training accuracy \n",
    "score = model.evaluate(x_test, y_test, verbose=0)\n",
    "accuracy = 100*score[1]\n",
    "\n",
    "print(\"Pre-training accuracy: %.4f%%\" % accuracy)"
   ]
  },
  {
   "cell_type": "markdown",
   "metadata": {},
   "source": [
    "### Training \n",
    "\n",
    "Here we will train the model. \n",
    "\n",
    "We will start with 100 epochs which is the number of times the model will cycle through the data. The model will improve on each cycle until it reaches a certain point. \n",
    "\n",
    "We will also start with a low batch size, as having a large batch size can reduce the generalisation ability of the model. "
   ]
  },
  {
   "cell_type": "code",
   "execution_count": 18,
   "metadata": {},
   "outputs": [
    {
     "name": "stdout",
     "output_type": "stream",
     "text": [
      "Epoch 1/130\n",
      " 1/14 [=>............................] - ETA: 6s - loss: 13.9904 - accuracy: 0.5000\n",
      "Epoch 00001: val_loss improved from inf to 3.63762, saving model to saved_models\\weights.best.basic_mlp.h5\n",
      "14/14 [==============================] - 1s 8ms/step - loss: 12.0757 - accuracy: 0.5603 - val_loss: 3.6376 - val_accuracy: 0.6703\n",
      "Epoch 2/130\n",
      " 1/14 [=>............................] - ETA: 0s - loss: 4.5776 - accuracy: 0.6250\n",
      "Epoch 00002: val_loss improved from 3.63762 to 0.56254, saving model to saved_models\\weights.best.basic_mlp.h5\n",
      "14/14 [==============================] - 0s 6ms/step - loss: 6.0992 - accuracy: 0.5177 - val_loss: 0.5625 - val_accuracy: 0.7418\n",
      "Epoch 3/130\n",
      " 1/14 [=>............................] - ETA: 0s - loss: 5.1863 - accuracy: 0.4062\n",
      "Epoch 00003: val_loss did not improve from 0.56254\n",
      "14/14 [==============================] - 0s 4ms/step - loss: 3.6387 - accuracy: 0.4941 - val_loss: 0.6084 - val_accuracy: 0.7033\n",
      "Epoch 4/130\n",
      " 1/14 [=>............................] - ETA: 0s - loss: 3.1871 - accuracy: 0.5625\n",
      "Epoch 00004: val_loss improved from 0.56254 to 0.49846, saving model to saved_models\\weights.best.basic_mlp.h5\n",
      "14/14 [==============================] - 0s 6ms/step - loss: 3.0053 - accuracy: 0.5508 - val_loss: 0.4985 - val_accuracy: 0.8022\n",
      "Epoch 5/130\n",
      " 1/14 [=>............................] - ETA: 0s - loss: 1.7145 - accuracy: 0.5625\n",
      "Epoch 00005: val_loss did not improve from 0.49846\n",
      "14/14 [==============================] - 0s 4ms/step - loss: 2.2838 - accuracy: 0.5225 - val_loss: 0.5206 - val_accuracy: 0.8132\n",
      "Epoch 6/130\n",
      " 1/14 [=>............................] - ETA: 0s - loss: 2.0030 - accuracy: 0.5312\n",
      "Epoch 00006: val_loss did not improve from 0.49846\n",
      "14/14 [==============================] - 0s 4ms/step - loss: 1.8382 - accuracy: 0.4965 - val_loss: 0.7023 - val_accuracy: 0.4176\n",
      "Epoch 7/130\n",
      " 1/14 [=>............................] - ETA: 0s - loss: 0.9967 - accuracy: 0.6562\n",
      "Epoch 00007: val_loss did not improve from 0.49846\n",
      "14/14 [==============================] - 0s 4ms/step - loss: 1.4729 - accuracy: 0.5532 - val_loss: 0.8779 - val_accuracy: 0.3352\n",
      "Epoch 8/130\n",
      " 1/14 [=>............................] - ETA: 0s - loss: 1.6752 - accuracy: 0.4375\n",
      "Epoch 00008: val_loss did not improve from 0.49846\n",
      "14/14 [==============================] - 0s 3ms/step - loss: 1.2422 - accuracy: 0.5674 - val_loss: 0.7806 - val_accuracy: 0.3516\n",
      "Epoch 9/130\n",
      " 1/14 [=>............................] - ETA: 0s - loss: 1.2415 - accuracy: 0.6250\n",
      "Epoch 00009: val_loss did not improve from 0.49846\n",
      "14/14 [==============================] - 0s 4ms/step - loss: 1.1070 - accuracy: 0.5579 - val_loss: 0.7074 - val_accuracy: 0.4341\n",
      "Epoch 10/130\n",
      " 1/14 [=>............................] - ETA: 0s - loss: 1.0336 - accuracy: 0.5312\n",
      "Epoch 00010: val_loss did not improve from 0.49846\n",
      "14/14 [==============================] - 0s 4ms/step - loss: 1.0577 - accuracy: 0.5603 - val_loss: 0.8231 - val_accuracy: 0.3516\n",
      "Epoch 11/130\n",
      " 1/14 [=>............................] - ETA: 0s - loss: 0.8288 - accuracy: 0.5938\n",
      "Epoch 00011: val_loss did not improve from 0.49846\n",
      "14/14 [==============================] - 0s 4ms/step - loss: 1.1377 - accuracy: 0.5106 - val_loss: 0.7837 - val_accuracy: 0.3407\n",
      "Epoch 12/130\n",
      " 1/14 [=>............................] - ETA: 0s - loss: 1.1800 - accuracy: 0.4688\n",
      "Epoch 00012: val_loss did not improve from 0.49846\n",
      "14/14 [==============================] - 0s 4ms/step - loss: 0.9703 - accuracy: 0.5414 - val_loss: 0.6575 - val_accuracy: 0.7747\n",
      "Epoch 13/130\n",
      " 1/14 [=>............................] - ETA: 0s - loss: 1.3068 - accuracy: 0.5000\n",
      "Epoch 00013: val_loss did not improve from 0.49846\n",
      "14/14 [==============================] - 0s 5ms/step - loss: 0.8882 - accuracy: 0.5674 - val_loss: 0.6674 - val_accuracy: 0.7802\n",
      "Epoch 14/130\n",
      " 1/14 [=>............................] - ETA: 0s - loss: 0.8900 - accuracy: 0.5312\n",
      "Epoch 00014: val_loss did not improve from 0.49846\n",
      "14/14 [==============================] - 0s 4ms/step - loss: 0.8893 - accuracy: 0.5343 - val_loss: 0.7122 - val_accuracy: 0.3352\n",
      "Epoch 15/130\n",
      " 1/14 [=>............................] - ETA: 0s - loss: 0.7456 - accuracy: 0.5312\n",
      "Epoch 00015: val_loss did not improve from 0.49846\n",
      "14/14 [==============================] - 0s 4ms/step - loss: 0.8890 - accuracy: 0.5390 - val_loss: 0.6698 - val_accuracy: 0.7308\n",
      "Epoch 16/130\n",
      " 1/14 [=>............................] - ETA: 0s - loss: 0.9201 - accuracy: 0.5312\n",
      "Epoch 00016: val_loss did not improve from 0.49846\n",
      "14/14 [==============================] - 0s 5ms/step - loss: 0.7784 - accuracy: 0.5745 - val_loss: 0.6479 - val_accuracy: 0.7967\n",
      "Epoch 17/130\n",
      " 1/14 [=>............................] - ETA: 0s - loss: 0.7748 - accuracy: 0.5000\n",
      "Epoch 00017: val_loss did not improve from 0.49846\n",
      "14/14 [==============================] - 0s 5ms/step - loss: 0.7935 - accuracy: 0.5556 - val_loss: 0.6817 - val_accuracy: 0.4725\n",
      "Epoch 18/130\n",
      " 1/14 [=>............................] - ETA: 0s - loss: 0.8403 - accuracy: 0.5312\n",
      "Epoch 00018: val_loss did not improve from 0.49846\n",
      "14/14 [==============================] - 0s 4ms/step - loss: 0.7734 - accuracy: 0.5626 - val_loss: 0.6982 - val_accuracy: 0.3462\n",
      "Epoch 19/130\n",
      " 1/14 [=>............................] - ETA: 0s - loss: 0.7872 - accuracy: 0.4375\n",
      "Epoch 00019: val_loss did not improve from 0.49846\n",
      "14/14 [==============================] - 0s 4ms/step - loss: 0.7547 - accuracy: 0.5532 - val_loss: 0.6819 - val_accuracy: 0.6209\n",
      "Epoch 20/130\n",
      " 1/14 [=>............................] - ETA: 0s - loss: 0.7084 - accuracy: 0.5938\n",
      "Epoch 00020: val_loss did not improve from 0.49846\n",
      "14/14 [==============================] - 0s 4ms/step - loss: 0.7466 - accuracy: 0.5721 - val_loss: 0.6744 - val_accuracy: 0.7088\n",
      "Epoch 21/130\n",
      " 1/14 [=>............................] - ETA: 0s - loss: 0.7443 - accuracy: 0.5000\n",
      "Epoch 00021: val_loss did not improve from 0.49846\n",
      "14/14 [==============================] - 0s 4ms/step - loss: 0.7236 - accuracy: 0.5957 - val_loss: 0.6879 - val_accuracy: 0.6868\n",
      "Epoch 22/130\n",
      " 1/14 [=>............................] - ETA: 0s - loss: 0.8504 - accuracy: 0.4375\n",
      "Epoch 00022: val_loss did not improve from 0.49846\n",
      "14/14 [==============================] - 0s 5ms/step - loss: 0.7294 - accuracy: 0.5721 - val_loss: 0.6996 - val_accuracy: 0.3571\n",
      "Epoch 23/130\n",
      " 1/14 [=>............................] - ETA: 0s - loss: 0.6838 - accuracy: 0.6562\n",
      "Epoch 00023: val_loss did not improve from 0.49846\n",
      "14/14 [==============================] - 0s 4ms/step - loss: 0.7539 - accuracy: 0.5674 - val_loss: 0.6528 - val_accuracy: 0.8132\n",
      "Epoch 24/130\n",
      " 1/14 [=>............................] - ETA: 0s - loss: 0.7261 - accuracy: 0.5312\n",
      "Epoch 00024: val_loss did not improve from 0.49846\n",
      "14/14 [==============================] - 0s 4ms/step - loss: 0.6751 - accuracy: 0.6028 - val_loss: 0.6765 - val_accuracy: 0.6099\n",
      "Epoch 25/130\n",
      " 1/14 [=>............................] - ETA: 0s - loss: 0.7069 - accuracy: 0.6562\n",
      "Epoch 00025: val_loss did not improve from 0.49846\n",
      "14/14 [==============================] - 0s 4ms/step - loss: 0.7670 - accuracy: 0.5603 - val_loss: 0.6929 - val_accuracy: 0.4505\n",
      "Epoch 26/130\n",
      " 1/14 [=>............................] - ETA: 0s - loss: 0.8117 - accuracy: 0.4688\n",
      "Epoch 00026: val_loss did not improve from 0.49846\n",
      "14/14 [==============================] - 0s 4ms/step - loss: 0.7282 - accuracy: 0.5603 - val_loss: 0.6957 - val_accuracy: 0.4121\n",
      "Epoch 27/130\n",
      " 1/14 [=>............................] - ETA: 0s - loss: 0.7514 - accuracy: 0.7500\n",
      "Epoch 00027: val_loss did not improve from 0.49846\n",
      "14/14 [==============================] - 0s 4ms/step - loss: 0.7112 - accuracy: 0.5816 - val_loss: 0.6902 - val_accuracy: 0.6429\n",
      "Epoch 28/130\n",
      " 1/14 [=>............................] - ETA: 0s - loss: 0.6258 - accuracy: 0.6562\n",
      "Epoch 00028: val_loss did not improve from 0.49846\n",
      "14/14 [==============================] - 0s 4ms/step - loss: 0.6740 - accuracy: 0.5603 - val_loss: 0.6974 - val_accuracy: 0.3626\n",
      "Epoch 29/130\n",
      " 1/14 [=>............................] - ETA: 0s - loss: 0.5889 - accuracy: 0.7812\n",
      "Epoch 00029: val_loss did not improve from 0.49846\n",
      "14/14 [==============================] - 0s 4ms/step - loss: 0.6920 - accuracy: 0.5768 - val_loss: 0.6830 - val_accuracy: 0.6484\n",
      "Epoch 30/130\n",
      " 1/14 [=>............................] - ETA: 0s - loss: 0.6153 - accuracy: 0.6875\n",
      "Epoch 00030: val_loss did not improve from 0.49846\n",
      "14/14 [==============================] - 0s 5ms/step - loss: 0.6618 - accuracy: 0.6194 - val_loss: 0.6366 - val_accuracy: 0.8187\n",
      "Epoch 31/130\n",
      " 1/14 [=>............................] - ETA: 0s - loss: 0.7352 - accuracy: 0.5000\n",
      "Epoch 00031: val_loss did not improve from 0.49846\n",
      "14/14 [==============================] - 0s 4ms/step - loss: 0.6658 - accuracy: 0.5910 - val_loss: 0.6630 - val_accuracy: 0.6813\n",
      "Epoch 32/130\n",
      " 1/14 [=>............................] - ETA: 0s - loss: 0.7150 - accuracy: 0.5312\n",
      "Epoch 00032: val_loss did not improve from 0.49846\n",
      "14/14 [==============================] - 0s 4ms/step - loss: 0.6611 - accuracy: 0.6005 - val_loss: 0.6198 - val_accuracy: 0.8077\n",
      "Epoch 33/130\n",
      " 1/14 [=>............................] - ETA: 0s - loss: 0.8199 - accuracy: 0.5312\n",
      "Epoch 00033: val_loss did not improve from 0.49846\n",
      "14/14 [==============================] - 0s 4ms/step - loss: 0.7214 - accuracy: 0.6028 - val_loss: 0.6017 - val_accuracy: 0.8187\n",
      "Epoch 34/130\n",
      " 1/14 [=>............................] - ETA: 0s - loss: 0.5463 - accuracy: 0.6875\n",
      "Epoch 00034: val_loss did not improve from 0.49846\n",
      "14/14 [==============================] - 0s 4ms/step - loss: 0.6994 - accuracy: 0.5887 - val_loss: 0.5281 - val_accuracy: 0.8077\n",
      "Epoch 35/130\n",
      " 1/14 [=>............................] - ETA: 0s - loss: 0.7021 - accuracy: 0.4688\n",
      "Epoch 00035: val_loss did not improve from 0.49846\n",
      "14/14 [==============================] - 0s 4ms/step - loss: 0.6626 - accuracy: 0.5863 - val_loss: 0.6254 - val_accuracy: 0.8132\n",
      "Epoch 36/130\n",
      " 1/14 [=>............................] - ETA: 0s - loss: 0.6568 - accuracy: 0.6875\n",
      "Epoch 00036: val_loss did not improve from 0.49846\n",
      "14/14 [==============================] - 0s 4ms/step - loss: 0.6608 - accuracy: 0.6099 - val_loss: 0.5875 - val_accuracy: 0.8297\n",
      "Epoch 37/130\n",
      " 1/14 [=>............................] - ETA: 0s - loss: 0.7147 - accuracy: 0.5312\n",
      "Epoch 00037: val_loss did not improve from 0.49846\n",
      "14/14 [==============================] - 0s 4ms/step - loss: 0.6361 - accuracy: 0.6147 - val_loss: 0.5558 - val_accuracy: 0.8297\n",
      "Epoch 38/130\n",
      " 1/14 [=>............................] - ETA: 0s - loss: 0.6182 - accuracy: 0.6250\n",
      "Epoch 00038: val_loss did not improve from 0.49846\n",
      "14/14 [==============================] - 0s 4ms/step - loss: 0.6517 - accuracy: 0.6147 - val_loss: 0.5778 - val_accuracy: 0.8242\n",
      "Epoch 39/130\n",
      " 1/14 [=>............................] - ETA: 0s - loss: 0.5756 - accuracy: 0.5625\n",
      "Epoch 00039: val_loss did not improve from 0.49846\n",
      "14/14 [==============================] - 0s 4ms/step - loss: 0.6296 - accuracy: 0.6525 - val_loss: 0.6013 - val_accuracy: 0.8022\n",
      "Epoch 40/130\n",
      " 1/14 [=>............................] - ETA: 0s - loss: 0.6975 - accuracy: 0.4688\n",
      "Epoch 00040: val_loss did not improve from 0.49846\n",
      "14/14 [==============================] - 0s 4ms/step - loss: 0.6443 - accuracy: 0.6076 - val_loss: 0.6020 - val_accuracy: 0.8022\n",
      "Epoch 41/130\n",
      " 1/14 [=>............................] - ETA: 0s - loss: 0.6908 - accuracy: 0.6562\n",
      "Epoch 00041: val_loss did not improve from 0.49846\n",
      "14/14 [==============================] - 0s 4ms/step - loss: 0.6226 - accuracy: 0.6667 - val_loss: 0.5455 - val_accuracy: 0.8242\n",
      "Epoch 42/130\n",
      " 1/14 [=>............................] - ETA: 0s - loss: 0.6769 - accuracy: 0.6875\n",
      "Epoch 00042: val_loss did not improve from 0.49846\n",
      "14/14 [==============================] - 0s 4ms/step - loss: 0.6392 - accuracy: 0.6407 - val_loss: 0.5285 - val_accuracy: 0.8242\n",
      "Epoch 43/130\n",
      " 1/14 [=>............................] - ETA: 0s - loss: 0.5898 - accuracy: 0.6250\n",
      "Epoch 00043: val_loss did not improve from 0.49846\n",
      "14/14 [==============================] - 0s 4ms/step - loss: 0.6574 - accuracy: 0.6501 - val_loss: 0.5496 - val_accuracy: 0.8297\n",
      "Epoch 44/130\n",
      " 1/14 [=>............................] - ETA: 0s - loss: 0.6545 - accuracy: 0.6875\n",
      "Epoch 00044: val_loss did not improve from 0.49846\n",
      "14/14 [==============================] - 0s 5ms/step - loss: 0.6262 - accuracy: 0.6809 - val_loss: 0.5505 - val_accuracy: 0.8187\n",
      "Epoch 45/130\n",
      " 1/14 [=>............................] - ETA: 0s - loss: 0.7179 - accuracy: 0.5938\n",
      "Epoch 00045: val_loss did not improve from 0.49846\n",
      "14/14 [==============================] - 0s 4ms/step - loss: 0.6065 - accuracy: 0.6690 - val_loss: 0.5148 - val_accuracy: 0.8187\n",
      "Epoch 46/130\n",
      " 1/14 [=>............................] - ETA: 0s - loss: 0.5633 - accuracy: 0.7188\n",
      "Epoch 00046: val_loss did not improve from 0.49846\n",
      "14/14 [==============================] - 0s 4ms/step - loss: 0.6010 - accuracy: 0.6690 - val_loss: 0.5346 - val_accuracy: 0.8571\n",
      "Epoch 47/130\n",
      " 1/14 [=>............................] - ETA: 0s - loss: 0.5098 - accuracy: 0.8438\n",
      "Epoch 00047: val_loss improved from 0.49846 to 0.48186, saving model to saved_models\\weights.best.basic_mlp.h5\n",
      "14/14 [==============================] - 0s 6ms/step - loss: 0.5886 - accuracy: 0.7329 - val_loss: 0.4819 - val_accuracy: 0.8187\n",
      "Epoch 48/130\n",
      " 1/14 [=>............................] - ETA: 0s - loss: 0.6212 - accuracy: 0.5938\n",
      "Epoch 00048: val_loss did not improve from 0.48186\n",
      "14/14 [==============================] - 0s 4ms/step - loss: 0.5922 - accuracy: 0.6667 - val_loss: 0.5019 - val_accuracy: 0.8352\n",
      "Epoch 49/130\n",
      " 1/14 [=>............................] - ETA: 0s - loss: 0.5816 - accuracy: 0.5938\n",
      "Epoch 00049: val_loss did not improve from 0.48186\n",
      "14/14 [==============================] - 0s 4ms/step - loss: 0.5731 - accuracy: 0.6785 - val_loss: 0.5076 - val_accuracy: 0.8407\n",
      "Epoch 50/130\n",
      " 1/14 [=>............................] - ETA: 0s - loss: 0.5889 - accuracy: 0.6875\n",
      "Epoch 00050: val_loss improved from 0.48186 to 0.46332, saving model to saved_models\\weights.best.basic_mlp.h5\n",
      "14/14 [==============================] - 0s 6ms/step - loss: 0.5885 - accuracy: 0.7187 - val_loss: 0.4633 - val_accuracy: 0.8242\n",
      "Epoch 51/130\n",
      " 1/14 [=>............................] - ETA: 0s - loss: 0.5459 - accuracy: 0.7500\n",
      "Epoch 00051: val_loss did not improve from 0.46332\n",
      "14/14 [==============================] - 0s 4ms/step - loss: 0.5798 - accuracy: 0.7139 - val_loss: 0.4873 - val_accuracy: 0.8407\n",
      "Epoch 52/130\n",
      " 1/14 [=>............................] - ETA: 0s - loss: 0.6721 - accuracy: 0.6250\n",
      "Epoch 00052: val_loss improved from 0.46332 to 0.46032, saving model to saved_models\\weights.best.basic_mlp.h5\n",
      "14/14 [==============================] - 0s 6ms/step - loss: 0.5874 - accuracy: 0.6738 - val_loss: 0.4603 - val_accuracy: 0.8297\n",
      "Epoch 53/130\n",
      " 1/14 [=>............................] - ETA: 0s - loss: 0.6099 - accuracy: 0.6250\n",
      "Epoch 00053: val_loss did not improve from 0.46032\n",
      "14/14 [==============================] - 0s 4ms/step - loss: 0.5750 - accuracy: 0.6879 - val_loss: 0.5071 - val_accuracy: 0.8022\n",
      "Epoch 54/130\n",
      " 1/14 [=>............................] - ETA: 0s - loss: 0.6059 - accuracy: 0.5938\n",
      "Epoch 00054: val_loss improved from 0.46032 to 0.44000, saving model to saved_models\\weights.best.basic_mlp.h5\n",
      "14/14 [==============================] - 0s 6ms/step - loss: 0.5743 - accuracy: 0.6974 - val_loss: 0.4400 - val_accuracy: 0.8352\n",
      "Epoch 55/130\n",
      " 1/14 [=>............................] - ETA: 0s - loss: 0.6732 - accuracy: 0.7188\n",
      "Epoch 00055: val_loss did not improve from 0.44000\n",
      "14/14 [==============================] - 0s 4ms/step - loss: 0.6201 - accuracy: 0.6832 - val_loss: 0.4633 - val_accuracy: 0.8407\n",
      "Epoch 56/130\n",
      " 1/14 [=>............................] - ETA: 0s - loss: 0.5537 - accuracy: 0.6875\n",
      "Epoch 00056: val_loss did not improve from 0.44000\n",
      "14/14 [==============================] - 0s 4ms/step - loss: 0.5615 - accuracy: 0.7258 - val_loss: 0.4697 - val_accuracy: 0.8407\n",
      "Epoch 57/130\n",
      " 1/14 [=>............................] - ETA: 0s - loss: 0.5061 - accuracy: 0.7500\n",
      "Epoch 00057: val_loss did not improve from 0.44000\n",
      "14/14 [==============================] - 0s 4ms/step - loss: 0.5388 - accuracy: 0.7234 - val_loss: 0.4588 - val_accuracy: 0.8462\n",
      "Epoch 58/130\n",
      " 1/14 [=>............................] - ETA: 0s - loss: 0.7001 - accuracy: 0.6875\n",
      "Epoch 00058: val_loss did not improve from 0.44000\n",
      "14/14 [==============================] - 0s 4ms/step - loss: 0.5772 - accuracy: 0.6998 - val_loss: 0.4729 - val_accuracy: 0.7912\n",
      "Epoch 59/130\n",
      " 1/14 [=>............................] - ETA: 0s - loss: 0.5571 - accuracy: 0.6875\n",
      "Epoch 00059: val_loss did not improve from 0.44000\n",
      "14/14 [==============================] - 0s 4ms/step - loss: 0.5540 - accuracy: 0.7541 - val_loss: 0.4507 - val_accuracy: 0.8352\n",
      "Epoch 60/130\n",
      " 1/14 [=>............................] - ETA: 0s - loss: 0.5493 - accuracy: 0.6562\n",
      "Epoch 00060: val_loss improved from 0.44000 to 0.42013, saving model to saved_models\\weights.best.basic_mlp.h5\n",
      "14/14 [==============================] - 0s 6ms/step - loss: 0.5524 - accuracy: 0.7329 - val_loss: 0.4201 - val_accuracy: 0.8462\n",
      "Epoch 61/130\n",
      " 1/14 [=>............................] - ETA: 0s - loss: 0.4547 - accuracy: 0.7500\n",
      "Epoch 00061: val_loss did not improve from 0.42013\n",
      "14/14 [==============================] - 0s 4ms/step - loss: 0.5127 - accuracy: 0.7494 - val_loss: 0.4221 - val_accuracy: 0.8516\n",
      "Epoch 62/130\n",
      " 1/14 [=>............................] - ETA: 0s - loss: 0.4655 - accuracy: 0.7812\n",
      "Epoch 00062: val_loss improved from 0.42013 to 0.40564, saving model to saved_models\\weights.best.basic_mlp.h5\n",
      "14/14 [==============================] - 0s 6ms/step - loss: 0.5224 - accuracy: 0.7683 - val_loss: 0.4056 - val_accuracy: 0.8571\n",
      "Epoch 63/130\n",
      " 1/14 [=>............................] - ETA: 0s - loss: 0.6602 - accuracy: 0.6562\n",
      "Epoch 00063: val_loss did not improve from 0.40564\n",
      "14/14 [==============================] - 0s 4ms/step - loss: 0.5309 - accuracy: 0.7470 - val_loss: 0.4221 - val_accuracy: 0.8516\n",
      "Epoch 64/130\n",
      " 1/14 [=>............................] - ETA: 0s - loss: 0.5909 - accuracy: 0.6562\n",
      "Epoch 00064: val_loss did not improve from 0.40564\n",
      "14/14 [==============================] - 0s 4ms/step - loss: 0.5411 - accuracy: 0.7305 - val_loss: 0.4117 - val_accuracy: 0.8516\n",
      "Epoch 65/130\n",
      " 1/14 [=>............................] - ETA: 0s - loss: 0.7305 - accuracy: 0.5312\n",
      "Epoch 00065: val_loss did not improve from 0.40564\n",
      "14/14 [==============================] - 0s 4ms/step - loss: 0.5321 - accuracy: 0.7447 - val_loss: 0.4216 - val_accuracy: 0.8516\n",
      "Epoch 66/130\n",
      " 1/14 [=>............................] - ETA: 0s - loss: 0.5947 - accuracy: 0.7500\n",
      "Epoch 00066: val_loss did not improve from 0.40564\n",
      "14/14 [==============================] - 0s 4ms/step - loss: 0.5036 - accuracy: 0.7258 - val_loss: 0.4079 - val_accuracy: 0.8516\n",
      "Epoch 67/130\n",
      " 1/14 [=>............................] - ETA: 0s - loss: 0.9035 - accuracy: 0.7812\n",
      "Epoch 00067: val_loss improved from 0.40564 to 0.37856, saving model to saved_models\\weights.best.basic_mlp.h5\n",
      "14/14 [==============================] - 0s 6ms/step - loss: 0.5467 - accuracy: 0.7541 - val_loss: 0.3786 - val_accuracy: 0.8462\n",
      "Epoch 68/130\n",
      " 1/14 [=>............................] - ETA: 0s - loss: 0.4421 - accuracy: 0.8125\n",
      "Epoch 00068: val_loss did not improve from 0.37856\n",
      "14/14 [==============================] - 0s 4ms/step - loss: 0.4981 - accuracy: 0.7565 - val_loss: 0.3949 - val_accuracy: 0.8571\n",
      "Epoch 69/130\n",
      " 1/14 [=>............................] - ETA: 0s - loss: 0.5439 - accuracy: 0.7188\n",
      "Epoch 00069: val_loss did not improve from 0.37856\n",
      "14/14 [==============================] - 0s 4ms/step - loss: 0.5400 - accuracy: 0.7163 - val_loss: 0.3925 - val_accuracy: 0.8571\n",
      "Epoch 70/130\n",
      " 1/14 [=>............................] - ETA: 0s - loss: 0.3808 - accuracy: 0.8125\n",
      "Epoch 00070: val_loss improved from 0.37856 to 0.37478, saving model to saved_models\\weights.best.basic_mlp.h5\n",
      "14/14 [==============================] - 0s 6ms/step - loss: 0.4712 - accuracy: 0.7612 - val_loss: 0.3748 - val_accuracy: 0.8681\n",
      "Epoch 71/130\n",
      " 1/14 [=>............................] - ETA: 0s - loss: 0.4682 - accuracy: 0.7812\n",
      "Epoch 00071: val_loss did not improve from 0.37478\n",
      "14/14 [==============================] - 0s 4ms/step - loss: 0.4852 - accuracy: 0.7612 - val_loss: 0.3777 - val_accuracy: 0.8681\n",
      "Epoch 72/130\n",
      " 1/14 [=>............................] - ETA: 0s - loss: 0.3788 - accuracy: 0.8125\n",
      "Epoch 00072: val_loss did not improve from 0.37478\n",
      "14/14 [==============================] - 0s 4ms/step - loss: 0.5084 - accuracy: 0.7541 - val_loss: 0.4220 - val_accuracy: 0.8352\n",
      "Epoch 73/130\n",
      " 1/14 [=>............................] - ETA: 0s - loss: 0.4878 - accuracy: 0.6875\n",
      "Epoch 00073: val_loss improved from 0.37478 to 0.37209, saving model to saved_models\\weights.best.basic_mlp.h5\n",
      "14/14 [==============================] - 0s 6ms/step - loss: 0.4691 - accuracy: 0.7730 - val_loss: 0.3721 - val_accuracy: 0.8681\n",
      "Epoch 74/130\n",
      " 1/14 [=>............................] - ETA: 0s - loss: 0.4447 - accuracy: 0.7812\n",
      "Epoch 00074: val_loss improved from 0.37209 to 0.37166, saving model to saved_models\\weights.best.basic_mlp.h5\n",
      "14/14 [==============================] - 0s 6ms/step - loss: 0.4482 - accuracy: 0.8038 - val_loss: 0.3717 - val_accuracy: 0.8681\n",
      "Epoch 75/130\n",
      " 1/14 [=>............................] - ETA: 0s - loss: 0.3538 - accuracy: 0.8438\n",
      "Epoch 00075: val_loss improved from 0.37166 to 0.36780, saving model to saved_models\\weights.best.basic_mlp.h5\n",
      "14/14 [==============================] - 0s 6ms/step - loss: 0.4535 - accuracy: 0.7730 - val_loss: 0.3678 - val_accuracy: 0.8571\n",
      "Epoch 76/130\n",
      " 1/14 [=>............................] - ETA: 0s - loss: 0.3523 - accuracy: 0.8438\n",
      "Epoch 00076: val_loss did not improve from 0.36780\n",
      "14/14 [==============================] - 0s 4ms/step - loss: 0.4763 - accuracy: 0.7801 - val_loss: 0.3884 - val_accuracy: 0.7912\n",
      "Epoch 77/130\n",
      " 1/14 [=>............................] - ETA: 0s - loss: 0.6406 - accuracy: 0.6562\n",
      "Epoch 00077: val_loss did not improve from 0.36780\n",
      "14/14 [==============================] - 0s 4ms/step - loss: 0.5112 - accuracy: 0.7400 - val_loss: 0.3782 - val_accuracy: 0.8571\n",
      "Epoch 78/130\n",
      " 1/14 [=>............................] - ETA: 0s - loss: 0.5492 - accuracy: 0.6562\n",
      "Epoch 00078: val_loss did not improve from 0.36780\n",
      "14/14 [==============================] - 0s 4ms/step - loss: 0.4749 - accuracy: 0.7660 - val_loss: 0.3730 - val_accuracy: 0.8571\n",
      "Epoch 79/130\n",
      " 1/14 [=>............................] - ETA: 0s - loss: 0.4441 - accuracy: 0.7500\n",
      "Epoch 00079: val_loss did not improve from 0.36780\n",
      "14/14 [==============================] - 0s 4ms/step - loss: 0.4719 - accuracy: 0.7494 - val_loss: 0.3893 - val_accuracy: 0.8516\n",
      "Epoch 80/130\n",
      " 1/14 [=>............................] - ETA: 0s - loss: 0.3985 - accuracy: 0.9062\n",
      "Epoch 00080: val_loss did not improve from 0.36780\n",
      "14/14 [==============================] - 0s 4ms/step - loss: 0.4814 - accuracy: 0.7754 - val_loss: 0.4060 - val_accuracy: 0.7857\n",
      "Epoch 81/130\n",
      " 1/14 [=>............................] - ETA: 0s - loss: 0.5201 - accuracy: 0.7812\n",
      "Epoch 00081: val_loss did not improve from 0.36780\n",
      "14/14 [==============================] - 0s 4ms/step - loss: 0.4613 - accuracy: 0.7754 - val_loss: 0.3854 - val_accuracy: 0.8022\n",
      "Epoch 82/130\n",
      " 1/14 [=>............................] - ETA: 0s - loss: 0.4168 - accuracy: 0.8438\n",
      "Epoch 00082: val_loss improved from 0.36780 to 0.33238, saving model to saved_models\\weights.best.basic_mlp.h5\n",
      "14/14 [==============================] - 0s 6ms/step - loss: 0.4352 - accuracy: 0.7896 - val_loss: 0.3324 - val_accuracy: 0.8626\n",
      "Epoch 83/130\n",
      " 1/14 [=>............................] - ETA: 0s - loss: 0.5358 - accuracy: 0.7188\n",
      "Epoch 00083: val_loss did not improve from 0.33238\n",
      "14/14 [==============================] - 0s 4ms/step - loss: 0.4901 - accuracy: 0.7707 - val_loss: 0.3905 - val_accuracy: 0.7857\n",
      "Epoch 84/130\n",
      " 1/14 [=>............................] - ETA: 0s - loss: 0.5536 - accuracy: 0.7188\n",
      "Epoch 00084: val_loss did not improve from 0.33238\n",
      "14/14 [==============================] - 0s 4ms/step - loss: 0.4371 - accuracy: 0.8038 - val_loss: 0.3352 - val_accuracy: 0.8901\n",
      "Epoch 85/130\n",
      " 1/14 [=>............................] - ETA: 0s - loss: 0.4132 - accuracy: 0.7500\n",
      "Epoch 00085: val_loss did not improve from 0.33238\n",
      "14/14 [==============================] - 0s 4ms/step - loss: 0.4424 - accuracy: 0.7778 - val_loss: 0.3692 - val_accuracy: 0.8352\n",
      "Epoch 86/130\n",
      " 1/14 [=>............................] - ETA: 0s - loss: 0.3980 - accuracy: 0.7812\n",
      "Epoch 00086: val_loss improved from 0.33238 to 0.32008, saving model to saved_models\\weights.best.basic_mlp.h5\n",
      "14/14 [==============================] - 0s 5ms/step - loss: 0.4043 - accuracy: 0.8085 - val_loss: 0.3201 - val_accuracy: 0.8791\n",
      "Epoch 87/130\n",
      " 1/14 [=>............................] - ETA: 0s - loss: 0.5490 - accuracy: 0.7500\n",
      "Epoch 00087: val_loss improved from 0.32008 to 0.31404, saving model to saved_models\\weights.best.basic_mlp.h5\n",
      "14/14 [==============================] - 0s 6ms/step - loss: 0.3762 - accuracy: 0.8274 - val_loss: 0.3140 - val_accuracy: 0.8791\n",
      "Epoch 88/130\n",
      " 1/14 [=>............................] - ETA: 0s - loss: 0.2593 - accuracy: 0.9688\n",
      "Epoch 00088: val_loss improved from 0.31404 to 0.30273, saving model to saved_models\\weights.best.basic_mlp.h5\n",
      "14/14 [==============================] - 0s 7ms/step - loss: 0.4442 - accuracy: 0.7991 - val_loss: 0.3027 - val_accuracy: 0.8846\n",
      "Epoch 89/130\n",
      " 1/14 [=>............................] - ETA: 0s - loss: 0.6206 - accuracy: 0.8125\n",
      "Epoch 00089: val_loss did not improve from 0.30273\n",
      "14/14 [==============================] - 0s 5ms/step - loss: 0.4362 - accuracy: 0.7896 - val_loss: 0.3451 - val_accuracy: 0.8736\n",
      "Epoch 90/130\n",
      " 1/14 [=>............................] - ETA: 0s - loss: 0.6186 - accuracy: 0.6562\n",
      "Epoch 00090: val_loss did not improve from 0.30273\n",
      "14/14 [==============================] - 0s 4ms/step - loss: 0.4275 - accuracy: 0.8038 - val_loss: 0.3068 - val_accuracy: 0.8846\n",
      "Epoch 91/130\n",
      " 1/14 [=>............................] - ETA: 0s - loss: 0.4505 - accuracy: 0.8125\n",
      "Epoch 00091: val_loss did not improve from 0.30273\n",
      "14/14 [==============================] - 0s 4ms/step - loss: 0.4640 - accuracy: 0.7849 - val_loss: 0.3831 - val_accuracy: 0.8407\n",
      "Epoch 92/130\n",
      " 1/14 [=>............................] - ETA: 0s - loss: 0.3694 - accuracy: 0.8750\n",
      "Epoch 00092: val_loss did not improve from 0.30273\n",
      "14/14 [==============================] - 0s 4ms/step - loss: 0.4193 - accuracy: 0.8085 - val_loss: 0.3097 - val_accuracy: 0.8846\n",
      "Epoch 93/130\n",
      " 1/14 [=>............................] - ETA: 0s - loss: 0.3322 - accuracy: 0.8438\n",
      "Epoch 00093: val_loss did not improve from 0.30273\n",
      "14/14 [==============================] - 0s 4ms/step - loss: 0.3614 - accuracy: 0.8322 - val_loss: 0.3516 - val_accuracy: 0.8462\n",
      "Epoch 94/130\n",
      " 1/14 [=>............................] - ETA: 0s - loss: 0.3283 - accuracy: 0.8438\n",
      "Epoch 00094: val_loss improved from 0.30273 to 0.29333, saving model to saved_models\\weights.best.basic_mlp.h5\n",
      "14/14 [==============================] - 0s 6ms/step - loss: 0.4048 - accuracy: 0.7872 - val_loss: 0.2933 - val_accuracy: 0.8901\n",
      "Epoch 95/130\n",
      " 1/14 [=>............................] - ETA: 0s - loss: 0.3354 - accuracy: 0.8438\n",
      "Epoch 00095: val_loss improved from 0.29333 to 0.28682, saving model to saved_models\\weights.best.basic_mlp.h5\n",
      "14/14 [==============================] - 0s 6ms/step - loss: 0.3535 - accuracy: 0.8203 - val_loss: 0.2868 - val_accuracy: 0.8956\n",
      "Epoch 96/130\n",
      " 1/14 [=>............................] - ETA: 0s - loss: 0.3894 - accuracy: 0.7812\n",
      "Epoch 00096: val_loss improved from 0.28682 to 0.28514, saving model to saved_models\\weights.best.basic_mlp.h5\n",
      "14/14 [==============================] - 0s 6ms/step - loss: 0.3827 - accuracy: 0.8227 - val_loss: 0.2851 - val_accuracy: 0.8956\n",
      "Epoch 97/130\n",
      " 1/14 [=>............................] - ETA: 0s - loss: 0.2321 - accuracy: 0.9062\n",
      "Epoch 00097: val_loss improved from 0.28514 to 0.28131, saving model to saved_models\\weights.best.basic_mlp.h5\n",
      "14/14 [==============================] - 0s 6ms/step - loss: 0.3407 - accuracy: 0.8605 - val_loss: 0.2813 - val_accuracy: 0.8791\n",
      "Epoch 98/130\n",
      " 1/14 [=>............................] - ETA: 0s - loss: 0.4710 - accuracy: 0.7188\n",
      "Epoch 00098: val_loss improved from 0.28131 to 0.27973, saving model to saved_models\\weights.best.basic_mlp.h5\n",
      "14/14 [==============================] - 0s 6ms/step - loss: 0.4381 - accuracy: 0.8038 - val_loss: 0.2797 - val_accuracy: 0.8901\n",
      "Epoch 99/130\n",
      " 1/14 [=>............................] - ETA: 0s - loss: 0.5082 - accuracy: 0.7812\n",
      "Epoch 00099: val_loss did not improve from 0.27973\n",
      "14/14 [==============================] - 0s 4ms/step - loss: 0.3718 - accuracy: 0.8298 - val_loss: 0.3045 - val_accuracy: 0.8571\n",
      "Epoch 100/130\n",
      " 1/14 [=>............................] - ETA: 0s - loss: 0.3492 - accuracy: 0.7500\n",
      "Epoch 00100: val_loss did not improve from 0.27973\n",
      "14/14 [==============================] - 0s 4ms/step - loss: 0.3641 - accuracy: 0.8440 - val_loss: 0.2826 - val_accuracy: 0.8791\n",
      "Epoch 101/130\n",
      " 1/14 [=>............................] - ETA: 0s - loss: 0.2204 - accuracy: 0.9375\n",
      "Epoch 00101: val_loss improved from 0.27973 to 0.27827, saving model to saved_models\\weights.best.basic_mlp.h5\n",
      "14/14 [==============================] - 0s 6ms/step - loss: 0.3442 - accuracy: 0.8463 - val_loss: 0.2783 - val_accuracy: 0.8791\n",
      "Epoch 102/130\n",
      " 1/14 [=>............................] - ETA: 0s - loss: 0.3091 - accuracy: 0.9062\n",
      "Epoch 00102: val_loss improved from 0.27827 to 0.26860, saving model to saved_models\\weights.best.basic_mlp.h5\n",
      "14/14 [==============================] - 0s 6ms/step - loss: 0.3572 - accuracy: 0.8511 - val_loss: 0.2686 - val_accuracy: 0.8956\n",
      "Epoch 103/130\n",
      " 1/14 [=>............................] - ETA: 0s - loss: 0.4363 - accuracy: 0.7812\n",
      "Epoch 00103: val_loss improved from 0.26860 to 0.26496, saving model to saved_models\\weights.best.basic_mlp.h5\n",
      "14/14 [==============================] - 0s 6ms/step - loss: 0.3428 - accuracy: 0.8629 - val_loss: 0.2650 - val_accuracy: 0.8901\n",
      "Epoch 104/130\n",
      " 1/14 [=>............................] - ETA: 0s - loss: 0.3865 - accuracy: 0.8125\n",
      "Epoch 00104: val_loss improved from 0.26496 to 0.24655, saving model to saved_models\\weights.best.basic_mlp.h5\n",
      "14/14 [==============================] - 0s 6ms/step - loss: 0.3518 - accuracy: 0.8416 - val_loss: 0.2466 - val_accuracy: 0.9231\n",
      "Epoch 105/130\n",
      " 1/14 [=>............................] - ETA: 0s - loss: 0.3634 - accuracy: 0.8750\n",
      "Epoch 00105: val_loss improved from 0.24655 to 0.24248, saving model to saved_models\\weights.best.basic_mlp.h5\n",
      "14/14 [==============================] - 0s 6ms/step - loss: 0.3288 - accuracy: 0.8676 - val_loss: 0.2425 - val_accuracy: 0.9176\n",
      "Epoch 106/130\n",
      " 1/14 [=>............................] - ETA: 0s - loss: 0.2051 - accuracy: 0.9375\n",
      "Epoch 00106: val_loss did not improve from 0.24248\n",
      "14/14 [==============================] - 0s 4ms/step - loss: 0.3140 - accuracy: 0.8511 - val_loss: 0.2538 - val_accuracy: 0.8901\n",
      "Epoch 107/130\n",
      " 1/14 [=>............................] - ETA: 0s - loss: 0.2059 - accuracy: 0.8750\n",
      "Epoch 00107: val_loss did not improve from 0.24248\n",
      "14/14 [==============================] - 0s 4ms/step - loss: 0.3443 - accuracy: 0.8582 - val_loss: 0.2621 - val_accuracy: 0.9121\n",
      "Epoch 108/130\n",
      " 1/14 [=>............................] - ETA: 0s - loss: 0.3285 - accuracy: 0.9062\n",
      "Epoch 00108: val_loss did not improve from 0.24248\n",
      "14/14 [==============================] - 0s 4ms/step - loss: 0.3478 - accuracy: 0.8511 - val_loss: 0.2514 - val_accuracy: 0.9176\n",
      "Epoch 109/130\n",
      " 1/14 [=>............................] - ETA: 0s - loss: 0.4554 - accuracy: 0.7812\n",
      "Epoch 00109: val_loss did not improve from 0.24248\n",
      "14/14 [==============================] - 0s 4ms/step - loss: 0.3595 - accuracy: 0.8440 - val_loss: 0.2591 - val_accuracy: 0.9066\n",
      "Epoch 110/130\n",
      " 1/14 [=>............................] - ETA: 0s - loss: 0.3113 - accuracy: 0.8438\n",
      "Epoch 00110: val_loss improved from 0.24248 to 0.23177, saving model to saved_models\\weights.best.basic_mlp.h5\n",
      "14/14 [==============================] - 0s 6ms/step - loss: 0.3329 - accuracy: 0.8511 - val_loss: 0.2318 - val_accuracy: 0.9176\n",
      "Epoch 111/130\n",
      " 1/14 [=>............................] - ETA: 0s - loss: 0.3354 - accuracy: 0.8125\n",
      "Epoch 00111: val_loss did not improve from 0.23177\n",
      "14/14 [==============================] - 0s 4ms/step - loss: 0.2835 - accuracy: 0.8889 - val_loss: 0.2477 - val_accuracy: 0.8736\n",
      "Epoch 112/130\n",
      " 1/14 [=>............................] - ETA: 0s - loss: 0.2434 - accuracy: 0.8750\n",
      "Epoch 00112: val_loss improved from 0.23177 to 0.22802, saving model to saved_models\\weights.best.basic_mlp.h5\n",
      "14/14 [==============================] - 0s 6ms/step - loss: 0.3128 - accuracy: 0.8629 - val_loss: 0.2280 - val_accuracy: 0.9121\n",
      "Epoch 113/130\n",
      " 1/14 [=>............................] - ETA: 0s - loss: 0.2324 - accuracy: 0.8750\n",
      "Epoch 00113: val_loss improved from 0.22802 to 0.20797, saving model to saved_models\\weights.best.basic_mlp.h5\n",
      "14/14 [==============================] - 0s 5ms/step - loss: 0.2449 - accuracy: 0.9054 - val_loss: 0.2080 - val_accuracy: 0.9231\n",
      "Epoch 114/130\n",
      " 1/14 [=>............................] - ETA: 0s - loss: 0.2335 - accuracy: 0.8750\n",
      "Epoch 00114: val_loss did not improve from 0.20797\n",
      "14/14 [==============================] - 0s 4ms/step - loss: 0.3113 - accuracy: 0.8652 - val_loss: 0.2436 - val_accuracy: 0.8681\n",
      "Epoch 115/130\n",
      " 1/14 [=>............................] - ETA: 0s - loss: 0.2105 - accuracy: 0.9062\n",
      "Epoch 00115: val_loss did not improve from 0.20797\n",
      "14/14 [==============================] - 0s 4ms/step - loss: 0.3111 - accuracy: 0.8629 - val_loss: 0.2423 - val_accuracy: 0.8791\n",
      "Epoch 116/130\n",
      " 1/14 [=>............................] - ETA: 0s - loss: 0.4762 - accuracy: 0.6875\n",
      "Epoch 00116: val_loss improved from 0.20797 to 0.20696, saving model to saved_models\\weights.best.basic_mlp.h5\n",
      "14/14 [==============================] - 0s 6ms/step - loss: 0.2845 - accuracy: 0.8771 - val_loss: 0.2070 - val_accuracy: 0.9341\n",
      "Epoch 117/130\n",
      " 1/14 [=>............................] - ETA: 0s - loss: 0.2465 - accuracy: 0.8438\n",
      "Epoch 00117: val_loss did not improve from 0.20696\n",
      "14/14 [==============================] - 0s 4ms/step - loss: 0.3041 - accuracy: 0.8794 - val_loss: 0.2395 - val_accuracy: 0.8681\n",
      "Epoch 118/130\n",
      " 1/14 [=>............................] - ETA: 0s - loss: 0.2064 - accuracy: 0.9062\n",
      "Epoch 00118: val_loss improved from 0.20696 to 0.19215, saving model to saved_models\\weights.best.basic_mlp.h5\n",
      "14/14 [==============================] - 0s 6ms/step - loss: 0.2950 - accuracy: 0.8700 - val_loss: 0.1921 - val_accuracy: 0.9451\n",
      "Epoch 119/130\n",
      " 1/14 [=>............................] - ETA: 0s - loss: 0.2898 - accuracy: 0.9062\n",
      "Epoch 00119: val_loss improved from 0.19215 to 0.18410, saving model to saved_models\\weights.best.basic_mlp.h5\n",
      "14/14 [==============================] - 0s 6ms/step - loss: 0.2822 - accuracy: 0.8818 - val_loss: 0.1841 - val_accuracy: 0.9505\n",
      "Epoch 120/130\n",
      " 1/14 [=>............................] - ETA: 0s - loss: 0.3043 - accuracy: 0.8750\n",
      "Epoch 00120: val_loss did not improve from 0.18410\n",
      "14/14 [==============================] - 0s 4ms/step - loss: 0.2995 - accuracy: 0.8605 - val_loss: 0.2318 - val_accuracy: 0.9011\n",
      "Epoch 121/130\n",
      " 1/14 [=>............................] - ETA: 0s - loss: 0.2776 - accuracy: 0.9062\n",
      "Epoch 00121: val_loss did not improve from 0.18410\n",
      "14/14 [==============================] - 0s 4ms/step - loss: 0.3018 - accuracy: 0.8723 - val_loss: 0.2268 - val_accuracy: 0.8901\n",
      "Epoch 122/130\n",
      " 1/14 [=>............................] - ETA: 0s - loss: 0.3650 - accuracy: 0.8438\n",
      "Epoch 00122: val_loss did not improve from 0.18410\n",
      "14/14 [==============================] - 0s 4ms/step - loss: 0.2995 - accuracy: 0.8676 - val_loss: 0.2222 - val_accuracy: 0.9286\n",
      "Epoch 123/130\n",
      " 1/14 [=>............................] - ETA: 0s - loss: 0.1520 - accuracy: 0.9688\n",
      "Epoch 00123: val_loss did not improve from 0.18410\n",
      "14/14 [==============================] - 0s 4ms/step - loss: 0.2920 - accuracy: 0.8652 - val_loss: 0.2401 - val_accuracy: 0.8846\n",
      "Epoch 124/130\n",
      " 1/14 [=>............................] - ETA: 0s - loss: 0.2792 - accuracy: 0.8750\n",
      "Epoch 00124: val_loss did not improve from 0.18410\n",
      "14/14 [==============================] - 0s 4ms/step - loss: 0.2739 - accuracy: 0.8889 - val_loss: 0.1923 - val_accuracy: 0.9451\n",
      "Epoch 125/130\n",
      " 1/14 [=>............................] - ETA: 0s - loss: 0.2930 - accuracy: 0.9062\n",
      "Epoch 00125: val_loss improved from 0.18410 to 0.18206, saving model to saved_models\\weights.best.basic_mlp.h5\n",
      "14/14 [==============================] - 0s 6ms/step - loss: 0.2504 - accuracy: 0.8889 - val_loss: 0.1821 - val_accuracy: 0.9451\n",
      "Epoch 126/130\n",
      " 1/14 [=>............................] - ETA: 0s - loss: 0.2963 - accuracy: 0.8438\n",
      "Epoch 00126: val_loss did not improve from 0.18206\n",
      "14/14 [==============================] - 0s 4ms/step - loss: 0.2640 - accuracy: 0.8865 - val_loss: 0.1997 - val_accuracy: 0.9121\n",
      "Epoch 127/130\n",
      " 1/14 [=>............................] - ETA: 0s - loss: 0.4562 - accuracy: 0.8438\n",
      "Epoch 00127: val_loss did not improve from 0.18206\n",
      "14/14 [==============================] - 0s 4ms/step - loss: 0.2475 - accuracy: 0.9102 - val_loss: 0.1831 - val_accuracy: 0.9505\n",
      "Epoch 128/130\n",
      " 1/14 [=>............................] - ETA: 0s - loss: 0.4199 - accuracy: 0.8438\n",
      "Epoch 00128: val_loss improved from 0.18206 to 0.18034, saving model to saved_models\\weights.best.basic_mlp.h5\n",
      "14/14 [==============================] - 0s 5ms/step - loss: 0.2374 - accuracy: 0.8913 - val_loss: 0.1803 - val_accuracy: 0.9341\n",
      "Epoch 129/130\n",
      " 1/14 [=>............................] - ETA: 0s - loss: 0.2931 - accuracy: 0.8750\n",
      "Epoch 00129: val_loss improved from 0.18034 to 0.17886, saving model to saved_models\\weights.best.basic_mlp.h5\n",
      "14/14 [==============================] - 0s 6ms/step - loss: 0.2151 - accuracy: 0.9054 - val_loss: 0.1789 - val_accuracy: 0.9231\n",
      "Epoch 130/130\n",
      " 1/14 [=>............................] - ETA: 0s - loss: 0.2132 - accuracy: 0.8750\n",
      "Epoch 00130: val_loss improved from 0.17886 to 0.15993, saving model to saved_models\\weights.best.basic_mlp.h5\n",
      "14/14 [==============================] - 0s 6ms/step - loss: 0.2065 - accuracy: 0.9125 - val_loss: 0.1599 - val_accuracy: 0.9505\n",
      "Training completed in time:  0:00:08.880358\n"
     ]
    }
   ],
   "source": [
    "from keras.callbacks import ModelCheckpoint \n",
    "from datetime import datetime \n",
    "\n",
    "num_epochs = 130\n",
    "num_batch_size = 32\n",
    "\n",
    "checkpointer = ModelCheckpoint(filepath='saved_models/weights.best.basic_mlp.h5', \n",
    "                               verbose=1, save_best_only=True)\n",
    "start = datetime.now()\n",
    "\n",
    "history = model.fit(x_train, y_train, batch_size=num_batch_size, epochs=num_epochs, validation_data=(x_test, y_test), callbacks=[checkpointer], verbose=1)\n",
    "\n",
    "\n",
    "duration = datetime.now() - start\n",
    "print(\"Training completed in time: \", duration)"
   ]
  },
  {
   "cell_type": "markdown",
   "metadata": {},
   "source": [
    "### Test the model \n",
    "\n",
    "Here we will review the accuracy of the model on both the training and test data sets. "
   ]
  },
  {
   "cell_type": "code",
   "execution_count": 19,
   "metadata": {},
   "outputs": [
    {
     "name": "stdout",
     "output_type": "stream",
     "text": [
      "INFO:tensorflow:Assets written to: saved_models/mlp_ka_sapna\\assets\n"
     ]
    }
   ],
   "source": [
    "model.save('saved_models/mlp_ka_sapna')"
   ]
  },
  {
   "cell_type": "code",
   "execution_count": 20,
   "metadata": {},
   "outputs": [
    {
     "name": "stdout",
     "output_type": "stream",
     "text": [
      "INFO:tensorflow:Assets written to: saved_models/mlp_ka_sapna\\assets\n",
      "Training Accuracy:  0.9550827145576477\n",
      "Testing Accuracy:  0.9505494236946106\n"
     ]
    }
   ],
   "source": [
    "# Evaluating the model on the training and testing set\n",
    "model.save('saved_models/mlp_ka_sapna')\n",
    "\n",
    "training_accuracy = model.evaluate(x_train, y_train, verbose=0)\n",
    "print(\"Training Accuracy: \", training_accuracy[1])\n",
    "\n",
    "testing_accuracy = model.evaluate(x_test, y_test, verbose=0)\n",
    "\n",
    "print(\"Testing Accuracy: \", testing_accuracy[1])"
   ]
  },
  {
   "cell_type": "markdown",
   "metadata": {},
   "source": [
    "The initial Training and Testing accuracy scores are quite high. As there is not a great difference between the Training and Test scores (~5%) this suggests that the model has not suffered from overfitting. "
   ]
  },
  {
   "cell_type": "code",
   "execution_count": 23,
   "metadata": {},
   "outputs": [],
   "source": [
    "#predicted_vector = model.predict(x_test)\n",
    "predict_x=model.predict(x_test) \n",
    "predicted_vector=np.argmax(predict_x,axis=1)\n",
    "le = LabelEncoder()\n",
    "yy_pred = to_categorical(le.fit_transform(predicted_vector)) \n",
    "# print(yy_pred)"
   ]
  },
  {
   "cell_type": "code",
   "execution_count": 24,
   "metadata": {},
   "outputs": [
    {
     "name": "stdout",
     "output_type": "stream",
     "text": [
      "Normalized confusion matrix\n",
      "[[0.98 0.02]\n",
      " [0.12 0.88]]\n"
     ]
    },
    {
     "data": {
      "image/png": "[encoded data removed]",
      "text/plain": [
       "<Figure size 432x288 with 2 Axes>"
      ]
     },
     "metadata": {
      "needs_background": "light"
     },
     "output_type": "display_data"
    }
   ],
   "source": [
    "from sklearn.metrics import classification_report\n",
    "from sklearn.metrics import confusion_matrix\n",
    "from sklearn.metrics import plot_confusion_matrix\n",
    "import matplotlib.pyplot as plt\n",
    "import itertools\n",
    "\n",
    "def plot_confusion_matrix(cm, classes,\n",
    "                          normalize=False,\n",
    "                          title='Confusion matrix',\n",
    "                          cmap=plt.cm.Blues):\n",
    "    plt.imshow(cm, interpolation='nearest', cmap=cmap)\n",
    "    plt.title(title)\n",
    "    plt.colorbar()\n",
    "    tick_marks = np.arange(len(classes))\n",
    "    plt.xticks(tick_marks, classes, rotation=45)\n",
    "    plt.yticks(tick_marks, classes)\n",
    "\n",
    "    if normalize:\n",
    "        cm = cm.astype('float') / cm.sum(axis=1)[:, np.newaxis]\n",
    "        print(\"Normalized confusion matrix\")\n",
    "    else:\n",
    "        print('Confusion matrix, without normalization')\n",
    "\n",
    "    print(cm)\n",
    "    np.set_printoptions(precision=2)\n",
    "    thresh = cm.max() / 2.\n",
    "    for i, j in itertools.product(range(cm.shape[0]), range(cm.shape[1])):\n",
    "        plt.text(j, i, cm[i, j],\n",
    "                 horizontalalignment=\"center\",\n",
    "                 color=\"white\" if cm[i, j] > thresh else \"black\")\n",
    "\n",
    "    plt.tight_layout()\n",
    "    plt.ylabel('True label')\n",
    "    plt.xlabel('Predicted label')\n",
    "\n",
    "\n",
    "cnf_matrix=confusion_matrix(y_test.argmax(axis=1),yy_pred.argmax(axis=1))\n",
    "np.set_printoptions(precision=2)\n",
    "plt.figure()\n",
    "plot_confusion_matrix(cnf_matrix, ['negative','positive'],\n",
    "                      'Confusion matrix, without normalization')\n",
    "plt.show()\n",
    "\n",
    "\n"
   ]
  },
  {
   "cell_type": "code",
   "execution_count": 25,
   "metadata": {},
   "outputs": [
    {
     "name": "stdout",
     "output_type": "stream",
     "text": [
      "              precision    recall  f1-score   support\n",
      "\n",
      "           0       0.98      0.94      0.96       127\n",
      "           1       0.88      0.96      0.92        55\n",
      "\n",
      "    accuracy                           0.95       182\n",
      "   macro avg       0.93      0.95      0.94       182\n",
      "weighted avg       0.95      0.95      0.95       182\n",
      "\n"
     ]
    }
   ],
   "source": [
    "print(classification_report(yy_pred.argmax(axis=1),y_test.argmax(axis=1)))"
   ]
  },
  {
   "cell_type": "code",
   "execution_count": 26,
   "metadata": {},
   "outputs": [
    {
     "data": {
      "text/plain": [
       "<matplotlib.legend.Legend at 0x1fe9f3c85e0>"
      ]
     },
     "execution_count": 26,
     "metadata": {},
     "output_type": "execute_result"
    },
    {
     "data": {
      "image/png": "[encoded data removed]",
      "text/plain": [
       "<Figure size 1008x432 with 2 Axes>"
      ]
     },
     "metadata": {
      "needs_background": "light"
     },
     "output_type": "display_data"
    }
   ],
   "source": [
    "import matplotlib.pyplot as plt\n",
    " \n",
    "history_dict = history.history\n",
    "loss_values = history_dict['loss']\n",
    "val_loss_values = history_dict['val_loss']\n",
    "accuracy = history_dict['accuracy']\n",
    "val_accuracy = history_dict['val_accuracy']\n",
    " \n",
    "epochs = range(1, len(loss_values) + 1)\n",
    "fig, ax = plt.subplots(1, 2, figsize=(14, 6))\n",
    "#\n",
    "# Plot the model accuracy vs Epochs\n",
    "#\n",
    "ax[0].plot(epochs, accuracy, 'ro', label='Training accuracy')\n",
    "ax[0].plot(epochs, val_accuracy, 'b', label='Validation accuracy')\n",
    "ax[0].set_title('Training & Validation Accuracy', fontsize=16)\n",
    "ax[0].set_xlabel('Epochs', fontsize=16)\n",
    "ax[0].set_ylabel('Accuracy', fontsize=16)\n",
    "ax[0].legend()\n",
    "#\n",
    "# Plot the loss vs Epochs\n",
    "#\n",
    "ax[1].plot(epochs, loss_values, 'ro', label='Training loss')\n",
    "ax[1].plot(epochs, val_loss_values, 'b', label='Validation loss')\n",
    "ax[1].set_title('Training & Validation Loss', fontsize=16)\n",
    "ax[1].set_xlabel('Epochs', fontsize=16)\n",
    "ax[1].set_ylabel('Loss', fontsize=16)\n",
    "ax[1].legend()"
   ]
  },
  {
   "cell_type": "markdown",
   "metadata": {},
   "source": [
    "### Predictions  \n",
    "\n",
    "Here we will build a method which will allow us to test the models predictions on a specified audio .wav file. "
   ]
  },
  {
   "cell_type": "code",
   "execution_count": 27,
   "metadata": {},
   "outputs": [],
   "source": [
    "import librosa \n",
    "import numpy as np \n",
    "\n",
    "def extract_feature(file_name):\n",
    "   \n",
    "    try:\n",
    "        audio_data, sample_rate = librosa.load(file_name, res_type='kaiser_fast') \n",
    "        mfccs = librosa.feature.mfcc(y=audio_data, sr=sample_rate, n_mfcc=40)\n",
    "        mfccsscaled = np.mean(mfccs.T,axis=0)\n",
    "        \n",
    "    except Exception as e:\n",
    "        print(\"Error encountered while parsing file: \", file_name)\n",
    "        return None, None\n",
    "\n",
    "    return np.array([mfccsscaled])\n"
   ]
  },
  {
   "cell_type": "code",
   "execution_count": 62,
   "metadata": {},
   "outputs": [],
   "source": [
    "def print_prediction(file_name):\n",
    "    prediction_feature = extract_feature(file_name) \n",
    "\n",
    "    #predicted_vector = model.predict_classes(prediction_feature)\n",
    "    predict_x=model.predict(prediction_feature) \n",
    "    predicted_vector=np.argmax(predict_x,axis=1)\n",
    "    predicted_class = le.inverse_transform(predicted_vector) \n",
    "    print(\"The predicted class is:\", predicted_class[0], '\\n') \n",
    "\n",
    "    predicted_proba_vector = model.predict(prediction_feature) \n",
    "    predicted_proba = predicted_proba_vector[0]\n",
    "    for i in range(len(predicted_proba)): \n",
    "        category = le.inverse_transform(np.array([i]))\n",
    "        print(category[0], \"\\t\\t : \", format(predicted_proba[i], '.32f') )"
   ]
  },
  {
   "cell_type": "markdown",
   "metadata": {},
   "source": [
    "### Validation \n",
    "\n",
    "#### Test with sample data \n",
    "\n",
    "Initial sainity check to verify the predictions using a subsection of the sample audio files we explored in the first notebook. We expect the bulk of these to be classified correctly. "
   ]
  },
  {
   "cell_type": "code",
   "execution_count": 63,
   "metadata": {},
   "outputs": [
    {
     "name": "stdout",
     "output_type": "stream",
     "text": [
      "The predicted class is: 0 \n",
      "\n",
      "0 \t\t :  0.99303036928176879882812500000000\n",
      "1 \t\t :  0.00696968426927924156188964843750\n"
     ]
    }
   ],
   "source": [
    "# Class: neg\n",
    "\n",
    "filename = './clinical/converted/neg/neg-0421-088-cough-f-66.wav' \n",
    "print_prediction(filename) "
   ]
  },
  {
   "cell_type": "code",
   "execution_count": 61,
   "metadata": {
    "scrolled": true
   },
   "outputs": [
    {
     "name": "stdout",
     "output_type": "stream",
     "text": [
      "The predicted class is: 1 \n",
      "\n",
      "0 \t\t :  0.00875048246234655380249023437500\n",
      "1 \t\t :  0.99124956130981445312500000000000\n"
     ]
    }
   ],
   "source": [
    "# Class: positive\n",
    "\n",
    "filename = './clinical/converted/pos/pos-0421-094-cough-m-51.wav'\n",
    "print_prediction(filename) "
   ]
  },
  {
   "cell_type": "code",
   "execution_count": 36,
   "metadata": {},
   "outputs": [],
   "source": [
    "# # Class: Street music \n",
    "\n",
    "# filename = '../UrbanSound Dataset sample/audio/101848-9-0-0.wav'\n",
    "# print_prediction(filename) "
   ]
  },
  {
   "cell_type": "code",
   "execution_count": 37,
   "metadata": {},
   "outputs": [],
   "source": [
    "#  Class: Car Horn \n",
    "\n",
    "# filename = '../UrbanSound Dataset sample/audio/100648-1-0-0.wav'\n",
    "# print_prediction(filename) "
   ]
  },
  {
   "cell_type": "markdown",
   "metadata": {},
   "source": [
    "#### Observations \n",
    "\n",
    "From this brief sanity check the model seems to predict well. One errror was observed whereby a car horn was incorrectly classifed as a dog bark. \n",
    "\n",
    "We can see from the per class confidence that this was quite a low score (43%). This allows follows our early observation that a dog bark and car horn are similar in spectral shape. "
   ]
  },
  {
   "cell_type": "markdown",
   "metadata": {},
   "source": [
    "### Other audio\n",
    "\n",
    "Here we will use a sample of various copyright free sounds that we not part of either our test or training data to further validate our model. "
   ]
  },
  {
   "cell_type": "code",
   "execution_count": 64,
   "metadata": {},
   "outputs": [],
   "source": [
    "#filename = '../Evaluation audio/pos/az5zELVN7ObicxGrBLMoX8ki1LF2_shallow_1.wav'\n",
    "#print_prediction(filename) "
   ]
  },
  {
   "cell_type": "code",
   "execution_count": 65,
   "metadata": {
    "scrolled": true
   },
   "outputs": [
    {
     "name": "stdout",
     "output_type": "stream",
     "text": [
      "The predicted class is: 0 \n",
      "\n",
      "0 \t\t :  0.90905565023422241210937500000000\n",
      "1 \t\t :  0.09094434231519699096679687500000\n"
     ]
    }
   ],
   "source": [
    "filename = '../Evaluation audio/Tanya(20-4-2021).wav'\n",
    "\n",
    "print_prediction(filename) "
   ]
  },
  {
   "cell_type": "code",
   "execution_count": 66,
   "metadata": {},
   "outputs": [],
   "source": [
    "#filename = '../Evaluation audio/pos/Fi2lLmV3LHR5brvXs0z1JSKDvnI2_heavy_1.wav'\n",
    "\n",
    "#print_prediction(filename) \n",
    "\n",
    "# sample data weighted towards gun shot - peak in the dog barking sample is simmilar in shape to the gun shot sample"
   ]
  },
  {
   "cell_type": "code",
   "execution_count": 67,
   "metadata": {},
   "outputs": [],
   "source": [
    "#filename = '../Evaluation audio/neg/0zAgZhOXaGhmL1SnhkzJOIoowKg2_heavy_1.wav'\n",
    "\n",
    "#print_prediction(filename) "
   ]
  },
  {
   "cell_type": "code",
   "execution_count": 68,
   "metadata": {},
   "outputs": [
    {
     "name": "stdout",
     "output_type": "stream",
     "text": [
      "The predicted class is: 0 \n",
      "\n",
      "0 \t\t :  0.92866593599319458007812500000000\n",
      "1 \t\t :  0.07133407145738601684570312500000\n"
     ]
    }
   ],
   "source": [
    "filename = '../Evaluation audio/Ghaziabad.wav'\n",
    "\n",
    "print_prediction(filename) "
   ]
  },
  {
   "cell_type": "code",
   "execution_count": 69,
   "metadata": {},
   "outputs": [
    {
     "name": "stdout",
     "output_type": "stream",
     "text": [
      "The predicted class is: 0 \n",
      "\n",
      "0 \t\t :  0.82455629110336303710937500000000\n",
      "1 \t\t :  0.17544366419315338134765625000000\n"
     ]
    }
   ],
   "source": [
    "filename = '../Evaluation audio/coughtest2.wav'\n",
    "\n",
    "print_prediction(filename) "
   ]
  },
  {
   "cell_type": "code",
   "execution_count": 70,
   "metadata": {},
   "outputs": [],
   "source": [
    "\n",
    "#filename = '../Evaluation audio/neg/zBiORuLmvGhOciaUXFeAKRhMyhj2_heavy_5.wav'\n",
    "\n",
    "#print_prediction(filename) "
   ]
  },
  {
   "cell_type": "code",
   "execution_count": 71,
   "metadata": {},
   "outputs": [
    {
     "name": "stdout",
     "output_type": "stream",
     "text": [
      "The predicted class is: 1 \n",
      "\n",
      "0 \t\t :  0.12461473792791366577148437500000\n",
      "1 \t\t :  0.87538528442382812500000000000000\n"
     ]
    }
   ],
   "source": [
    "filename = '../Evaluation audio/Divyam.wav'\n",
    "\n",
    "print_prediction(filename) "
   ]
  },
  {
   "cell_type": "code",
   "execution_count": 72,
   "metadata": {},
   "outputs": [
    {
     "name": "stdout",
     "output_type": "stream",
     "text": [
      "The predicted class is: 0 \n",
      "\n",
      "0 \t\t :  0.82465344667434692382812500000000\n",
      "1 \t\t :  0.17534659802913665771484375000000\n"
     ]
    }
   ],
   "source": [
    "filename = '../Evaluation audio/DJ(03-05-21).wav'\n",
    "\n",
    "print_prediction(filename) "
   ]
  },
  {
   "cell_type": "code",
   "execution_count": 73,
   "metadata": {},
   "outputs": [
    {
     "name": "stdout",
     "output_type": "stream",
     "text": [
      "The predicted class is: 0 \n",
      "\n",
      "0 \t\t :  0.85730642080307006835937500000000\n",
      "1 \t\t :  0.14269351959228515625000000000000\n"
     ]
    }
   ],
   "source": [
    "filename = '../Evaluation audio/DJ2.wav'\n",
    "\n",
    "print_prediction(filename) "
   ]
  },
  {
   "cell_type": "code",
   "execution_count": 74,
   "metadata": {},
   "outputs": [
    {
     "name": "stdout",
     "output_type": "stream",
     "text": [
      "The predicted class is: 1 \n",
      "\n",
      "0 \t\t :  0.14283017814159393310546875000000\n",
      "1 \t\t :  0.85716974735260009765625000000000\n"
     ]
    }
   ],
   "source": [
    "filename = '../Evaluation audio/DJ3.wav'\n",
    "\n",
    "print_prediction(filename) "
   ]
  },
  {
   "cell_type": "code",
   "execution_count": 75,
   "metadata": {},
   "outputs": [
    {
     "name": "stdout",
     "output_type": "stream",
     "text": [
      "The predicted class is: 0 \n",
      "\n",
      "0 \t\t :  0.99734133481979370117187500000000\n",
      "1 \t\t :  0.00265863956883549690246582031250\n"
     ]
    }
   ],
   "source": [
    "filename = '../Evaluation audio/Vardhika(03-05-21).wav'\n",
    "\n",
    "print_prediction(filename) "
   ]
  },
  {
   "cell_type": "code",
   "execution_count": 76,
   "metadata": {},
   "outputs": [
    {
     "name": "stdout",
     "output_type": "stream",
     "text": [
      "The predicted class is: 1 \n",
      "\n",
      "0 \t\t :  0.19803266227245330810546875000000\n",
      "1 \t\t :  0.80196732282638549804687500000000\n"
     ]
    }
   ],
   "source": [
    "filename = '../Evaluation audio/Tanyas_Grandma(29-4-2021).wav'\n",
    "\n",
    "print_prediction(filename) "
   ]
  },
  {
   "cell_type": "code",
   "execution_count": 77,
   "metadata": {},
   "outputs": [
    {
     "name": "stdout",
     "output_type": "stream",
     "text": [
      "The predicted class is: 0 \n",
      "\n",
      "0 \t\t :  0.77881205081939697265625000000000\n",
      "1 \t\t :  0.22118791937828063964843750000000\n"
     ]
    }
   ],
   "source": [
    "filename = '../Evaluation audio/Mom(29-4-2021).wav'\n",
    "\n",
    "print_prediction(filename) \n"
   ]
  },
  {
   "cell_type": "code",
   "execution_count": 78,
   "metadata": {},
   "outputs": [
    {
     "name": "stdout",
     "output_type": "stream",
     "text": [
      "The predicted class is: 0 \n",
      "\n",
      "0 \t\t :  0.85706651210784912109375000000000\n",
      "1 \t\t :  0.14293350279331207275390625000000\n"
     ]
    }
   ],
   "source": [
    "filename = '../Evaluation audio/Avi(29-4-2021).wav'\n",
    "\n",
    "print_prediction(filename) "
   ]
  },
  {
   "cell_type": "code",
   "execution_count": 79,
   "metadata": {},
   "outputs": [
    {
     "name": "stdout",
     "output_type": "stream",
     "text": [
      "The predicted class is: 0 \n",
      "\n",
      "0 \t\t :  0.88225281238555908203125000000000\n",
      "1 \t\t :  0.11774717271327972412109375000000\n"
     ]
    }
   ],
   "source": [
    "filename = '../Evaluation audio/Bhaiya(04-05-21).wav'\n",
    "\n",
    "print_prediction(filename) "
   ]
  },
  {
   "cell_type": "code",
   "execution_count": 80,
   "metadata": {},
   "outputs": [
    {
     "name": "stdout",
     "output_type": "stream",
     "text": [
      "The predicted class is: 1 \n",
      "\n",
      "0 \t\t :  0.46860334277153015136718750000000\n",
      "1 \t\t :  0.53139662742614746093750000000000\n"
     ]
    }
   ],
   "source": [
    "filename = '../Evaluation audio/Papa(29-4-2021).wav'\n",
    "\n",
    "print_prediction(filename) "
   ]
  },
  {
   "cell_type": "code",
   "execution_count": 81,
   "metadata": {},
   "outputs": [
    {
     "name": "stdout",
     "output_type": "stream",
     "text": [
      "The predicted class is: 0 \n",
      "\n",
      "0 \t\t :  0.90370321273803710937500000000000\n",
      "1 \t\t :  0.09629682451486587524414062500000\n"
     ]
    }
   ],
   "source": [
    "filename = '../Evaluation audio/Shreya2(08-05-21).wav'\n",
    "\n",
    "print_prediction(filename) "
   ]
  },
  {
   "cell_type": "code",
   "execution_count": 82,
   "metadata": {},
   "outputs": [
    {
     "name": "stdout",
     "output_type": "stream",
     "text": [
      "The predicted class is: 0 \n",
      "\n",
      "0 \t\t :  0.67805248498916625976562500000000\n",
      "1 \t\t :  0.32194754481315612792968750000000\n"
     ]
    }
   ],
   "source": [
    "filename = '../Evaluation audio/Satyashree3(08-05-21).wav'\n",
    "\n",
    "print_prediction(filename) "
   ]
  },
  {
   "cell_type": "markdown",
   "metadata": {},
   "source": [
    "#### Observations \n",
    "\n",
    "The performance of our initial model is satisfactorry and has generalised well, seeming to predict well when tested against new audio data. "
   ]
  },
  {
   "cell_type": "markdown",
   "metadata": {},
   "source": [
    "### *In the next notebook we will refine our model*"
   ]
  },
  {
   "cell_type": "code",
   "execution_count": null,
   "metadata": {},
   "outputs": [],
   "source": []
  }
 ],
 "metadata": {
  "kernelspec": {
   "display_name": "Python 3 (ipykernel)",
   "language": "python",
   "name": "python3"
  },
  "language_info": {
   "codemirror_mode": {
    "name": "ipython",
    "version": 3
   },
   "file_extension": ".py",
   "mimetype": "text/x-python",
   "name": "python",
   "nbconvert_exporter": "python",
   "pygments_lexer": "ipython3",
   "version": "3.9.7"
  }
 },
 "nbformat": 4,
 "nbformat_minor": 4
}
