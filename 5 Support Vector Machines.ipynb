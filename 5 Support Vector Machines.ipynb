{
 "cells": [
  {
   "cell_type": "code",
   "execution_count": 1,
   "metadata": {},
   "outputs": [],
   "source": [
    "import os\n",
    "from keras.applications.vgg19 import VGG19\n",
    "from keras.preprocessing import image\n",
    "from keras.applications.vgg19 import preprocess_input\n",
    "from keras.models import Model\n",
    "import numpy as np\n"
   ]
  },
  {
   "cell_type": "code",
   "execution_count": 2,
   "metadata": {},
   "outputs": [],
   "source": [
    "from scipy.io.wavfile import read\n",
    "import matplotlib.pyplot as plt\n",
    "from os import walk\n",
    "import os"
   ]
  },
  {
   "cell_type": "code",
   "execution_count": 5,
   "metadata": {},
   "outputs": [
    {
     "name": "stdout",
     "output_type": "stream",
     "text": [
      "['neg-0421-083-cough-m-53-0.wav', 'neg-0421-083-cough-m-53-1.wav', 'neg-0421-083-cough-m-53-10.wav', 'neg-0421-083-cough-m-53-11.wav', 'neg-0421-083-cough-m-53-12.wav', 'neg-0421-083-cough-m-53-13.wav', 'neg-0421-083-cough-m-53-14.wav', 'neg-0421-083-cough-m-53-15.wav', 'neg-0421-083-cough-m-53-16.wav', 'neg-0421-083-cough-m-53-17.wav', 'neg-0421-083-cough-m-53-2.wav', 'neg-0421-083-cough-m-53-3.wav', 'neg-0421-083-cough-m-53-4.wav', 'neg-0421-083-cough-m-53-5.wav', 'neg-0421-083-cough-m-53-6.wav', 'neg-0421-083-cough-m-53-7.wav', 'neg-0421-083-cough-m-53-8.wav', 'neg-0421-083-cough-m-53-9.wav', 'neg-0421-085-cough-m-43-1.wav', 'neg-0421-085-cough-m-43-2.wav', 'neg-0421-088-cough-f-66-0.wav', 'neg-0421-088-cough-f-66-1.wav', 'neg-0421-088-cough-f-66-2.wav', 'neg-0421-088-cough-f-66-3.wav', 'neg-0421-088-cough-f-66-4.wav', 'neg-0421-088-cough-f-66-5.wav', 'neg-0421-088-cough-f-66-6.wav', 'neg-0421-088-cough-f-66-8.wav', 'neg-0421-089-cough-f-20-0.wav', 'neg-0421-089-cough-f-20-2.wav', 'neg-0421-089-cough-f-20-3.wav', 'neg-0421-089-cough-f-20-4.wav', 'neg-0421-089-cough-f-20-5.wav', 'neg-0421-089-cough-f-20-6.wav', 'neg-0421-090-cough-f-17-1.wav', 'neg-0421-090-cough-f-17-11.wav', 'neg-0421-090-cough-f-17-2.wav', 'neg-0421-090-cough-f-17-3.wav', 'neg-0421-090-cough-f-17-4.wav', 'neg-0421-090-cough-f-17-5.wav', 'neg-0421-090-cough-f-17-6.wav', 'neg-0421-090-cough-f-17-7.wav', 'neg-0421-091-cough-m-47-1.wav', 'neg-0421-091-cough-m-47-2.wav', 'neg-0421-091-cough-m-47-3.wav', 'neg-0421-091-cough-m-47-4.wav', 'neg-0421-091-cough-m-47-5.wav', 'neg-0421-091-cough-m-47-6.wav', 'neg-0421-091-cough-m-47-7.wav', 'neg-0421-091-cough-m-47-8.wav', 'neg-0422-095-cough-m-53-0.wav', 'neg-0422-095-cough-m-53-1.wav', 'neg-0422-095-cough-m-53-10.wav', 'neg-0422-095-cough-m-53-12.wav', 'neg-0422-095-cough-m-53-13.wav', 'neg-0422-095-cough-m-53-14.wav', 'neg-0422-095-cough-m-53-15.wav', 'neg-0422-095-cough-m-53-2.wav', 'neg-0422-095-cough-m-53-3.wav', 'neg-0422-095-cough-m-53-4.wav', 'neg-0422-095-cough-m-53-5.wav', 'neg-0422-095-cough-m-53-6.wav', 'neg-0422-095-cough-m-53-7.wav', 'neg-0422-095-cough-m-53-8.wav', 'neg-0422-095-cough-m-53-9.wav', 'neg-0422-097-cough-m-37-1.wav', 'neg-0422-097-cough-m-37-3.wav', 'neg-0422-097-cough-m-37-4.wav', 'neg-0422-097-cough-m-37-8.wav', 'neg-0422-097-cough-m-37-9.wav', 'neg-0422-098-cough-f-24-0.wav', 'neg-0422-098-cough-f-24-1.wav', 'neg-0422-098-cough-f-24-5.wav']\n"
     ]
    }
   ],
   "source": [
    "if not os.path.exists(\"cough_negPlots\"):\n",
    "    os.makedirs(\"cough_negPlots\")\n",
    "car_wavs = []\n",
    "for (_,_,filenames) in walk('C:/Users/yajwi/OneDrive/Desktop/Udacity-ML-Capstone-master/Notebooks/clinical/converted_seg/cneg'):\n",
    "    car_wavs.extend(filenames)\n",
    "    print(filenames)\n",
    "    break"
   ]
  },
  {
   "cell_type": "code",
   "execution_count": 6,
   "metadata": {},
   "outputs": [
    {
     "data": {
      "text/plain": [
       "['neg-0421-083-cough-m-53-0.wav',\n",
       " 'neg-0421-083-cough-m-53-1.wav',\n",
       " 'neg-0421-083-cough-m-53-10.wav',\n",
       " 'neg-0421-083-cough-m-53-11.wav',\n",
       " 'neg-0421-083-cough-m-53-12.wav',\n",
       " 'neg-0421-083-cough-m-53-13.wav',\n",
       " 'neg-0421-083-cough-m-53-14.wav',\n",
       " 'neg-0421-083-cough-m-53-15.wav',\n",
       " 'neg-0421-083-cough-m-53-16.wav',\n",
       " 'neg-0421-083-cough-m-53-17.wav',\n",
       " 'neg-0421-083-cough-m-53-2.wav',\n",
       " 'neg-0421-083-cough-m-53-3.wav',\n",
       " 'neg-0421-083-cough-m-53-4.wav',\n",
       " 'neg-0421-083-cough-m-53-5.wav',\n",
       " 'neg-0421-083-cough-m-53-6.wav',\n",
       " 'neg-0421-083-cough-m-53-7.wav',\n",
       " 'neg-0421-083-cough-m-53-8.wav',\n",
       " 'neg-0421-083-cough-m-53-9.wav',\n",
       " 'neg-0421-085-cough-m-43-1.wav',\n",
       " 'neg-0421-085-cough-m-43-2.wav',\n",
       " 'neg-0421-088-cough-f-66-0.wav',\n",
       " 'neg-0421-088-cough-f-66-1.wav',\n",
       " 'neg-0421-088-cough-f-66-2.wav',\n",
       " 'neg-0421-088-cough-f-66-3.wav',\n",
       " 'neg-0421-088-cough-f-66-4.wav',\n",
       " 'neg-0421-088-cough-f-66-5.wav',\n",
       " 'neg-0421-088-cough-f-66-6.wav',\n",
       " 'neg-0421-088-cough-f-66-8.wav',\n",
       " 'neg-0421-089-cough-f-20-0.wav',\n",
       " 'neg-0421-089-cough-f-20-2.wav',\n",
       " 'neg-0421-089-cough-f-20-3.wav',\n",
       " 'neg-0421-089-cough-f-20-4.wav',\n",
       " 'neg-0421-089-cough-f-20-5.wav',\n",
       " 'neg-0421-089-cough-f-20-6.wav',\n",
       " 'neg-0421-090-cough-f-17-1.wav',\n",
       " 'neg-0421-090-cough-f-17-11.wav',\n",
       " 'neg-0421-090-cough-f-17-2.wav',\n",
       " 'neg-0421-090-cough-f-17-3.wav',\n",
       " 'neg-0421-090-cough-f-17-4.wav',\n",
       " 'neg-0421-090-cough-f-17-5.wav',\n",
       " 'neg-0421-090-cough-f-17-6.wav',\n",
       " 'neg-0421-090-cough-f-17-7.wav',\n",
       " 'neg-0421-091-cough-m-47-1.wav',\n",
       " 'neg-0421-091-cough-m-47-2.wav',\n",
       " 'neg-0421-091-cough-m-47-3.wav',\n",
       " 'neg-0421-091-cough-m-47-4.wav',\n",
       " 'neg-0421-091-cough-m-47-5.wav',\n",
       " 'neg-0421-091-cough-m-47-6.wav',\n",
       " 'neg-0421-091-cough-m-47-7.wav',\n",
       " 'neg-0421-091-cough-m-47-8.wav',\n",
       " 'neg-0422-095-cough-m-53-0.wav',\n",
       " 'neg-0422-095-cough-m-53-1.wav',\n",
       " 'neg-0422-095-cough-m-53-10.wav',\n",
       " 'neg-0422-095-cough-m-53-12.wav',\n",
       " 'neg-0422-095-cough-m-53-13.wav',\n",
       " 'neg-0422-095-cough-m-53-14.wav',\n",
       " 'neg-0422-095-cough-m-53-15.wav',\n",
       " 'neg-0422-095-cough-m-53-2.wav',\n",
       " 'neg-0422-095-cough-m-53-3.wav',\n",
       " 'neg-0422-095-cough-m-53-4.wav',\n",
       " 'neg-0422-095-cough-m-53-5.wav',\n",
       " 'neg-0422-095-cough-m-53-6.wav',\n",
       " 'neg-0422-095-cough-m-53-7.wav',\n",
       " 'neg-0422-095-cough-m-53-8.wav',\n",
       " 'neg-0422-095-cough-m-53-9.wav',\n",
       " 'neg-0422-097-cough-m-37-1.wav',\n",
       " 'neg-0422-097-cough-m-37-3.wav',\n",
       " 'neg-0422-097-cough-m-37-4.wav',\n",
       " 'neg-0422-097-cough-m-37-8.wav',\n",
       " 'neg-0422-097-cough-m-37-9.wav',\n",
       " 'neg-0422-098-cough-f-24-0.wav',\n",
       " 'neg-0422-098-cough-f-24-1.wav',\n",
       " 'neg-0422-098-cough-f-24-5.wav']"
      ]
     },
     "execution_count": 6,
     "metadata": {},
     "output_type": "execute_result"
    }
   ],
   "source": [
    "car_wavs"
   ]
  },
  {
   "cell_type": "code",
   "execution_count": 8,
   "metadata": {},
   "outputs": [],
   "source": [
    "for car_wav in car_wavs:\n",
    "    # read audio samples\n",
    "    input_data = read(\"C:/Users/yajwi/OneDrive/Desktop/Udacity-ML-Capstone-master/Notebooks/clinical/converted_seg/cneg/\" + car_wav)\n",
    "    audio = input_data[1]\n",
    "    # plot the first 1024 samples\n",
    "    plt.plot(audio)\n",
    "    # label the axes\n",
    "    plt.ylabel(\"Amplitude\")\n",
    "    plt.xlabel(\"Time\")\n",
    "    # set the title\n",
    "    # plt.title(\"Sample Wav\")\n",
    "    # display the plot\n",
    "    plt.savefig(\"cough_negPlots/\" + car_wav.split('.')[0] + '.png')\n",
    "    # plt.show()\n",
    "    plt.close('all')"
   ]
  },
  {
   "cell_type": "code",
   "execution_count": 10,
   "metadata": {},
   "outputs": [],
   "source": [
    "# for pos \n",
    "if not os.path.exists(\"cough_posPlots\"):\n",
    "    os.makedirs(\"cough_posPlots\")\n",
    "car_wavs = []\n",
    "for (_,_,filenames) in walk('C:/Users/yajwi/OneDrive/Desktop/Udacity-ML-Capstone-master/Notebooks/clinical/converted_seg/cpos'):\n",
    "    car_wavs.extend(filenames)\n",
    "    break"
   ]
  },
  {
   "cell_type": "code",
   "execution_count": 11,
   "metadata": {},
   "outputs": [],
   "source": [
    "for car_wav in car_wavs:\n",
    "    # read audio samples\n",
    "    input_data = read(\"C:/Users/yajwi/OneDrive/Desktop/Udacity-ML-Capstone-master/Notebooks/clinical/converted_seg/cpos/\" + car_wav)\n",
    "    audio = input_data[1]\n",
    "    # plot the first 1024 samples\n",
    "    plt.plot(audio)\n",
    "    # label the axes\n",
    "    plt.ylabel(\"Amplitude\")\n",
    "    plt.xlabel(\"Time\")\n",
    "    # set the title\n",
    "    # plt.title(\"Sample Wav\")\n",
    "    # display the plot\n",
    "    plt.savefig(\"cough_posPlots/\" + car_wav.split('.')[0] + '.png')\n",
    "    # plt.show()\n",
    "    plt.close('all')"
   ]
  },
  {
   "cell_type": "code",
   "execution_count": 12,
   "metadata": {},
   "outputs": [
    {
     "name": "stdout",
     "output_type": "stream",
     "text": [
      "Downloading data from https://storage.googleapis.com/tensorflow/keras-applications/vgg19/vgg19_weights_tf_dim_ordering_tf_kernels.h5\n",
      "574717952/574710816 [==============================] - 134s 0us/step\n"
     ]
    }
   ],
   "source": [
    "base_model = VGG19(weights='imagenet')\n",
    "model = Model(inputs=base_model.input, outputs=base_model.get_layer('flatten').output)"
   ]
  },
  {
   "cell_type": "code",
   "execution_count": 13,
   "metadata": {},
   "outputs": [],
   "source": [
    "def get_features(img_path):\n",
    "    img = image.load_img(img_path, target_size=(224, 224))\n",
    "    x = image.img_to_array(img)\n",
    "    x = np.expand_dims(x, axis=0)\n",
    "    x = preprocess_input(x)\n",
    "    flatten = model.predict(x)\n",
    "    return list(flatten[0])"
   ]
  },
  {
   "cell_type": "code",
   "execution_count": 14,
   "metadata": {},
   "outputs": [],
   "source": [
    "X = []\n",
    "y = []"
   ]
  },
  {
   "cell_type": "code",
   "execution_count": 15,
   "metadata": {},
   "outputs": [],
   "source": [
    "car_plots = []\n",
    "for (_,_,filenames) in os.walk('cough_negPlots'):\n",
    "    car_plots.extend(filenames)\n",
    "    break"
   ]
  },
  {
   "cell_type": "code",
   "execution_count": 16,
   "metadata": {},
   "outputs": [
    {
     "data": {
      "text/plain": [
       "['neg-0421-083-cough-m-53-0.png',\n",
       " 'neg-0421-083-cough-m-53-1.png',\n",
       " 'neg-0421-083-cough-m-53-10.png',\n",
       " 'neg-0421-083-cough-m-53-11.png',\n",
       " 'neg-0421-083-cough-m-53-12.png',\n",
       " 'neg-0421-083-cough-m-53-13.png',\n",
       " 'neg-0421-083-cough-m-53-14.png',\n",
       " 'neg-0421-083-cough-m-53-15.png',\n",
       " 'neg-0421-083-cough-m-53-16.png',\n",
       " 'neg-0421-083-cough-m-53-17.png',\n",
       " 'neg-0421-083-cough-m-53-2.png',\n",
       " 'neg-0421-083-cough-m-53-3.png',\n",
       " 'neg-0421-083-cough-m-53-4.png',\n",
       " 'neg-0421-083-cough-m-53-5.png',\n",
       " 'neg-0421-083-cough-m-53-6.png',\n",
       " 'neg-0421-083-cough-m-53-7.png',\n",
       " 'neg-0421-083-cough-m-53-8.png',\n",
       " 'neg-0421-083-cough-m-53-9.png',\n",
       " 'neg-0421-085-cough-m-43-1.png',\n",
       " 'neg-0421-085-cough-m-43-2.png',\n",
       " 'neg-0421-088-cough-f-66-0.png',\n",
       " 'neg-0421-088-cough-f-66-1.png',\n",
       " 'neg-0421-088-cough-f-66-2.png',\n",
       " 'neg-0421-088-cough-f-66-3.png',\n",
       " 'neg-0421-088-cough-f-66-4.png',\n",
       " 'neg-0421-088-cough-f-66-5.png',\n",
       " 'neg-0421-088-cough-f-66-6.png',\n",
       " 'neg-0421-088-cough-f-66-8.png',\n",
       " 'neg-0421-089-cough-f-20-0.png',\n",
       " 'neg-0421-089-cough-f-20-2.png',\n",
       " 'neg-0421-089-cough-f-20-3.png',\n",
       " 'neg-0421-089-cough-f-20-4.png',\n",
       " 'neg-0421-089-cough-f-20-5.png',\n",
       " 'neg-0421-089-cough-f-20-6.png',\n",
       " 'neg-0421-090-cough-f-17-1.png',\n",
       " 'neg-0421-090-cough-f-17-11.png',\n",
       " 'neg-0421-090-cough-f-17-2.png',\n",
       " 'neg-0421-090-cough-f-17-3.png',\n",
       " 'neg-0421-090-cough-f-17-4.png',\n",
       " 'neg-0421-090-cough-f-17-5.png',\n",
       " 'neg-0421-090-cough-f-17-6.png',\n",
       " 'neg-0421-090-cough-f-17-7.png',\n",
       " 'neg-0421-091-cough-m-47-1.png',\n",
       " 'neg-0421-091-cough-m-47-2.png',\n",
       " 'neg-0421-091-cough-m-47-3.png',\n",
       " 'neg-0421-091-cough-m-47-4.png',\n",
       " 'neg-0421-091-cough-m-47-5.png',\n",
       " 'neg-0421-091-cough-m-47-6.png',\n",
       " 'neg-0421-091-cough-m-47-7.png',\n",
       " 'neg-0421-091-cough-m-47-8.png',\n",
       " 'neg-0422-095-cough-m-53-0.png',\n",
       " 'neg-0422-095-cough-m-53-1.png',\n",
       " 'neg-0422-095-cough-m-53-10.png',\n",
       " 'neg-0422-095-cough-m-53-12.png',\n",
       " 'neg-0422-095-cough-m-53-13.png',\n",
       " 'neg-0422-095-cough-m-53-14.png',\n",
       " 'neg-0422-095-cough-m-53-15.png',\n",
       " 'neg-0422-095-cough-m-53-2.png',\n",
       " 'neg-0422-095-cough-m-53-3.png',\n",
       " 'neg-0422-095-cough-m-53-4.png',\n",
       " 'neg-0422-095-cough-m-53-5.png',\n",
       " 'neg-0422-095-cough-m-53-6.png',\n",
       " 'neg-0422-095-cough-m-53-7.png',\n",
       " 'neg-0422-095-cough-m-53-8.png',\n",
       " 'neg-0422-095-cough-m-53-9.png',\n",
       " 'neg-0422-097-cough-m-37-1.png',\n",
       " 'neg-0422-097-cough-m-37-3.png',\n",
       " 'neg-0422-097-cough-m-37-4.png',\n",
       " 'neg-0422-097-cough-m-37-8.png',\n",
       " 'neg-0422-097-cough-m-37-9.png',\n",
       " 'neg-0422-098-cough-f-24-0.png',\n",
       " 'neg-0422-098-cough-f-24-1.png',\n",
       " 'neg-0422-098-cough-f-24-5.png']"
      ]
     },
     "execution_count": 16,
     "metadata": {},
     "output_type": "execute_result"
    }
   ],
   "source": [
    "car_plots"
   ]
  },
  {
   "cell_type": "code",
   "execution_count": 17,
   "metadata": {},
   "outputs": [],
   "source": [
    "for cplot in car_plots:\n",
    "    X.append(get_features('cough_negPlots/' + cplot))\n",
    "    y.append(0)"
   ]
  },
  {
   "cell_type": "code",
   "execution_count": 31,
   "metadata": {},
   "outputs": [],
   "source": [
    "bike_plots = []\n",
    "for (_,_,filenames) in os.walk('cough_posPlots'):\n",
    "    bike_plots.extend(filenames)\n",
    "    break"
   ]
  },
  {
   "cell_type": "code",
   "execution_count": 32,
   "metadata": {},
   "outputs": [
    {
     "data": {
      "text/plain": [
       "['pos-0421-084-cough-m-50-0.png',\n",
       " 'pos-0421-084-cough-m-50-1.png',\n",
       " 'pos-0421-084-cough-m-50-2.png',\n",
       " 'pos-0421-084-cough-m-50-3.png',\n",
       " 'pos-0421-084-cough-m-50-4.png',\n",
       " 'pos-0421-084-cough-m-50-5.png',\n",
       " 'pos-0421-084-cough-m-50-6.png',\n",
       " 'pos-0421-084-cough-m-50-7.png',\n",
       " 'pos-0421-086-cough-m-65-0.png',\n",
       " 'pos-0421-086-cough-m-65-1.png',\n",
       " 'pos-0421-086-cough-m-65-2.png',\n",
       " 'pos-0421-086-cough-m-65-3.png',\n",
       " 'pos-0421-086-cough-m-65-4.png',\n",
       " 'pos-0421-086-cough-m-65-5.png',\n",
       " 'pos-0421-086-cough-m-65-6.png',\n",
       " 'pos-0421-086-cough-m-65-7.png',\n",
       " 'pos-0421-086-cough-m-65-8.png',\n",
       " 'pos-0421-087-cough-f-40-0.png',\n",
       " 'pos-0421-087-cough-f-40-1.png',\n",
       " 'pos-0421-087-cough-f-40-2.png',\n",
       " 'pos-0421-087-cough-f-40-3.png',\n",
       " 'pos-0421-087-cough-f-40-5.png',\n",
       " 'pos-0421-087-cough-f-40-6.png',\n",
       " 'pos-0421-092-cough-m-53-0.png',\n",
       " 'pos-0421-092-cough-m-53-1.png',\n",
       " 'pos-0421-092-cough-m-53-12.png',\n",
       " 'pos-0421-092-cough-m-53-13.png',\n",
       " 'pos-0421-092-cough-m-53-3.png',\n",
       " 'pos-0421-092-cough-m-53-5.png',\n",
       " 'pos-0421-092-cough-m-53-6.png',\n",
       " 'pos-0421-092-cough-m-53-7.png',\n",
       " 'pos-0421-092-cough-m-53-9.png',\n",
       " 'pos-0421-093-cough-f-24-0.png',\n",
       " 'pos-0421-093-cough-f-24-1.png',\n",
       " 'pos-0421-093-cough-f-24-2.png',\n",
       " 'pos-0421-093-cough-f-24-5.png',\n",
       " 'pos-0421-093-cough-f-24-6.png',\n",
       " 'pos-0421-094-cough-m-51-0.png',\n",
       " 'pos-0421-094-cough-m-51-2.png',\n",
       " 'pos-0421-094-cough-m-51-3.png',\n",
       " 'pos-0421-094-cough-m-51-4.png',\n",
       " 'pos-0421-094-cough-m-51-5.png',\n",
       " 'pos-0421-094-cough-m-51-6.png',\n",
       " 'pos-0421-094-cough-m-51-7.png',\n",
       " 'pos-0422-096-cough-m-31-1.png',\n",
       " 'pos-0422-096-cough-m-31-2.png',\n",
       " 'pos-0422-096-cough-m-31-6.png',\n",
       " 'pos-0422-096-cough-m-31-8.png']"
      ]
     },
     "execution_count": 32,
     "metadata": {},
     "output_type": "execute_result"
    }
   ],
   "source": [
    "bike_plots"
   ]
  },
  {
   "cell_type": "code",
   "execution_count": 33,
   "metadata": {},
   "outputs": [],
   "source": [
    "for cplot in bike_plots:\n",
    "    X.append(get_features('cough_posPlots/' + cplot))\n",
    "    y.append(1)"
   ]
  },
  {
   "cell_type": "code",
   "execution_count": 34,
   "metadata": {},
   "outputs": [
    {
     "data": {
      "text/plain": [
       "[0,\n",
       " 0,\n",
       " 0,\n",
       " 0,\n",
       " 0,\n",
       " 0,\n",
       " 0,\n",
       " 0,\n",
       " 0,\n",
       " 0,\n",
       " 0,\n",
       " 0,\n",
       " 0,\n",
       " 0,\n",
       " 0,\n",
       " 0,\n",
       " 0,\n",
       " 0,\n",
       " 0,\n",
       " 0,\n",
       " 0,\n",
       " 0,\n",
       " 0,\n",
       " 0,\n",
       " 0,\n",
       " 0,\n",
       " 0,\n",
       " 0,\n",
       " 0,\n",
       " 0,\n",
       " 0,\n",
       " 0,\n",
       " 0,\n",
       " 0,\n",
       " 0,\n",
       " 0,\n",
       " 0,\n",
       " 0,\n",
       " 0,\n",
       " 0,\n",
       " 0,\n",
       " 0,\n",
       " 0,\n",
       " 0,\n",
       " 0,\n",
       " 0,\n",
       " 0,\n",
       " 0,\n",
       " 0,\n",
       " 0,\n",
       " 0,\n",
       " 0,\n",
       " 0,\n",
       " 0,\n",
       " 0,\n",
       " 0,\n",
       " 0,\n",
       " 0,\n",
       " 0,\n",
       " 0,\n",
       " 0,\n",
       " 0,\n",
       " 0,\n",
       " 0,\n",
       " 0,\n",
       " 0,\n",
       " 0,\n",
       " 0,\n",
       " 0,\n",
       " 0,\n",
       " 0,\n",
       " 0,\n",
       " 0,\n",
       " 1,\n",
       " 1,\n",
       " 1,\n",
       " 1,\n",
       " 1,\n",
       " 1,\n",
       " 1,\n",
       " 1,\n",
       " 1,\n",
       " 1,\n",
       " 1,\n",
       " 1,\n",
       " 1,\n",
       " 1,\n",
       " 1,\n",
       " 1,\n",
       " 1,\n",
       " 1,\n",
       " 1,\n",
       " 1,\n",
       " 1,\n",
       " 1,\n",
       " 1,\n",
       " 1,\n",
       " 1,\n",
       " 1,\n",
       " 1,\n",
       " 1,\n",
       " 1,\n",
       " 1,\n",
       " 1,\n",
       " 1,\n",
       " 1,\n",
       " 1,\n",
       " 1,\n",
       " 1,\n",
       " 1,\n",
       " 1,\n",
       " 1,\n",
       " 1,\n",
       " 1,\n",
       " 1,\n",
       " 1,\n",
       " 1,\n",
       " 1,\n",
       " 1,\n",
       " 1,\n",
       " 1]"
      ]
     },
     "execution_count": 34,
     "metadata": {},
     "output_type": "execute_result"
    }
   ],
   "source": [
    "y"
   ]
  },
  {
   "cell_type": "code",
   "execution_count": 35,
   "metadata": {},
   "outputs": [],
   "source": [
    "from sklearn.model_selection import train_test_split\n",
    "from sklearn.svm import LinearSVC\n",
    "from sklearn.metrics import accuracy_score"
   ]
  },
  {
   "cell_type": "code",
   "execution_count": 36,
   "metadata": {},
   "outputs": [],
   "source": [
    "X_train, X_test, y_train, y_test = train_test_split(X, y, test_size=0.30, random_state=42, stratify=y)"
   ]
  },
  {
   "cell_type": "code",
   "execution_count": 37,
   "metadata": {},
   "outputs": [
    {
     "data": {
      "text/plain": [
       "LinearSVC(random_state=0, tol=1e-05)"
      ]
     },
     "execution_count": 37,
     "metadata": {},
     "output_type": "execute_result"
    }
   ],
   "source": [
    "clf = LinearSVC(random_state=0, tol=1e-5)\n",
    "clf.fit(X_train, y_train)"
   ]
  },
  {
   "cell_type": "code",
   "execution_count": 38,
   "metadata": {},
   "outputs": [
    {
     "name": "stdout",
     "output_type": "stream",
     "text": [
      "0.8108108108108109\n"
     ]
    }
   ],
   "source": [
    "predicted = clf.predict(X_test)\n",
    "\n",
    "# get the accuracy\n",
    "print (accuracy_score(y_test, predicted))"
   ]
  },
  {
   "cell_type": "code",
   "execution_count": 42,
   "metadata": {},
   "outputs": [
    {
     "name": "stdout",
     "output_type": "stream",
     "text": [
      "              precision    recall  f1-score   support\n",
      "\n",
      "           0       0.89      0.77      0.83        22\n",
      "           1       0.72      0.87      0.79        15\n",
      "\n",
      "    accuracy                           0.81        37\n",
      "   macro avg       0.81      0.82      0.81        37\n",
      "weighted avg       0.82      0.81      0.81        37\n",
      "\n"
     ]
    }
   ],
   "source": [
    "from sklearn.metrics import classification_report, confusion_matrix\n",
    "print(classification_report(y_test, predicted))"
   ]
  },
  {
   "cell_type": "code",
   "execution_count": 43,
   "metadata": {},
   "outputs": [
    {
     "data": {
      "image/png": "[encoded data removed]",
      "text/plain": [
       "<Figure size 432x288 with 2 Axes>"
      ]
     },
     "metadata": {
      "needs_background": "light"
     },
     "output_type": "display_data"
    }
   ],
   "source": [
    "from sklearn.metrics import plot_confusion_matrix\n",
    "import matplotlib.pyplot as plt\n",
    "import seaborn as sns\n",
    "plot_confusion_matrix(clf, X_test, y_test)\n",
    "plt.show()"
   ]
  },
  {
   "cell_type": "code",
   "execution_count": null,
   "metadata": {},
   "outputs": [],
   "source": []
  }
 ],
 "metadata": {
  "kernelspec": {
   "display_name": "Python 3",
   "language": "python",
   "name": "python3"
  },
  "language_info": {
   "codemirror_mode": {
    "name": "ipython",
    "version": 3
   },
   "file_extension": ".py",
   "mimetype": "text/x-python",
   "name": "python",
   "nbconvert_exporter": "python",
   "pygments_lexer": "ipython3",
   "version": "3.8.3"
  }
 },
 "nbformat": 4,
 "nbformat_minor": 4
}
