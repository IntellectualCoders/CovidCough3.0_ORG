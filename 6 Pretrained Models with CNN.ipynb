{
 "cells": [
  {
   "cell_type": "code",
   "execution_count": 60,
   "metadata": {},
   "outputs": [],
   "source": [
    "%matplotlib inline\n",
    "# from memory_profiler import memory_usage\n",
    "import os\n",
    "import pandas as pd\n",
    "from glob import glob\n",
    "import numpy as np"
   ]
  },
  {
   "cell_type": "code",
   "execution_count": 61,
   "metadata": {},
   "outputs": [],
   "source": [
    "from keras import layers\n",
    "from keras import models\n",
    "from keras.layers.advanced_activations import LeakyReLU\n",
    "from keras.optimizers import Adam\n",
    "import keras.backend as K\n",
    "import librosa\n",
    "import librosa.display\n",
    "import pylab\n",
    "import matplotlib.pyplot as plt\n",
    "from matplotlib import figure\n",
    "import gc\n",
    "# from path import Path"
   ]
  },
  {
   "cell_type": "code",
   "execution_count": 62,
   "metadata": {},
   "outputs": [],
   "source": [
    "import IPython.display as ipd\n",
    "# % pylab inline\n",
    "import os\n",
    "import pandas as pd\n",
    "import librosa\n",
    "import glob \n",
    "import librosa.display\n",
    "import random\n",
    "\n",
    "from sklearn.preprocessing import StandardScaler\n",
    "from sklearn.model_selection import train_test_split\n",
    "\n",
    "from keras.utils.np_utils import to_categorical\n",
    "\n",
    "import numpy as np\n",
    "from keras.models import Sequential\n",
    "from keras.layers import Dense, Dropout, Activation, Flatten\n",
    "from keras.layers import Convolution2D, MaxPooling2D\n",
    "from keras.optimizers import Adam\n",
    "from keras.utils import np_utils\n",
    "from sklearn import metrics \n",
    "\n",
    "from sklearn.datasets import make_regression\n",
    "from sklearn.preprocessing import StandardScaler\n",
    "from sklearn import metrics\n",
    "from sklearn.model_selection import train_test_split, GridSearchCV\n",
    "\n",
    "from tensorflow.keras.models import Sequential\n",
    "from tensorflow.keras.layers import Dense, Dropout \n",
    "from tensorflow.keras.wrappers.scikit_learn import KerasRegressor\n",
    "from keras.models import load_model\n",
    "from keras.models import Sequential\n",
    "from keras.layers import Dense, Dropout, Activation, Flatten\n",
    "from keras.layers import Conv1D, GlobalAveragePooling1D, MaxPooling1D\n",
    "from keras_preprocessing.image import ImageDataGenerator\n",
    "from keras.layers import Dense, Activation, Flatten, Dropout, BatchNormalization\n",
    "from keras.models import Sequential, Model\n",
    "from keras.layers import Conv2D, MaxPooling2D\n",
    "from keras import regularizers, optimizers\n",
    "\n",
    "from keras.callbacks import EarlyStopping\n",
    "\n",
    "from keras import regularizers\n",
    "\n",
    "from sklearn.preprocessing import LabelEncoder\n",
    "\n",
    "import os\n",
    "from glob import glob"
   ]
  },
  {
   "cell_type": "markdown",
   "metadata": {},
   "source": [
    "#### First step is to create a picture from the audio file"
   ]
  },
  {
   "cell_type": "code",
   "execution_count": 63,
   "metadata": {},
   "outputs": [],
   "source": [
    "data = pd.read_csv('./dataset_minor_3000.csv')"
   ]
  },
  {
   "cell_type": "code",
   "execution_count": 68,
   "metadata": {},
   "outputs": [],
   "source": [
    "filename= 'C:/Users/Deepa Kapoor/Data Science/New Project/train_3000_examples/neg16kHz/0RHdUsu2qFMmG4dhpJd1NqM5ZTC2_heavy_1.wav'"
   ]
  },
  {
   "cell_type": "code",
   "execution_count": 70,
   "metadata": {},
   "outputs": [
    {
     "data": {
      "text/html": [
       "\n",
       "                <audio  controls=\"controls\" >\n",
       "                    <source src=\"data:audio/wav;base64,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\" type=\"audio/wav\" />\n",
       "                    Your browser does not support the audio element.\n",
       "                </audio>\n",
       "              "
      ],
      "text/plain": [
       "<IPython.lib.display.Audio object>"
      ]
     },
     "execution_count": 70,
     "metadata": {},
     "output_type": "execute_result"
    }
   ],
   "source": [
    "# i = random.choice(data.filename)\n",
    "ipd.Audio(filename)"
   ]
  },
  {
   "cell_type": "markdown",
   "metadata": {},
   "source": [
    "Visualizing the melspectrogram "
   ]
  },
  {
   "cell_type": "code",
   "execution_count": 71,
   "metadata": {
    "scrolled": true
   },
   "outputs": [
    {
     "data": {
      "image/png": "[encoded data removed]",
      "text/plain": [
       "<Figure size 432x288 with 1 Axes>"
      ]
     },
     "metadata": {
      "needs_background": "light"
     },
     "output_type": "display_data"
    }
   ],
   "source": [
    "X, sample_rate = librosa.load(filename, sr=None, res_type='kaiser_fast')\n",
    "S = librosa.feature.melspectrogram(y=X, sr=sample_rate)\n",
    "librosa.display.specshow(librosa.power_to_db(S, ref=np.max), y_axis='linear')\n",
    "plt.show()"
   ]
  },
  {
   "cell_type": "markdown",
   "metadata": {},
   "source": [
    "Using a function to generate and save the melspectrogram for each audio file"
   ]
  },
  {
   "cell_type": "code",
   "execution_count": 89,
   "metadata": {},
   "outputs": [],
   "source": [
    "# Although this function was modified and many parameteres were explored with, most of it \n",
    "# came from Source 18 (sources in the READ.ME)\n",
    "\n",
    "def images(file):\n",
    "    \n",
    "    # We define the audiofile from the rows of the dataframe when we iterate through\n",
    "    # every row of our dataframe for train, val and test\n",
    "    if(file.corona_test == 'negative'):\n",
    "        audiofile = os.path.join(os.path.abspath('train_3000_examples/neg16kHz')+'/'+str(file.cough_filename))\n",
    "    else:\n",
    "        audiofile = os.path.join(os.path.abspath('train_3000_examples/pos16kHz')+'/'+str(file.cough_filename))\n",
    "    \n",
    "    \n",
    "    # Loading the image with no sample rate to use the original sample rate and\n",
    "    # kaiser_fast to make the speed faster according to a blog post about it (on references)\n",
    "    X, sample_rate = librosa.load(audiofile, sr=None, res_type='kaiser_fast')\n",
    "   \n",
    "    # Setting the size of the image\n",
    "    fig = plt.figure(figsize=[1,1])\n",
    "    \n",
    "    # This is to get rid of the axes and only get the picture \n",
    "    ax = fig.add_subplot(111)\n",
    "    ax.axes.get_xaxis().set_visible(False)\n",
    "    ax.axes.get_yaxis().set_visible(False)\n",
    "    ax.set_frame_on(False)\n",
    "    \n",
    "    # This is the melspectrogram from the decibels with a linear relationship\n",
    "    S = librosa.feature.melspectrogram(y=X, sr=sample_rate)\n",
    "    librosa.display.specshow(librosa.power_to_db(S, ref=np.max), y_axis='linear')\n",
    "    \n",
    "    # Here we choose the path and the name to save the file, we will change the path when\n",
    "    # using the function for train, val and test to make the function easy to use and output\n",
    "    # the images in different folders to use later with a generator\n",
    "    name = file.cough_filename\n",
    "    file  = 'train3000_images/' + str(name) + '.jpg'\n",
    "    \n",
    "    # Here we finally save the image file choosing the resolution \n",
    "    plt.savefig(file, dpi=500, bbox_inches='tight',pad_inches=0)\n",
    "    \n",
    "    # Here we close the image because otherwise we get a warning saying that the image stays\n",
    "    # open and consumes memory\n",
    "    plt.close()"
   ]
  },
  {
   "cell_type": "code",
   "execution_count": 90,
   "metadata": {},
   "outputs": [],
   "source": [
    "# Although this function was modified and many parameteres were explored with, most of it \n",
    "# came from Source 18 (sources in the READ.ME)\n",
    "\n",
    "def test_images(file):\n",
    "    \n",
    "    # We define the audiofile from the rows of the dataframe when we iterate through\n",
    "    # every row of our dataframe for train, val and test\n",
    "    if(file.corona_test == 'negative'):\n",
    "        audiofile = os.path.join(os.path.abspath('train_3000_examples/neg16kHz')+'/'+str(file.cough_filename))\n",
    "    else:\n",
    "        audiofile = os.path.join(os.path.abspath('train_3000_examples/pos16kHz')+'/'+str(file.cough_filename))\n",
    "    \n",
    "    \n",
    "    # Loading the image with no sample rate to use the original sample rate and\n",
    "    # kaiser_fast to make the speed faster according to a blog post about it (on references)\n",
    "    X, sample_rate = librosa.load(audiofile, sr=None, res_type='kaiser_fast')\n",
    "   \n",
    "    # Setting the size of the image\n",
    "    fig = plt.figure(figsize=[1,1])\n",
    "    \n",
    "    # This is to get rid of the axes and only get the picture \n",
    "    ax = fig.add_subplot(111)\n",
    "    ax.axes.get_xaxis().set_visible(False)\n",
    "    ax.axes.get_yaxis().set_visible(False)\n",
    "    ax.set_frame_on(False)\n",
    "    \n",
    "    # This is the melspectrogram from the decibels with a linear relationship\n",
    "    S = librosa.feature.melspectrogram(y=X, sr=sample_rate)\n",
    "    librosa.display.specshow(librosa.power_to_db(S, ref=np.max), y_axis='linear')\n",
    "    \n",
    "    # Here we choose the path and the name to save the file, we will change the path when\n",
    "    # using the function for train, val and test to make the function easy to use and output\n",
    "    # the images in different folders to use later with a generator\n",
    "    name = file.cough_filename\n",
    "    file  = 'test3000_images/' + str(name) + '.jpg'\n",
    "    \n",
    "    # Here we finally save the image file choosing the resolution \n",
    "    plt.savefig(file, dpi=500, bbox_inches='tight',pad_inches=0)\n",
    "    \n",
    "    # Here we close the image because otherwise we get a warning saying that the image stays\n",
    "    # open and consumes memory\n",
    "    plt.close()"
   ]
  },
  {
   "cell_type": "code",
   "execution_count": 91,
   "metadata": {},
   "outputs": [],
   "source": [
    "# Although this function was modified and many parameteres were explored with, most of it \n",
    "# came from Source 18 (sources in the READ.ME)\n",
    "\n",
    "def val_images(file):\n",
    "    \n",
    "    # We define the audiofile from the rows of the dataframe when we iterate through\n",
    "    # every row of our dataframe for train, val and test\n",
    "    if(file.corona_test == 'negative'):\n",
    "        audiofile = os.path.join(os.path.abspath('train_3000_examples/neg16kHz')+'/'+str(file.cough_filename))\n",
    "    else:\n",
    "        audiofile = os.path.join(os.path.abspath('train_3000_examples/pos16kHz')+'/'+str(file.cough_filename))\n",
    "    \n",
    "    \n",
    "    # Loading the image with no sample rate to use the original sample rate and\n",
    "    # kaiser_fast to make the speed faster according to a blog post about it (on references)\n",
    "    X, sample_rate = librosa.load(audiofile, sr=None, res_type='kaiser_fast')\n",
    "   \n",
    "    # Setting the size of the image\n",
    "    fig = plt.figure(figsize=[1,1])\n",
    "    \n",
    "    # This is to get rid of the axes and only get the picture \n",
    "    ax = fig.add_subplot(111)\n",
    "    ax.axes.get_xaxis().set_visible(False)\n",
    "    ax.axes.get_yaxis().set_visible(False)\n",
    "    ax.set_frame_on(False)\n",
    "    \n",
    "    # This is the melspectrogram from the decibels with a linear relationship\n",
    "    S = librosa.feature.melspectrogram(y=X, sr=sample_rate)\n",
    "    librosa.display.specshow(librosa.power_to_db(S, ref=np.max), y_axis='linear')\n",
    "    \n",
    "    # Here we choose the path and the name to save the file, we will change the path when\n",
    "    # using the function for train, val and test to make the function easy to use and output\n",
    "    # the images in different folders to use later with a generator\n",
    "    name = file.cough_filename\n",
    "    file  = 'val3000_images/' + str(name) + '.jpg'\n",
    "    \n",
    "    # Here we finally save the image file choosing the resolution \n",
    "    plt.savefig(file, dpi=500, bbox_inches='tight',pad_inches=0)\n",
    "    \n",
    "    # Here we close the image because otherwise we get a warning saying that the image stays\n",
    "    # open and consumes memory\n",
    "    plt.close()"
   ]
  },
  {
   "cell_type": "markdown",
   "metadata": {},
   "source": [
    "Now we load the dataframe and slice the data into train, validation and testing data like before. Again, 3435 for training, 1000 for validation and 1000 for testing."
   ]
  },
  {
   "cell_type": "code",
   "execution_count": 92,
   "metadata": {},
   "outputs": [],
   "source": [
    "data = pd.read_csv('./dataset_minor_3000.csv')"
   ]
  },
  {
   "cell_type": "code",
   "execution_count": 93,
   "metadata": {},
   "outputs": [
    {
     "data": {
      "text/html": [
       "<div>\n",
       "<style scoped>\n",
       "    .dataframe tbody tr th:only-of-type {\n",
       "        vertical-align: middle;\n",
       "    }\n",
       "\n",
       "    .dataframe tbody tr th {\n",
       "        vertical-align: top;\n",
       "    }\n",
       "\n",
       "    .dataframe thead th {\n",
       "        text-align: right;\n",
       "    }\n",
       "</style>\n",
       "<table border=\"1\" class=\"dataframe\">\n",
       "  <thead>\n",
       "    <tr style=\"text-align: right;\">\n",
       "      <th></th>\n",
       "      <th>corona_test</th>\n",
       "      <th>cough_filename</th>\n",
       "    </tr>\n",
       "  </thead>\n",
       "  <tbody>\n",
       "    <tr>\n",
       "      <th>0</th>\n",
       "      <td>negative</td>\n",
       "      <td>01OCEf1yB4czsq8ygRoT51s96Ba2_heavy_1.wav</td>\n",
       "    </tr>\n",
       "    <tr>\n",
       "      <th>1</th>\n",
       "      <td>negative</td>\n",
       "      <td>01OCEf1yB4czsq8ygRoT51s96Ba2_heavy_2.wav</td>\n",
       "    </tr>\n",
       "    <tr>\n",
       "      <th>2</th>\n",
       "      <td>negative</td>\n",
       "      <td>01OCEf1yB4czsq8ygRoT51s96Ba2_shallow_1.wav</td>\n",
       "    </tr>\n",
       "    <tr>\n",
       "      <th>3</th>\n",
       "      <td>negative</td>\n",
       "      <td>01OCEf1yB4czsq8ygRoT51s96Ba2_shallow_3.wav</td>\n",
       "    </tr>\n",
       "    <tr>\n",
       "      <th>4</th>\n",
       "      <td>negative</td>\n",
       "      <td>0c00ybTdnIRUTXeg20bZjJOzhKv1_heavy_1.wav</td>\n",
       "    </tr>\n",
       "  </tbody>\n",
       "</table>\n",
       "</div>"
      ],
      "text/plain": [
       "  corona_test                              cough_filename\n",
       "0    negative    01OCEf1yB4czsq8ygRoT51s96Ba2_heavy_1.wav\n",
       "1    negative    01OCEf1yB4czsq8ygRoT51s96Ba2_heavy_2.wav\n",
       "2    negative  01OCEf1yB4czsq8ygRoT51s96Ba2_shallow_1.wav\n",
       "3    negative  01OCEf1yB4czsq8ygRoT51s96Ba2_shallow_3.wav\n",
       "4    negative    0c00ybTdnIRUTXeg20bZjJOzhKv1_heavy_1.wav"
      ]
     },
     "execution_count": 93,
     "metadata": {},
     "output_type": "execute_result"
    }
   ],
   "source": [
    "data.head()"
   ]
  },
  {
   "cell_type": "code",
   "execution_count": 94,
   "metadata": {},
   "outputs": [],
   "source": [
    "# train = data[:300] \n",
    "# val = data[301:351] + data[475:525]\n",
    "# test = data[352:402] + data[424:474]\n",
    "X_train,X_test,Y_train,Y_test = train_test_split(data['corona_test'],data['cough_filename'],test_size=0.2,random_state=0)"
   ]
  },
  {
   "cell_type": "markdown",
   "metadata": {},
   "source": [
    "We use the function to create all the images from train, val and test"
   ]
  },
  {
   "cell_type": "code",
   "execution_count": 95,
   "metadata": {},
   "outputs": [
    {
     "data": {
      "text/plain": [
       "2370    positive\n",
       "1774    positive\n",
       "731     negative\n",
       "271     negative\n",
       "1077    negative\n",
       "Name: corona_test, dtype: object"
      ]
     },
     "execution_count": 95,
     "metadata": {},
     "output_type": "execute_result"
    }
   ],
   "source": [
    "X_train.head()"
   ]
  },
  {
   "cell_type": "code",
   "execution_count": 96,
   "metadata": {},
   "outputs": [
    {
     "data": {
      "text/plain": [
       "2370                           wavegan_pos_486.wav\n",
       "1774    s1x2Ze9iVZNf6oFZDAZ4S9x3Cky2_shallow_1.wav\n",
       "731                            wavegan_neg_356.wav\n",
       "271     Sy1VK1UgX0ZMcMJitgPal1sp8jj2_shallow_2.wav\n",
       "1077                           wavegan_neg_668.wav\n",
       "Name: cough_filename, dtype: object"
      ]
     },
     "execution_count": 96,
     "metadata": {},
     "output_type": "execute_result"
    }
   ],
   "source": [
    "Y_train.head()"
   ]
  },
  {
   "cell_type": "code",
   "execution_count": 97,
   "metadata": {},
   "outputs": [],
   "source": [
    "frames= [X_train,Y_train]\n",
    "train=pd.concat(frames,axis=1)"
   ]
  },
  {
   "cell_type": "code",
   "execution_count": 98,
   "metadata": {},
   "outputs": [
    {
     "data": {
      "text/html": [
       "<div>\n",
       "<style scoped>\n",
       "    .dataframe tbody tr th:only-of-type {\n",
       "        vertical-align: middle;\n",
       "    }\n",
       "\n",
       "    .dataframe tbody tr th {\n",
       "        vertical-align: top;\n",
       "    }\n",
       "\n",
       "    .dataframe thead th {\n",
       "        text-align: right;\n",
       "    }\n",
       "</style>\n",
       "<table border=\"1\" class=\"dataframe\">\n",
       "  <thead>\n",
       "    <tr style=\"text-align: right;\">\n",
       "      <th></th>\n",
       "      <th>corona_test</th>\n",
       "      <th>cough_filename</th>\n",
       "    </tr>\n",
       "  </thead>\n",
       "  <tbody>\n",
       "    <tr>\n",
       "      <th>763</th>\n",
       "      <td>negative</td>\n",
       "      <td>wavegan_neg_385.wav</td>\n",
       "    </tr>\n",
       "    <tr>\n",
       "      <th>835</th>\n",
       "      <td>negative</td>\n",
       "      <td>wavegan_neg_45.wav</td>\n",
       "    </tr>\n",
       "    <tr>\n",
       "      <th>1653</th>\n",
       "      <td>positive</td>\n",
       "      <td>IFMid2LmeCTSQAFaL8wTSUg20No2_shallow_1.wav</td>\n",
       "    </tr>\n",
       "    <tr>\n",
       "      <th>2607</th>\n",
       "      <td>positive</td>\n",
       "      <td>wavegan_pos_7.wav</td>\n",
       "    </tr>\n",
       "    <tr>\n",
       "      <th>2732</th>\n",
       "      <td>positive</td>\n",
       "      <td>wavegan_pos_811.wav</td>\n",
       "    </tr>\n",
       "  </tbody>\n",
       "</table>\n",
       "</div>"
      ],
      "text/plain": [
       "     corona_test                              cough_filename\n",
       "763     negative                         wavegan_neg_385.wav\n",
       "835     negative                          wavegan_neg_45.wav\n",
       "1653    positive  IFMid2LmeCTSQAFaL8wTSUg20No2_shallow_1.wav\n",
       "2607    positive                           wavegan_pos_7.wav\n",
       "2732    positive                         wavegan_pos_811.wav"
      ]
     },
     "execution_count": 98,
     "metadata": {},
     "output_type": "execute_result"
    }
   ],
   "source": [
    "train.tail()"
   ]
  },
  {
   "cell_type": "code",
   "execution_count": 99,
   "metadata": {},
   "outputs": [],
   "source": [
    "X_test1,X_val,Y_test1,Y_val = train_test_split(X_test,Y_test,test_size=0.5,random_state=0)"
   ]
  },
  {
   "cell_type": "code",
   "execution_count": 100,
   "metadata": {},
   "outputs": [],
   "source": [
    "frames2= [X_test1,Y_test1]\n",
    "test=pd.concat(frames2,axis=1)"
   ]
  },
  {
   "cell_type": "code",
   "execution_count": 101,
   "metadata": {},
   "outputs": [
    {
     "data": {
      "text/html": [
       "<div>\n",
       "<style scoped>\n",
       "    .dataframe tbody tr th:only-of-type {\n",
       "        vertical-align: middle;\n",
       "    }\n",
       "\n",
       "    .dataframe tbody tr th {\n",
       "        vertical-align: top;\n",
       "    }\n",
       "\n",
       "    .dataframe thead th {\n",
       "        text-align: right;\n",
       "    }\n",
       "</style>\n",
       "<table border=\"1\" class=\"dataframe\">\n",
       "  <thead>\n",
       "    <tr style=\"text-align: right;\">\n",
       "      <th></th>\n",
       "      <th>corona_test</th>\n",
       "      <th>cough_filename</th>\n",
       "    </tr>\n",
       "  </thead>\n",
       "  <tbody>\n",
       "    <tr>\n",
       "      <th>2272</th>\n",
       "      <td>positive</td>\n",
       "      <td>wavegan_pos_398.wav</td>\n",
       "    </tr>\n",
       "    <tr>\n",
       "      <th>2624</th>\n",
       "      <td>positive</td>\n",
       "      <td>wavegan_pos_714.wav</td>\n",
       "    </tr>\n",
       "    <tr>\n",
       "      <th>485</th>\n",
       "      <td>negative</td>\n",
       "      <td>wavegan_neg_134.wav</td>\n",
       "    </tr>\n",
       "    <tr>\n",
       "      <th>1334</th>\n",
       "      <td>negative</td>\n",
       "      <td>wavegan_neg_9.wav</td>\n",
       "    </tr>\n",
       "    <tr>\n",
       "      <th>2906</th>\n",
       "      <td>positive</td>\n",
       "      <td>wavegan_pos_969.wav</td>\n",
       "    </tr>\n",
       "  </tbody>\n",
       "</table>\n",
       "</div>"
      ],
      "text/plain": [
       "     corona_test       cough_filename\n",
       "2272    positive  wavegan_pos_398.wav\n",
       "2624    positive  wavegan_pos_714.wav\n",
       "485     negative  wavegan_neg_134.wav\n",
       "1334    negative    wavegan_neg_9.wav\n",
       "2906    positive  wavegan_pos_969.wav"
      ]
     },
     "execution_count": 101,
     "metadata": {},
     "output_type": "execute_result"
    }
   ],
   "source": [
    "test.head()"
   ]
  },
  {
   "cell_type": "code",
   "execution_count": 102,
   "metadata": {},
   "outputs": [],
   "source": [
    "frames3= [X_val,Y_val]\n",
    "val=pd.concat(frames3,axis=1)"
   ]
  },
  {
   "cell_type": "code",
   "execution_count": 103,
   "metadata": {},
   "outputs": [
    {
     "data": {
      "text/html": [
       "<div>\n",
       "<style scoped>\n",
       "    .dataframe tbody tr th:only-of-type {\n",
       "        vertical-align: middle;\n",
       "    }\n",
       "\n",
       "    .dataframe tbody tr th {\n",
       "        vertical-align: top;\n",
       "    }\n",
       "\n",
       "    .dataframe thead th {\n",
       "        text-align: right;\n",
       "    }\n",
       "</style>\n",
       "<table border=\"1\" class=\"dataframe\">\n",
       "  <thead>\n",
       "    <tr style=\"text-align: right;\">\n",
       "      <th></th>\n",
       "      <th>corona_test</th>\n",
       "      <th>cough_filename</th>\n",
       "    </tr>\n",
       "  </thead>\n",
       "  <tbody>\n",
       "    <tr>\n",
       "      <th>890</th>\n",
       "      <td>negative</td>\n",
       "      <td>wavegan_neg_5.wav</td>\n",
       "    </tr>\n",
       "    <tr>\n",
       "      <th>2229</th>\n",
       "      <td>positive</td>\n",
       "      <td>wavegan_pos_359.wav</td>\n",
       "    </tr>\n",
       "    <tr>\n",
       "      <th>2350</th>\n",
       "      <td>positive</td>\n",
       "      <td>wavegan_pos_468.wav</td>\n",
       "    </tr>\n",
       "    <tr>\n",
       "      <th>1695</th>\n",
       "      <td>positive</td>\n",
       "      <td>nC130uADRFZF5vae8qZt2qmpbpi1_shallow_3.wav</td>\n",
       "    </tr>\n",
       "    <tr>\n",
       "      <th>1465</th>\n",
       "      <td>negative</td>\n",
       "      <td>XzIjEtRHHPci6Zq0zb9Lx0d6zEr2_shallow_5.wav</td>\n",
       "    </tr>\n",
       "  </tbody>\n",
       "</table>\n",
       "</div>"
      ],
      "text/plain": [
       "     corona_test                              cough_filename\n",
       "890     negative                           wavegan_neg_5.wav\n",
       "2229    positive                         wavegan_pos_359.wav\n",
       "2350    positive                         wavegan_pos_468.wav\n",
       "1695    positive  nC130uADRFZF5vae8qZt2qmpbpi1_shallow_3.wav\n",
       "1465    negative  XzIjEtRHHPci6Zq0zb9Lx0d6zEr2_shallow_5.wav"
      ]
     },
     "execution_count": 103,
     "metadata": {},
     "output_type": "execute_result"
    }
   ],
   "source": [
    "val.head()"
   ]
  },
  {
   "cell_type": "code",
   "execution_count": 104,
   "metadata": {},
   "outputs": [
    {
     "name": "stderr",
     "output_type": "stream",
     "text": [
      "C:\\Users\\Deepa Kapoor\\anaconda364\\lib\\site-packages\\librosa\\core\\spectrum.py:222: UserWarning: n_fft=2048 is too small for input signal of length=1904\n",
      "  warnings.warn(\n",
      "C:\\Users\\Deepa Kapoor\\anaconda364\\lib\\site-packages\\librosa\\core\\spectrum.py:222: UserWarning: n_fft=2048 is too small for input signal of length=384\n",
      "  warnings.warn(\n",
      "C:\\Users\\Deepa Kapoor\\anaconda364\\lib\\site-packages\\librosa\\core\\spectrum.py:222: UserWarning: n_fft=2048 is too small for input signal of length=1664\n",
      "  warnings.warn(\n"
     ]
    }
   ],
   "source": [
    "train.apply(images, axis=1);"
   ]
  },
  {
   "cell_type": "code",
   "execution_count": 105,
   "metadata": {},
   "outputs": [],
   "source": [
    "test.apply(test_images, axis=1);"
   ]
  },
  {
   "cell_type": "code",
   "execution_count": 106,
   "metadata": {},
   "outputs": [],
   "source": [
    "val.apply(val_images, axis=1);"
   ]
  },
  {
   "cell_type": "code",
   "execution_count": 107,
   "metadata": {},
   "outputs": [],
   "source": [
    "plt.close('all')"
   ]
  },
  {
   "cell_type": "code",
   "execution_count": 108,
   "metadata": {},
   "outputs": [],
   "source": [
    "os.system('say -v Juan ya acabé');"
   ]
  },
  {
   "cell_type": "markdown",
   "metadata": {},
   "source": [
    "We will use the datagen.flow_from_dataframe from the keras documentation to use with the CNN\n",
    "https://keras.io/preprocessing/image/"
   ]
  },
  {
   "cell_type": "markdown",
   "metadata": {},
   "source": [
    "![keras](img/keras.jpg)"
   ]
  },
  {
   "cell_type": "code",
   "execution_count": 109,
   "metadata": {},
   "outputs": [],
   "source": [
    "data = pd.read_csv('dataset_minor_3000.csv',dtype=str)"
   ]
  },
  {
   "cell_type": "code",
   "execution_count": 110,
   "metadata": {},
   "outputs": [],
   "source": [
    "# train = data[:3435]\n",
    "# val = data[3435:4435]\n",
    "# test = data[4435:]"
   ]
  },
  {
   "cell_type": "code",
   "execution_count": 111,
   "metadata": {},
   "outputs": [],
   "source": [
    "# Function to change the file names to the image names to use them later \n",
    "def make_jpg(files):\n",
    "    return str(files)+'.jpg'"
   ]
  },
  {
   "cell_type": "code",
   "execution_count": 112,
   "metadata": {
    "scrolled": true
   },
   "outputs": [],
   "source": [
    "train['cough_filename'] = train[\"cough_filename\"].apply(make_jpg)"
   ]
  },
  {
   "cell_type": "code",
   "execution_count": 113,
   "metadata": {},
   "outputs": [],
   "source": [
    "val['cough_filename'] = val[\"cough_filename\"].apply(make_jpg)"
   ]
  },
  {
   "cell_type": "code",
   "execution_count": 114,
   "metadata": {},
   "outputs": [],
   "source": [
    "test['cough_filename'] = test[\"cough_filename\"].apply(make_jpg)"
   ]
  },
  {
   "cell_type": "code",
   "execution_count": 115,
   "metadata": {},
   "outputs": [],
   "source": [
    "# Rescaling the images as usual to feed into the CNN\n",
    "datagen=ImageDataGenerator(rescale=1./255.)\n",
    "# datagen=ImageDataGenerator(rescale = 1./255,\n",
    "#                                    shear_range = 0.2,\n",
    "#                                    zoom_range = 0.2,\n",
    "#                                    horizontal_flip = True,\n",
    "#                                    width_shift_range=0.2,\n",
    "#                                    height_shift_range=0.2,\n",
    "#                                    rotation_range=15,\n",
    "#                                    vertical_flip=True,\n",
    "#                                    fill_mode='reflect',\n",
    "#                                    data_format='channels_last',\n",
    "#                                    brightness_range=[0.5, 1.5],\n",
    "#                                    featurewise_center=True,\n",
    "#                                    featurewise_std_normalization=True)\n"
   ]
  },
  {
   "cell_type": "code",
   "execution_count": 116,
   "metadata": {},
   "outputs": [
    {
     "data": {
      "text/html": [
       "<div>\n",
       "<style scoped>\n",
       "    .dataframe tbody tr th:only-of-type {\n",
       "        vertical-align: middle;\n",
       "    }\n",
       "\n",
       "    .dataframe tbody tr th {\n",
       "        vertical-align: top;\n",
       "    }\n",
       "\n",
       "    .dataframe thead th {\n",
       "        text-align: right;\n",
       "    }\n",
       "</style>\n",
       "<table border=\"1\" class=\"dataframe\">\n",
       "  <thead>\n",
       "    <tr style=\"text-align: right;\">\n",
       "      <th></th>\n",
       "      <th>corona_test</th>\n",
       "      <th>cough_filename</th>\n",
       "    </tr>\n",
       "  </thead>\n",
       "  <tbody>\n",
       "    <tr>\n",
       "      <th>2370</th>\n",
       "      <td>positive</td>\n",
       "      <td>wavegan_pos_486.wav.jpg</td>\n",
       "    </tr>\n",
       "    <tr>\n",
       "      <th>1774</th>\n",
       "      <td>positive</td>\n",
       "      <td>s1x2Ze9iVZNf6oFZDAZ4S9x3Cky2_shallow_1.wav.jpg</td>\n",
       "    </tr>\n",
       "    <tr>\n",
       "      <th>731</th>\n",
       "      <td>negative</td>\n",
       "      <td>wavegan_neg_356.wav.jpg</td>\n",
       "    </tr>\n",
       "    <tr>\n",
       "      <th>271</th>\n",
       "      <td>negative</td>\n",
       "      <td>Sy1VK1UgX0ZMcMJitgPal1sp8jj2_shallow_2.wav.jpg</td>\n",
       "    </tr>\n",
       "    <tr>\n",
       "      <th>1077</th>\n",
       "      <td>negative</td>\n",
       "      <td>wavegan_neg_668.wav.jpg</td>\n",
       "    </tr>\n",
       "  </tbody>\n",
       "</table>\n",
       "</div>"
      ],
      "text/plain": [
       "     corona_test                                  cough_filename\n",
       "2370    positive                         wavegan_pos_486.wav.jpg\n",
       "1774    positive  s1x2Ze9iVZNf6oFZDAZ4S9x3Cky2_shallow_1.wav.jpg\n",
       "731     negative                         wavegan_neg_356.wav.jpg\n",
       "271     negative  Sy1VK1UgX0ZMcMJitgPal1sp8jj2_shallow_2.wav.jpg\n",
       "1077    negative                         wavegan_neg_668.wav.jpg"
      ]
     },
     "execution_count": 116,
     "metadata": {},
     "output_type": "execute_result"
    }
   ],
   "source": [
    "train.head()"
   ]
  },
  {
   "cell_type": "code",
   "execution_count": 117,
   "metadata": {},
   "outputs": [
    {
     "data": {
      "text/html": [
       "<div>\n",
       "<style scoped>\n",
       "    .dataframe tbody tr th:only-of-type {\n",
       "        vertical-align: middle;\n",
       "    }\n",
       "\n",
       "    .dataframe tbody tr th {\n",
       "        vertical-align: top;\n",
       "    }\n",
       "\n",
       "    .dataframe thead th {\n",
       "        text-align: right;\n",
       "    }\n",
       "</style>\n",
       "<table border=\"1\" class=\"dataframe\">\n",
       "  <thead>\n",
       "    <tr style=\"text-align: right;\">\n",
       "      <th></th>\n",
       "      <th>cough_filename</th>\n",
       "    </tr>\n",
       "    <tr>\n",
       "      <th>corona_test</th>\n",
       "      <th></th>\n",
       "    </tr>\n",
       "  </thead>\n",
       "  <tbody>\n",
       "    <tr>\n",
       "      <th>negative</th>\n",
       "      <td>1157</td>\n",
       "    </tr>\n",
       "    <tr>\n",
       "      <th>positive</th>\n",
       "      <td>1243</td>\n",
       "    </tr>\n",
       "  </tbody>\n",
       "</table>\n",
       "</div>"
      ],
      "text/plain": [
       "             cough_filename\n",
       "corona_test                \n",
       "negative               1157\n",
       "positive               1243"
      ]
     },
     "execution_count": 117,
     "metadata": {},
     "output_type": "execute_result"
    }
   ],
   "source": [
    "train.groupby('corona_test').count()"
   ]
  },
  {
   "cell_type": "code",
   "execution_count": 119,
   "metadata": {},
   "outputs": [
    {
     "name": "stdout",
     "output_type": "stream",
     "text": [
      "Found 2400 validated image filenames belonging to 2 classes.\n"
     ]
    }
   ],
   "source": [
    "train_generator=datagen.flow_from_dataframe(\n",
    "    dataframe=train,\n",
    "    directory=\"train3000_images\",\n",
    "    x_col=\"cough_filename\",\n",
    "    y_col=\"corona_test\",\n",
    "    batch_size=16,\n",
    "    shuffle=False,\n",
    "    class_mode=\"binary\",\n",
    "    target_size=(64,64))"
   ]
  },
  {
   "cell_type": "code",
   "execution_count": 120,
   "metadata": {},
   "outputs": [
    {
     "name": "stdout",
     "output_type": "stream",
     "text": [
      "(16, 64, 64, 3)\n",
      "(16,)\n"
     ]
    }
   ],
   "source": [
    "for x,y in train_generator:\n",
    "  print(x.shape)\n",
    "  print(y.shape)\n",
    "  break"
   ]
  },
  {
   "cell_type": "code",
   "execution_count": 121,
   "metadata": {},
   "outputs": [
    {
     "name": "stdout",
     "output_type": "stream",
     "text": [
      "Found 300 validated image filenames belonging to 2 classes.\n"
     ]
    }
   ],
   "source": [
    "val_generator=datagen.flow_from_dataframe(\n",
    "    dataframe=val,\n",
    "    directory=\"val3000_images\",\n",
    "    x_col=\"cough_filename\",\n",
    "    y_col=\"corona_test\",\n",
    "    batch_size=16,\n",
    "    shuffle=False,\n",
    "    class_mode=\"binary\",\n",
    "    target_size=(64,64))"
   ]
  },
  {
   "cell_type": "code",
   "execution_count": 122,
   "metadata": {},
   "outputs": [
    {
     "name": "stdout",
     "output_type": "stream",
     "text": [
      "Found 300 validated image filenames belonging to 2 classes.\n"
     ]
    }
   ],
   "source": [
    "test_generator=datagen.flow_from_dataframe(\n",
    "    dataframe=test,\n",
    "    directory=\"test3000_images\",\n",
    "    x_col=\"cough_filename\",\n",
    "    y_col=\"corona_test\",\n",
    "    batch_size=16,\n",
    "    shuffle=False,\n",
    "    class_mode=\"binary\",\n",
    "    target_size=(64,64))"
   ]
  },
  {
   "cell_type": "code",
   "execution_count": 123,
   "metadata": {},
   "outputs": [],
   "source": [
    "plt.close('all')"
   ]
  },
  {
   "cell_type": "code",
   "execution_count": 124,
   "metadata": {},
   "outputs": [],
   "source": [
    "# import os\n",
    "os.system('say -v Juan ya acabé');"
   ]
  },
  {
   "cell_type": "code",
   "execution_count": null,
   "metadata": {},
   "outputs": [],
   "source": [
    "### Now we finally can build the CNN model and fit it"
   ]
  },
  {
   "cell_type": "code",
   "execution_count": null,
   "metadata": {},
   "outputs": [],
   "source": [
    "## Pretrained Models"
   ]
  },
  {
   "cell_type": "code",
   "execution_count": null,
   "metadata": {},
   "outputs": [],
   "source": [
    "### EfficentNet by Google"
   ]
  },
  {
   "cell_type": "code",
   "execution_count": 43,
   "metadata": {},
   "outputs": [],
   "source": [
    "# import efficientnet.keras as efn\n",
    "# base_model = efn.EfficientNetB0(input_shape = (64,64, 3), include_top = False, weights = 'imagenet')\n",
    "\n",
    "# for layer in base_model.layers:\n",
    "#     layer.trainable = False\n",
    "    \n",
    "# x = model.output\n",
    "# x = Flatten()(x)\n",
    "# x = Dense(1024, activation=\"relu\")(x)\n",
    "# x = Dropout(0.5)(x)\n",
    "# predictions = Dense(1, activation=\"sigmoid\")(x)\n",
    "# model_final = Model(model.input, predictions)\n",
    "\n",
    "# model_final.compile(optimizers.RMSprop(lr=0.0001, decay=1e-6),loss='binary_crossentropy',metrics=['accuracy'])\n",
    "\n",
    "# eff_history = model_final.fit_generator(train_generator, validation_data = test_generator, steps_per_epoch =6 , epochs = 30)"
   ]
  },
  {
   "cell_type": "code",
   "execution_count": null,
   "metadata": {},
   "outputs": [],
   "source": [
    "### ResNet50"
   ]
  },
  {
   "cell_type": "code",
   "execution_count": 44,
   "metadata": {},
   "outputs": [],
   "source": [
    "# ## Resnet 50\n",
    "# import tensorflow as tf\n",
    "# from tensorflow.keras.applications import ResNet50\n",
    "\n",
    "# base_model = ResNet50(input_shape=(64,64,3), include_top=False, weights=\"imagenet\")\n",
    "\n",
    "# for layer in base_model.layers:\n",
    "#     layer.trainable = False\n",
    "    \n",
    "# from tensorflow.keras.applications import ResNet50\n",
    "# from tensorflow.python.keras.models import Sequential\n",
    "# from tensorflow.python.keras.layers import Dense, Flatten, GlobalAveragePooling2D\n",
    "\n",
    "# base_model = Sequential()\n",
    "# base_model.add(ResNet50(include_top=False, weights='imagenet', pooling='max'))\n",
    "# base_model.add(Dense(1, activation='sigmoid'))\n",
    "\n",
    "\n",
    "# base_model.compile(optimizer = tf.keras.optimizers.SGD(lr=0.0001), loss = 'binary_crossentropy', metrics = ['acc'])\n",
    "\n",
    "# resnet_history = base_model.fit(train_generator, validation_data = test_generator, steps_per_epoch = 6, epochs = 10)\n"
   ]
  },
  {
   "cell_type": "code",
   "execution_count": null,
   "metadata": {},
   "outputs": [],
   "source": [
    "### VGG16"
   ]
  },
  {
   "cell_type": "code",
   "execution_count": 129,
   "metadata": {},
   "outputs": [],
   "source": [
    "## VGG16\n",
    "# Accuracy - train- 70 and test - 60\n",
    "import tensorflow as tf\n",
    "from tensorflow.keras.applications.vgg16 import VGG16\n",
    "\n",
    "base_model = VGG16(input_shape = (64,64, 3), # Shape of our images\n",
    "include_top = False, # Leave out the last fully connected layer\n",
    "weights = 'imagenet')\n",
    "\n",
    "for layer in base_model.layers:\n",
    "    layer.trainable = False\n",
    "    \n",
    "x = layers.Flatten()(base_model.output)\n",
    "\n",
    "# Add a fully connected layer with 512 hidden units and ReLU activation\n",
    "x = layers.Dense(512, activation='relu')(x)\n",
    "\n",
    "# Add a dropout rate of 0.5\n",
    "x = layers.Dropout(0.5)(x)\n",
    "\n",
    "# Add a final sigmoid layer for classification\n",
    "x = layers.Dense(1, activation='sigmoid')(x)\n",
    "\n",
    "model = tf.keras.models.Model(base_model.input, x)\n",
    "\n",
    "model.compile(optimizer = tf.keras.optimizers.RMSprop(lr=0.0001), loss = 'binary_crossentropy',metrics = ['acc'])\n"
   ]
  },
  {
   "cell_type": "code",
   "execution_count": null,
   "metadata": {},
   "outputs": [],
   "source": [
    "### Basic CNN Model"
   ]
  },
  {
   "cell_type": "code",
   "execution_count": 46,
   "metadata": {},
   "outputs": [],
   "source": [
    "# # Basic CNN Model with Accuracy -: Test- 60 and Train- 90\n",
    "# # Building our model \n",
    "# model = Sequential()\n",
    "\n",
    "# model.add(Conv2D(filters=32, kernel_size=(3, 3), activation='relu', input_shape=(64,64,3)))\n",
    "# model.add(MaxPooling2D(pool_size=(2, 2)))\n",
    "\n",
    "# model.add(Conv2D(filters=64, kernel_size=(3, 3), activation='relu'))\n",
    "# model.add(MaxPooling2D(pool_size=(2, 2)))\n",
    "# model.add(Dropout(0.5))\n",
    "\n",
    "# model.add(Conv2D(filters=128, kernel_size=(3, 3), activation='relu'))\n",
    "# model.add(MaxPooling2D(pool_size=(2, 2)))\n",
    "# model.add(Dropout(0.5))\n",
    "\n",
    "# # model.add(Conv2D(filters=128, kernel_size=(3, 3), activation='relu'))\n",
    "# # model.add(MaxPooling2D(pool_size=(2, 2)))\n",
    "# # model.add(Dropout(0.5))\n",
    "\n",
    "# model.add(Flatten())\n",
    "# model.add(Dense(512, activation='relu'))\n",
    "# model.add(Dropout(0.5))\n",
    "\n",
    "# model.add(Dense(128, activation='relu'))\n",
    "# model.add(Dropout(0.5))\n",
    "\n",
    "# model.add(Dense(1, activation='softmax'))\n",
    "\n",
    "# model.compile(loss='categorical_crossentropy',\n",
    "#                   optimizer='adam',\n",
    "#                   metrics=['accuracy'])\n",
    "\n",
    "# history = model.fit(x=train_generator,\n",
    "#                     steps_per_epoch=6,\n",
    "#                     validation_data=test_generator,\n",
    "#                     validation_steps=1,\n",
    "#                     epochs=10)\n"
   ]
  },
  {
   "cell_type": "code",
   "execution_count": null,
   "metadata": {},
   "outputs": [],
   "source": [
    "### AlexNet"
   ]
  },
  {
   "cell_type": "code",
   "execution_count": 47,
   "metadata": {},
   "outputs": [],
   "source": [
    "# #Alexnet \n",
    "\n",
    "# model = Sequential()\n",
    "\n",
    "# # 1st Convolutional Layer\n",
    "# model.add(Conv2D(filters=32, input_shape=(64,64,3), kernel_size=(11,11), strides=(4,4), padding=\"valid\"))\n",
    "# model.add(Activation('relu'))\n",
    "# # Max Pooling\n",
    "# model.add(MaxPooling2D(pool_size=(2,2), strides=(2,2), padding='valid'))\n",
    "\n",
    "# # 2nd Convolutional Layer\n",
    "# model.add(Conv2D(filters=64, kernel_size=(2,2), strides=(1,1), padding='valid'))\n",
    "# model.add(Activation('relu'))\n",
    "# # Max Pooling\n",
    "# model.add(MaxPooling2D(pool_size=(2,2), strides=(2,2), padding='valid'))\n",
    "\n",
    "# # 3rd Convolutional Layer\n",
    "# model.add(Conv2D(filters=64, kernel_size=(1,1), strides=(1,1), padding='valid'))\n",
    "# model.add(Activation('relu'))\n",
    "\n",
    "# # 4th Convolutional Layer\n",
    "# model.add(Conv2D(filters=128, kernel_size=(1,1), strides=(1,1), padding='valid'))\n",
    "# model.add(Activation('relu'))\n",
    "\n",
    "# # 5th Convolutional Layer\n",
    "# model.add(Conv2D(filters=256, kernel_size=(3,3), strides=(1,1), padding='valid'))\n",
    "# model.add(Activation('relu'))\n",
    "# # Max Pooling\n",
    "# model.add(MaxPooling2D(pool_size=(1,1), strides=(2,2), padding='valid'))\n",
    "\n",
    "# # Passing it to a Fully Connected layer\n",
    "# model.add(Flatten())\n",
    "# # 1st Fully Connected Layer\n",
    "# model.add(Dense(200, input_shape=(64,64,3,)))\n",
    "# model.add(Activation('relu'))\n",
    "# # Add Dropout to prevent overfitting\n",
    "# model.add(Dropout(0.25))\n",
    "\n",
    "# # 2nd Fully Connected Layer\n",
    "# model.add(Dense(100))\n",
    "# model.add(Activation('relu'))\n",
    "# # Add Dropout\n",
    "# model.add(Dropout(0.2))\n",
    "\n",
    "# # 3rd Fully Connected Layer\n",
    "# model.add(Dense(50))\n",
    "# model.add(Activation('relu'))\n",
    "# # Add Dropout\n",
    "# model.add(Dropout(0.1))\n",
    "\n",
    "# # Output Layer\n",
    "# model.add(Dense(2))\n",
    "# model.add(Activation('softmax'))\n",
    "\n",
    "# model.compile(loss='categorical_crossentropy',\n",
    "#                   optimizer='adam',\n",
    "#                   metrics=['accuracy'])\n",
    "## Accuracy- Major Over Fitting -:  training -90 and test - 54\n",
    "# history = model.fit(x=train_generator,\n",
    "#                     steps_per_epoch=10,\n",
    "#                     validation_data=test_generator,\n",
    "#                     validation_steps=5,\n",
    "#                     epochs=40)"
   ]
  },
  {
   "cell_type": "code",
   "execution_count": 48,
   "metadata": {},
   "outputs": [],
   "source": [
    "# Compiling using adam and categorical crossentropy\n",
    "# model.compile(loss='categorical_crossentropy',\n",
    "#                   optimizer='adam',\n",
    "#                   metrics=['accuracy'])"
   ]
  },
  {
   "cell_type": "code",
   "execution_count": 141,
   "metadata": {},
   "outputs": [
    {
     "name": "stdout",
     "output_type": "stream",
     "text": [
      "Epoch 1/5\n",
      "40/40 [==============================] - 70s 2s/step - loss: 0.4706 - acc: 0.7734 - val_loss: 0.5331 - val_acc: 0.7100\n",
      "Epoch 2/5\n",
      "40/40 [==============================] - 66s 2s/step - loss: 0.4725 - acc: 0.7719 - val_loss: 0.5512 - val_acc: 0.6867\n",
      "Epoch 3/5\n",
      "40/40 [==============================] - 67s 2s/step - loss: 0.4784 - acc: 0.7609 - val_loss: 0.5471 - val_acc: 0.6900\n",
      "Epoch 4/5\n",
      "40/40 [==============================] - 68s 2s/step - loss: 0.4742 - acc: 0.7719 - val_loss: 0.6000 - val_acc: 0.6433\n",
      "Epoch 5/5\n",
      "40/40 [==============================] - 68s 2s/step - loss: 0.4581 - acc: 0.7688 - val_loss: 0.5437 - val_acc: 0.6867\n"
     ]
    }
   ],
   "source": [
    "# Fitting our CNN with 250 epochs and setting the results to history for visuals\n",
    "# history = model.fit(x=train_generator,\n",
    "#                     steps_per_epoch=8,\n",
    "#                     validation_data=test_generator,\n",
    "#                     validation_steps=4,\n",
    "#                     epochs=50)\n",
    "vgghist = model.fit(train_generator, validation_data = val_generator, steps_per_epoch = 40, epochs = 5)"
   ]
  },
  {
   "cell_type": "code",
   "execution_count": 142,
   "metadata": {},
   "outputs": [
    {
     "data": {
      "image/png": "[encoded data removed]",
      "text/plain": [
       "<Figure size 864x576 with 1 Axes>"
      ]
     },
     "metadata": {
      "needs_background": "light"
     },
     "output_type": "display_data"
    }
   ],
   "source": [
    "# Check out our train accuracy and validation accuracy over epochs.\n",
    "# train_accuracy = history.history['accuracy']\n",
    "# val_accuracy = history.history['val_accuracy']\n",
    "train_accuracy = vgghist.history['acc']\n",
    "val_accuracy = vgghist.history['val_acc']\n",
    "# train_accuracy = resnet_history.history['acc']\n",
    "# val_accuracy = resnet_history.history['val_acc']\n",
    "# Set figure size.\n",
    "plt.figure(figsize=(12, 8))\n",
    "\n",
    "# Generate line plot of training, testing loss over epochs.\n",
    "plt.plot(train_accuracy, label='Training Accuracy', color='#185fad')\n",
    "plt.plot(val_accuracy, label='Validation Accuracy', color='orange')\n",
    "\n",
    "# Set title\n",
    "plt.title('Training and Validation Accuracy by Epoch', fontsize = 25)\n",
    "plt.xlabel('Epoch', fontsize = 18)\n",
    "plt.ylabel('Categorical Crossentropy', fontsize = 18)\n",
    "plt.xticks(range(0,100,5), range(0,100,5))\n",
    "\n",
    "plt.legend(fontsize = 18)\n",
    "plt.show();"
   ]
  },
  {
   "cell_type": "code",
   "execution_count": 139,
   "metadata": {},
   "outputs": [
    {
     "data": {
      "text/html": [
       "<div>\n",
       "<style scoped>\n",
       "    .dataframe tbody tr th:only-of-type {\n",
       "        vertical-align: middle;\n",
       "    }\n",
       "\n",
       "    .dataframe tbody tr th {\n",
       "        vertical-align: top;\n",
       "    }\n",
       "\n",
       "    .dataframe thead th {\n",
       "        text-align: right;\n",
       "    }\n",
       "</style>\n",
       "<table border=\"1\" class=\"dataframe\">\n",
       "  <thead>\n",
       "    <tr style=\"text-align: right;\">\n",
       "      <th></th>\n",
       "      <th>corona_test</th>\n",
       "      <th>cough_filename</th>\n",
       "    </tr>\n",
       "  </thead>\n",
       "  <tbody>\n",
       "    <tr>\n",
       "      <th>2272</th>\n",
       "      <td>positive</td>\n",
       "      <td>wavegan_pos_398.wav.jpg</td>\n",
       "    </tr>\n",
       "    <tr>\n",
       "      <th>2624</th>\n",
       "      <td>positive</td>\n",
       "      <td>wavegan_pos_714.wav.jpg</td>\n",
       "    </tr>\n",
       "    <tr>\n",
       "      <th>485</th>\n",
       "      <td>negative</td>\n",
       "      <td>wavegan_neg_134.wav.jpg</td>\n",
       "    </tr>\n",
       "    <tr>\n",
       "      <th>1334</th>\n",
       "      <td>negative</td>\n",
       "      <td>wavegan_neg_9.wav.jpg</td>\n",
       "    </tr>\n",
       "    <tr>\n",
       "      <th>2906</th>\n",
       "      <td>positive</td>\n",
       "      <td>wavegan_pos_969.wav.jpg</td>\n",
       "    </tr>\n",
       "  </tbody>\n",
       "</table>\n",
       "</div>"
      ],
      "text/plain": [
       "     corona_test           cough_filename\n",
       "2272    positive  wavegan_pos_398.wav.jpg\n",
       "2624    positive  wavegan_pos_714.wav.jpg\n",
       "485     negative  wavegan_neg_134.wav.jpg\n",
       "1334    negative    wavegan_neg_9.wav.jpg\n",
       "2906    positive  wavegan_pos_969.wav.jpg"
      ]
     },
     "execution_count": 139,
     "metadata": {},
     "output_type": "execute_result"
    }
   ],
   "source": [
    "test.head()"
   ]
  },
  {
   "cell_type": "code",
   "execution_count": 143,
   "metadata": {},
   "outputs": [
    {
     "data": {
      "text/plain": [
       "0.56"
      ]
     },
     "execution_count": 143,
     "metadata": {},
     "output_type": "execute_result"
    }
   ],
   "source": [
    "# Generating a new test dataframe that includes the labels for comparison and \n",
    "# checking the accuracy of our model with this never before seen data\n",
    "# test = data[4435:]\n",
    "\n",
    "# Generating predictions on our never seen data with the model we built\n",
    "preds = model.predict(val_generator)\n",
    "\n",
    "# Creating an empty list to store the values where the predictions are the maximum out \n",
    "# of all the 10 possible values\n",
    "p = []\n",
    "for i in range(0, len(preds)):\n",
    "    p.append(np.where(preds[i] == max(preds[i])))\n",
    "\n",
    "# Creating an empty list to store the values in a clean list\n",
    "predictions = []\n",
    "for i in range(0, len(preds)):\n",
    "    predictions.append(p[i][0][0])\n",
    "    \n",
    "# Adding those predictions to our test dataframe\n",
    "val['predictions'] = predictions\n",
    "\n",
    "# Changing the numeric values to their corresponding labels\n",
    "val['predictions'] = val['predictions'].map({ 0:'negative',1:'positive'})\n",
    "\n",
    "# Checking the percentage of correct predictions \n",
    "round(len(val[val['corona_test'] == val['predictions']])/len(val),2)"
   ]
  },
  {
   "cell_type": "code",
   "execution_count": 55,
   "metadata": {},
   "outputs": [
    {
     "data": {
      "text/plain": [
       "0.59"
      ]
     },
     "execution_count": 55,
     "metadata": {},
     "output_type": "execute_result"
    }
   ],
   "source": [
    "# Generating a new test dataframe that includes the labels for comparison and \n",
    "# checking the accuracy of our model with this never before seen data\n",
    "# test = data[4435:]\n",
    "\n",
    "# Generating predictions on our never seen data with the model we built\n",
    "preds = model.predict(train_generator)\n",
    "\n",
    "# Creating an empty list to store the values where the predictions are the maximum out \n",
    "# of all the 10 possible values\n",
    "p = []\n",
    "for i in range(0, len(preds)):\n",
    "    p.append(np.where(preds[i] == max(preds[i])))\n",
    "\n",
    "# Creating an empty list to store the values in a clean list\n",
    "predictions = []\n",
    "for i in range(0, len(preds)):\n",
    "    predictions.append(p[i][0][0])\n",
    "    \n",
    "# Adding those predictions to our test dataframe\n",
    "train['predictions'] = predictions\n",
    "\n",
    "# Changing the numeric values to their corresponding labels\n",
    "train['predictions'] = train['predictions'].map({ 0:'negative',1:'positive'})\n",
    "\n",
    "# Checking the percentage of correct predictions \n",
    "round(len(train[train['corona_test'] == train['predictions']])/len(train),2)"
   ]
  },
  {
   "cell_type": "code",
   "execution_count": 56,
   "metadata": {},
   "outputs": [
    {
     "data": {
      "text/plain": [
       "0.67"
      ]
     },
     "execution_count": 56,
     "metadata": {},
     "output_type": "execute_result"
    }
   ],
   "source": [
    "# Generating a new test dataframe that includes the labels for comparison and \n",
    "# checking the accuracy of our model with this never before seen data\n",
    "# test = data[4435:]\n",
    "\n",
    "# Generating predictions on our never seen data with the model we built\n",
    "preds = model.predict(test_generator)\n",
    "\n",
    "# Creating an empty list to store the values where the predictions are the maximum out \n",
    "# of all the 10 possible values\n",
    "p = []\n",
    "for i in range(0, len(preds)):\n",
    "    p.append(np.where(preds[i] == max(preds[i])))\n",
    "\n",
    "# Creating an empty list to store the values in a clean list\n",
    "predictions = []\n",
    "for i in range(0, len(preds)):\n",
    "    predictions.append(p[i][0][0])\n",
    "    \n",
    "# Adding those predictions to our test dataframe\n",
    "test['predictions'] = predictions\n",
    "\n",
    "# Changing the numeric values to their corresponding labels\n",
    "test['predictions'] = test['predictions'].map({ 0:'negative',1:'positive'})\n",
    "\n",
    "# Checking the percentage of correct predictions \n",
    "round(len(test[test['corona_test'] == test['predictions']])/len(test),2)"
   ]
  },
  {
   "cell_type": "code",
   "execution_count": 59,
   "metadata": {},
   "outputs": [
    {
     "name": "stdout",
     "output_type": "stream",
     "text": [
      "WARNING:tensorflow:Model was constructed with shape (None, 64, 64, 3) for input KerasTensor(type_spec=TensorSpec(shape=(None, 64, 64, 3), dtype=tf.float32, name='input_1'), name='input_1', description=\"created by layer 'input_1'\"), but it was called on an input with incompatible shape (32, 1).\n"
     ]
    },
    {
     "ename": "ValueError",
     "evalue": "in user code:\n\n    C:\\Users\\Deepa Kapoor\\AppData\\Roaming\\Python\\Python38\\site-packages\\tensorflow\\python\\keras\\engine\\training.py:1233 test_function  *\n        return step_function(self, iterator)\n    C:\\Users\\Deepa Kapoor\\AppData\\Roaming\\Python\\Python38\\site-packages\\tensorflow\\python\\keras\\engine\\training.py:1224 step_function  **\n        outputs = model.distribute_strategy.run(run_step, args=(data,))\n    C:\\Users\\Deepa Kapoor\\AppData\\Roaming\\Python\\Python38\\site-packages\\tensorflow\\python\\distribute\\distribute_lib.py:1259 run\n        return self._extended.call_for_each_replica(fn, args=args, kwargs=kwargs)\n    C:\\Users\\Deepa Kapoor\\AppData\\Roaming\\Python\\Python38\\site-packages\\tensorflow\\python\\distribute\\distribute_lib.py:2730 call_for_each_replica\n        return self._call_for_each_replica(fn, args, kwargs)\n    C:\\Users\\Deepa Kapoor\\AppData\\Roaming\\Python\\Python38\\site-packages\\tensorflow\\python\\distribute\\distribute_lib.py:3417 _call_for_each_replica\n        return fn(*args, **kwargs)\n    C:\\Users\\Deepa Kapoor\\AppData\\Roaming\\Python\\Python38\\site-packages\\tensorflow\\python\\keras\\engine\\training.py:1217 run_step  **\n        outputs = model.test_step(data)\n    C:\\Users\\Deepa Kapoor\\AppData\\Roaming\\Python\\Python38\\site-packages\\tensorflow\\python\\keras\\engine\\training.py:1183 test_step\n        y_pred = self(x, training=False)\n    C:\\Users\\Deepa Kapoor\\AppData\\Roaming\\Python\\Python38\\site-packages\\tensorflow\\python\\keras\\engine\\base_layer.py:1012 __call__\n        outputs = call_fn(inputs, *args, **kwargs)\n    C:\\Users\\Deepa Kapoor\\AppData\\Roaming\\Python\\Python38\\site-packages\\tensorflow\\python\\keras\\engine\\functional.py:424 call\n        return self._run_internal_graph(\n    C:\\Users\\Deepa Kapoor\\AppData\\Roaming\\Python\\Python38\\site-packages\\tensorflow\\python\\keras\\engine\\functional.py:560 _run_internal_graph\n        outputs = node.layer(*args, **kwargs)\n    C:\\Users\\Deepa Kapoor\\AppData\\Roaming\\Python\\Python38\\site-packages\\tensorflow\\python\\keras\\engine\\base_layer.py:998 __call__\n        input_spec.assert_input_compatibility(self.input_spec, inputs, self.name)\n    C:\\Users\\Deepa Kapoor\\AppData\\Roaming\\Python\\Python38\\site-packages\\tensorflow\\python\\keras\\engine\\input_spec.py:234 assert_input_compatibility\n        raise ValueError('Input ' + str(input_index) + ' of layer ' +\n\n    ValueError: Input 0 of layer block1_conv1 is incompatible with the layer: : expected min_ndim=4, found ndim=2. Full shape received: (32, 1)\n",
     "output_type": "error",
     "traceback": [
      "\u001b[1;31m---------------------------------------------------------------------------\u001b[0m",
      "\u001b[1;31mValueError\u001b[0m                                Traceback (most recent call last)",
      "\u001b[1;32m<ipython-input-59-ae9009258e68>\u001b[0m in \u001b[0;36m<module>\u001b[1;34m\u001b[0m\n\u001b[1;32m----> 1\u001b[1;33m \u001b[0mscore\u001b[0m \u001b[1;33m=\u001b[0m \u001b[0mmodel\u001b[0m\u001b[1;33m.\u001b[0m\u001b[0mevaluate\u001b[0m\u001b[1;33m(\u001b[0m\u001b[0mtrain\u001b[0m\u001b[1;33m[\u001b[0m\u001b[1;34m\"cough_filename\"\u001b[0m\u001b[1;33m]\u001b[0m\u001b[1;33m,\u001b[0m \u001b[0mtrain\u001b[0m\u001b[1;33m[\u001b[0m\u001b[1;34m\"corona_test\"\u001b[0m\u001b[1;33m]\u001b[0m\u001b[1;33m,\u001b[0m \u001b[0mverbose\u001b[0m\u001b[1;33m=\u001b[0m\u001b[1;36m0\u001b[0m\u001b[1;33m)\u001b[0m\u001b[1;33m\u001b[0m\u001b[1;33m\u001b[0m\u001b[0m\n\u001b[0m\u001b[0;32m      2\u001b[0m \u001b[0mprint\u001b[0m\u001b[1;33m(\u001b[0m\u001b[1;34m\"Training Accuracy: \"\u001b[0m\u001b[1;33m,\u001b[0m \u001b[0mscore\u001b[0m\u001b[1;33m[\u001b[0m\u001b[1;36m1\u001b[0m\u001b[1;33m]\u001b[0m\u001b[1;33m)\u001b[0m\u001b[1;33m\u001b[0m\u001b[1;33m\u001b[0m\u001b[0m\n\u001b[0;32m      3\u001b[0m \u001b[1;33m\u001b[0m\u001b[0m\n\u001b[0;32m      4\u001b[0m \u001b[0mscore\u001b[0m \u001b[1;33m=\u001b[0m \u001b[0mmodel\u001b[0m\u001b[1;33m.\u001b[0m\u001b[0mevaluate\u001b[0m\u001b[1;33m(\u001b[0m\u001b[0mtest\u001b[0m\u001b[1;33m[\u001b[0m\u001b[1;34m\"cough_filename\"\u001b[0m\u001b[1;33m]\u001b[0m\u001b[1;33m,\u001b[0m \u001b[0mtest\u001b[0m\u001b[1;33m[\u001b[0m\u001b[1;34m\"corona_test\"\u001b[0m\u001b[1;33m]\u001b[0m\u001b[1;33m,\u001b[0m \u001b[0mverbose\u001b[0m\u001b[1;33m=\u001b[0m\u001b[1;36m0\u001b[0m\u001b[1;33m)\u001b[0m\u001b[1;33m\u001b[0m\u001b[1;33m\u001b[0m\u001b[0m\n\u001b[0;32m      5\u001b[0m \u001b[0mprint\u001b[0m\u001b[1;33m(\u001b[0m\u001b[1;34m\"Testing Accuracy: \"\u001b[0m\u001b[1;33m,\u001b[0m \u001b[0mscore\u001b[0m\u001b[1;33m[\u001b[0m\u001b[1;36m1\u001b[0m\u001b[1;33m]\u001b[0m\u001b[1;33m)\u001b[0m\u001b[1;33m\u001b[0m\u001b[1;33m\u001b[0m\u001b[0m\n",
      "\u001b[1;32m~\\AppData\\Roaming\\Python\\Python38\\site-packages\\tensorflow\\python\\keras\\engine\\training.py\u001b[0m in \u001b[0;36mevaluate\u001b[1;34m(self, x, y, batch_size, verbose, sample_weight, steps, callbacks, max_queue_size, workers, use_multiprocessing, return_dict)\u001b[0m\n\u001b[0;32m   1387\u001b[0m             \u001b[1;32mwith\u001b[0m \u001b[0mtrace\u001b[0m\u001b[1;33m.\u001b[0m\u001b[0mTrace\u001b[0m\u001b[1;33m(\u001b[0m\u001b[1;34m'test'\u001b[0m\u001b[1;33m,\u001b[0m \u001b[0mstep_num\u001b[0m\u001b[1;33m=\u001b[0m\u001b[0mstep\u001b[0m\u001b[1;33m,\u001b[0m \u001b[0m_r\u001b[0m\u001b[1;33m=\u001b[0m\u001b[1;36m1\u001b[0m\u001b[1;33m)\u001b[0m\u001b[1;33m:\u001b[0m\u001b[1;33m\u001b[0m\u001b[1;33m\u001b[0m\u001b[0m\n\u001b[0;32m   1388\u001b[0m               \u001b[0mcallbacks\u001b[0m\u001b[1;33m.\u001b[0m\u001b[0mon_test_batch_begin\u001b[0m\u001b[1;33m(\u001b[0m\u001b[0mstep\u001b[0m\u001b[1;33m)\u001b[0m\u001b[1;33m\u001b[0m\u001b[1;33m\u001b[0m\u001b[0m\n\u001b[1;32m-> 1389\u001b[1;33m               \u001b[0mtmp_logs\u001b[0m \u001b[1;33m=\u001b[0m \u001b[0mself\u001b[0m\u001b[1;33m.\u001b[0m\u001b[0mtest_function\u001b[0m\u001b[1;33m(\u001b[0m\u001b[0miterator\u001b[0m\u001b[1;33m)\u001b[0m\u001b[1;33m\u001b[0m\u001b[1;33m\u001b[0m\u001b[0m\n\u001b[0m\u001b[0;32m   1390\u001b[0m               \u001b[1;32mif\u001b[0m \u001b[0mdata_handler\u001b[0m\u001b[1;33m.\u001b[0m\u001b[0mshould_sync\u001b[0m\u001b[1;33m:\u001b[0m\u001b[1;33m\u001b[0m\u001b[1;33m\u001b[0m\u001b[0m\n\u001b[0;32m   1391\u001b[0m                 \u001b[0mcontext\u001b[0m\u001b[1;33m.\u001b[0m\u001b[0masync_wait\u001b[0m\u001b[1;33m(\u001b[0m\u001b[1;33m)\u001b[0m\u001b[1;33m\u001b[0m\u001b[1;33m\u001b[0m\u001b[0m\n",
      "\u001b[1;32m~\\AppData\\Roaming\\Python\\Python38\\site-packages\\tensorflow\\python\\eager\\def_function.py\u001b[0m in \u001b[0;36m__call__\u001b[1;34m(self, *args, **kwds)\u001b[0m\n\u001b[0;32m    826\u001b[0m     \u001b[0mtracing_count\u001b[0m \u001b[1;33m=\u001b[0m \u001b[0mself\u001b[0m\u001b[1;33m.\u001b[0m\u001b[0mexperimental_get_tracing_count\u001b[0m\u001b[1;33m(\u001b[0m\u001b[1;33m)\u001b[0m\u001b[1;33m\u001b[0m\u001b[1;33m\u001b[0m\u001b[0m\n\u001b[0;32m    827\u001b[0m     \u001b[1;32mwith\u001b[0m \u001b[0mtrace\u001b[0m\u001b[1;33m.\u001b[0m\u001b[0mTrace\u001b[0m\u001b[1;33m(\u001b[0m\u001b[0mself\u001b[0m\u001b[1;33m.\u001b[0m\u001b[0m_name\u001b[0m\u001b[1;33m)\u001b[0m \u001b[1;32mas\u001b[0m \u001b[0mtm\u001b[0m\u001b[1;33m:\u001b[0m\u001b[1;33m\u001b[0m\u001b[1;33m\u001b[0m\u001b[0m\n\u001b[1;32m--> 828\u001b[1;33m       \u001b[0mresult\u001b[0m \u001b[1;33m=\u001b[0m \u001b[0mself\u001b[0m\u001b[1;33m.\u001b[0m\u001b[0m_call\u001b[0m\u001b[1;33m(\u001b[0m\u001b[1;33m*\u001b[0m\u001b[0margs\u001b[0m\u001b[1;33m,\u001b[0m \u001b[1;33m**\u001b[0m\u001b[0mkwds\u001b[0m\u001b[1;33m)\u001b[0m\u001b[1;33m\u001b[0m\u001b[1;33m\u001b[0m\u001b[0m\n\u001b[0m\u001b[0;32m    829\u001b[0m       \u001b[0mcompiler\u001b[0m \u001b[1;33m=\u001b[0m \u001b[1;34m\"xla\"\u001b[0m \u001b[1;32mif\u001b[0m \u001b[0mself\u001b[0m\u001b[1;33m.\u001b[0m\u001b[0m_experimental_compile\u001b[0m \u001b[1;32melse\u001b[0m \u001b[1;34m\"nonXla\"\u001b[0m\u001b[1;33m\u001b[0m\u001b[1;33m\u001b[0m\u001b[0m\n\u001b[0;32m    830\u001b[0m       \u001b[0mnew_tracing_count\u001b[0m \u001b[1;33m=\u001b[0m \u001b[0mself\u001b[0m\u001b[1;33m.\u001b[0m\u001b[0mexperimental_get_tracing_count\u001b[0m\u001b[1;33m(\u001b[0m\u001b[1;33m)\u001b[0m\u001b[1;33m\u001b[0m\u001b[1;33m\u001b[0m\u001b[0m\n",
      "\u001b[1;32m~\\AppData\\Roaming\\Python\\Python38\\site-packages\\tensorflow\\python\\eager\\def_function.py\u001b[0m in \u001b[0;36m_call\u001b[1;34m(self, *args, **kwds)\u001b[0m\n\u001b[0;32m    860\u001b[0m       \u001b[1;31m# In this case we have not created variables on the first call. So we can\u001b[0m\u001b[1;33m\u001b[0m\u001b[1;33m\u001b[0m\u001b[1;33m\u001b[0m\u001b[0m\n\u001b[0;32m    861\u001b[0m       \u001b[1;31m# run the first trace but we should fail if variables are created.\u001b[0m\u001b[1;33m\u001b[0m\u001b[1;33m\u001b[0m\u001b[1;33m\u001b[0m\u001b[0m\n\u001b[1;32m--> 862\u001b[1;33m       \u001b[0mresults\u001b[0m \u001b[1;33m=\u001b[0m \u001b[0mself\u001b[0m\u001b[1;33m.\u001b[0m\u001b[0m_stateful_fn\u001b[0m\u001b[1;33m(\u001b[0m\u001b[1;33m*\u001b[0m\u001b[0margs\u001b[0m\u001b[1;33m,\u001b[0m \u001b[1;33m**\u001b[0m\u001b[0mkwds\u001b[0m\u001b[1;33m)\u001b[0m\u001b[1;33m\u001b[0m\u001b[1;33m\u001b[0m\u001b[0m\n\u001b[0m\u001b[0;32m    863\u001b[0m       \u001b[1;32mif\u001b[0m \u001b[0mself\u001b[0m\u001b[1;33m.\u001b[0m\u001b[0m_created_variables\u001b[0m\u001b[1;33m:\u001b[0m\u001b[1;33m\u001b[0m\u001b[1;33m\u001b[0m\u001b[0m\n\u001b[0;32m    864\u001b[0m         raise ValueError(\"Creating variables on a non-first call to a function\"\n",
      "\u001b[1;32m~\\AppData\\Roaming\\Python\\Python38\\site-packages\\tensorflow\\python\\eager\\function.py\u001b[0m in \u001b[0;36m__call__\u001b[1;34m(self, *args, **kwargs)\u001b[0m\n\u001b[0;32m   2939\u001b[0m     \u001b[1;32mwith\u001b[0m \u001b[0mself\u001b[0m\u001b[1;33m.\u001b[0m\u001b[0m_lock\u001b[0m\u001b[1;33m:\u001b[0m\u001b[1;33m\u001b[0m\u001b[1;33m\u001b[0m\u001b[0m\n\u001b[0;32m   2940\u001b[0m       (graph_function,\n\u001b[1;32m-> 2941\u001b[1;33m        filtered_flat_args) = self._maybe_define_function(args, kwargs)\n\u001b[0m\u001b[0;32m   2942\u001b[0m     return graph_function._call_flat(\n\u001b[0;32m   2943\u001b[0m         filtered_flat_args, captured_inputs=graph_function.captured_inputs)  # pylint: disable=protected-access\n",
      "\u001b[1;32m~\\AppData\\Roaming\\Python\\Python38\\site-packages\\tensorflow\\python\\eager\\function.py\u001b[0m in \u001b[0;36m_maybe_define_function\u001b[1;34m(self, args, kwargs)\u001b[0m\n\u001b[0;32m   3355\u001b[0m               \u001b[0mself\u001b[0m\u001b[1;33m.\u001b[0m\u001b[0minput_signature\u001b[0m \u001b[1;32mis\u001b[0m \u001b[1;32mNone\u001b[0m \u001b[1;32mand\u001b[0m\u001b[1;33m\u001b[0m\u001b[1;33m\u001b[0m\u001b[0m\n\u001b[0;32m   3356\u001b[0m               call_context_key in self._function_cache.missed):\n\u001b[1;32m-> 3357\u001b[1;33m             return self._define_function_with_shape_relaxation(\n\u001b[0m\u001b[0;32m   3358\u001b[0m                 args, kwargs, flat_args, filtered_flat_args, cache_key_context)\n\u001b[0;32m   3359\u001b[0m \u001b[1;33m\u001b[0m\u001b[0m\n",
      "\u001b[1;32m~\\AppData\\Roaming\\Python\\Python38\\site-packages\\tensorflow\\python\\eager\\function.py\u001b[0m in \u001b[0;36m_define_function_with_shape_relaxation\u001b[1;34m(self, args, kwargs, flat_args, filtered_flat_args, cache_key_context)\u001b[0m\n\u001b[0;32m   3277\u001b[0m           expand_composites=True)\n\u001b[0;32m   3278\u001b[0m \u001b[1;33m\u001b[0m\u001b[0m\n\u001b[1;32m-> 3279\u001b[1;33m     graph_function = self._create_graph_function(\n\u001b[0m\u001b[0;32m   3280\u001b[0m         args, kwargs, override_flat_arg_shapes=relaxed_arg_shapes)\n\u001b[0;32m   3281\u001b[0m     \u001b[0mself\u001b[0m\u001b[1;33m.\u001b[0m\u001b[0m_function_cache\u001b[0m\u001b[1;33m.\u001b[0m\u001b[0marg_relaxed\u001b[0m\u001b[1;33m[\u001b[0m\u001b[0mrank_only_cache_key\u001b[0m\u001b[1;33m]\u001b[0m \u001b[1;33m=\u001b[0m \u001b[0mgraph_function\u001b[0m\u001b[1;33m\u001b[0m\u001b[1;33m\u001b[0m\u001b[0m\n",
      "\u001b[1;32m~\\AppData\\Roaming\\Python\\Python38\\site-packages\\tensorflow\\python\\eager\\function.py\u001b[0m in \u001b[0;36m_create_graph_function\u001b[1;34m(self, args, kwargs, override_flat_arg_shapes)\u001b[0m\n\u001b[0;32m   3194\u001b[0m     \u001b[0marg_names\u001b[0m \u001b[1;33m=\u001b[0m \u001b[0mbase_arg_names\u001b[0m \u001b[1;33m+\u001b[0m \u001b[0mmissing_arg_names\u001b[0m\u001b[1;33m\u001b[0m\u001b[1;33m\u001b[0m\u001b[0m\n\u001b[0;32m   3195\u001b[0m     graph_function = ConcreteFunction(\n\u001b[1;32m-> 3196\u001b[1;33m         func_graph_module.func_graph_from_py_func(\n\u001b[0m\u001b[0;32m   3197\u001b[0m             \u001b[0mself\u001b[0m\u001b[1;33m.\u001b[0m\u001b[0m_name\u001b[0m\u001b[1;33m,\u001b[0m\u001b[1;33m\u001b[0m\u001b[1;33m\u001b[0m\u001b[0m\n\u001b[0;32m   3198\u001b[0m             \u001b[0mself\u001b[0m\u001b[1;33m.\u001b[0m\u001b[0m_python_function\u001b[0m\u001b[1;33m,\u001b[0m\u001b[1;33m\u001b[0m\u001b[1;33m\u001b[0m\u001b[0m\n",
      "\u001b[1;32m~\\AppData\\Roaming\\Python\\Python38\\site-packages\\tensorflow\\python\\framework\\func_graph.py\u001b[0m in \u001b[0;36mfunc_graph_from_py_func\u001b[1;34m(name, python_func, args, kwargs, signature, func_graph, autograph, autograph_options, add_control_dependencies, arg_names, op_return_value, collections, capture_by_value, override_flat_arg_shapes)\u001b[0m\n\u001b[0;32m    988\u001b[0m         \u001b[0m_\u001b[0m\u001b[1;33m,\u001b[0m \u001b[0moriginal_func\u001b[0m \u001b[1;33m=\u001b[0m \u001b[0mtf_decorator\u001b[0m\u001b[1;33m.\u001b[0m\u001b[0munwrap\u001b[0m\u001b[1;33m(\u001b[0m\u001b[0mpython_func\u001b[0m\u001b[1;33m)\u001b[0m\u001b[1;33m\u001b[0m\u001b[1;33m\u001b[0m\u001b[0m\n\u001b[0;32m    989\u001b[0m \u001b[1;33m\u001b[0m\u001b[0m\n\u001b[1;32m--> 990\u001b[1;33m       \u001b[0mfunc_outputs\u001b[0m \u001b[1;33m=\u001b[0m \u001b[0mpython_func\u001b[0m\u001b[1;33m(\u001b[0m\u001b[1;33m*\u001b[0m\u001b[0mfunc_args\u001b[0m\u001b[1;33m,\u001b[0m \u001b[1;33m**\u001b[0m\u001b[0mfunc_kwargs\u001b[0m\u001b[1;33m)\u001b[0m\u001b[1;33m\u001b[0m\u001b[1;33m\u001b[0m\u001b[0m\n\u001b[0m\u001b[0;32m    991\u001b[0m \u001b[1;33m\u001b[0m\u001b[0m\n\u001b[0;32m    992\u001b[0m       \u001b[1;31m# invariant: `func_outputs` contains only Tensors, CompositeTensors,\u001b[0m\u001b[1;33m\u001b[0m\u001b[1;33m\u001b[0m\u001b[1;33m\u001b[0m\u001b[0m\n",
      "\u001b[1;32m~\\AppData\\Roaming\\Python\\Python38\\site-packages\\tensorflow\\python\\eager\\def_function.py\u001b[0m in \u001b[0;36mwrapped_fn\u001b[1;34m(*args, **kwds)\u001b[0m\n\u001b[0;32m    632\u001b[0m             \u001b[0mxla_context\u001b[0m\u001b[1;33m.\u001b[0m\u001b[0mExit\u001b[0m\u001b[1;33m(\u001b[0m\u001b[1;33m)\u001b[0m\u001b[1;33m\u001b[0m\u001b[1;33m\u001b[0m\u001b[0m\n\u001b[0;32m    633\u001b[0m         \u001b[1;32melse\u001b[0m\u001b[1;33m:\u001b[0m\u001b[1;33m\u001b[0m\u001b[1;33m\u001b[0m\u001b[0m\n\u001b[1;32m--> 634\u001b[1;33m           \u001b[0mout\u001b[0m \u001b[1;33m=\u001b[0m \u001b[0mweak_wrapped_fn\u001b[0m\u001b[1;33m(\u001b[0m\u001b[1;33m)\u001b[0m\u001b[1;33m.\u001b[0m\u001b[0m__wrapped__\u001b[0m\u001b[1;33m(\u001b[0m\u001b[1;33m*\u001b[0m\u001b[0margs\u001b[0m\u001b[1;33m,\u001b[0m \u001b[1;33m**\u001b[0m\u001b[0mkwds\u001b[0m\u001b[1;33m)\u001b[0m\u001b[1;33m\u001b[0m\u001b[1;33m\u001b[0m\u001b[0m\n\u001b[0m\u001b[0;32m    635\u001b[0m         \u001b[1;32mreturn\u001b[0m \u001b[0mout\u001b[0m\u001b[1;33m\u001b[0m\u001b[1;33m\u001b[0m\u001b[0m\n\u001b[0;32m    636\u001b[0m \u001b[1;33m\u001b[0m\u001b[0m\n",
      "\u001b[1;32m~\\AppData\\Roaming\\Python\\Python38\\site-packages\\tensorflow\\python\\framework\\func_graph.py\u001b[0m in \u001b[0;36mwrapper\u001b[1;34m(*args, **kwargs)\u001b[0m\n\u001b[0;32m    975\u001b[0m           \u001b[1;32mexcept\u001b[0m \u001b[0mException\u001b[0m \u001b[1;32mas\u001b[0m \u001b[0me\u001b[0m\u001b[1;33m:\u001b[0m  \u001b[1;31m# pylint:disable=broad-except\u001b[0m\u001b[1;33m\u001b[0m\u001b[1;33m\u001b[0m\u001b[0m\n\u001b[0;32m    976\u001b[0m             \u001b[1;32mif\u001b[0m \u001b[0mhasattr\u001b[0m\u001b[1;33m(\u001b[0m\u001b[0me\u001b[0m\u001b[1;33m,\u001b[0m \u001b[1;34m\"ag_error_metadata\"\u001b[0m\u001b[1;33m)\u001b[0m\u001b[1;33m:\u001b[0m\u001b[1;33m\u001b[0m\u001b[1;33m\u001b[0m\u001b[0m\n\u001b[1;32m--> 977\u001b[1;33m               \u001b[1;32mraise\u001b[0m \u001b[0me\u001b[0m\u001b[1;33m.\u001b[0m\u001b[0mag_error_metadata\u001b[0m\u001b[1;33m.\u001b[0m\u001b[0mto_exception\u001b[0m\u001b[1;33m(\u001b[0m\u001b[0me\u001b[0m\u001b[1;33m)\u001b[0m\u001b[1;33m\u001b[0m\u001b[1;33m\u001b[0m\u001b[0m\n\u001b[0m\u001b[0;32m    978\u001b[0m             \u001b[1;32melse\u001b[0m\u001b[1;33m:\u001b[0m\u001b[1;33m\u001b[0m\u001b[1;33m\u001b[0m\u001b[0m\n\u001b[0;32m    979\u001b[0m               \u001b[1;32mraise\u001b[0m\u001b[1;33m\u001b[0m\u001b[1;33m\u001b[0m\u001b[0m\n",
      "\u001b[1;31mValueError\u001b[0m: in user code:\n\n    C:\\Users\\Deepa Kapoor\\AppData\\Roaming\\Python\\Python38\\site-packages\\tensorflow\\python\\keras\\engine\\training.py:1233 test_function  *\n        return step_function(self, iterator)\n    C:\\Users\\Deepa Kapoor\\AppData\\Roaming\\Python\\Python38\\site-packages\\tensorflow\\python\\keras\\engine\\training.py:1224 step_function  **\n        outputs = model.distribute_strategy.run(run_step, args=(data,))\n    C:\\Users\\Deepa Kapoor\\AppData\\Roaming\\Python\\Python38\\site-packages\\tensorflow\\python\\distribute\\distribute_lib.py:1259 run\n        return self._extended.call_for_each_replica(fn, args=args, kwargs=kwargs)\n    C:\\Users\\Deepa Kapoor\\AppData\\Roaming\\Python\\Python38\\site-packages\\tensorflow\\python\\distribute\\distribute_lib.py:2730 call_for_each_replica\n        return self._call_for_each_replica(fn, args, kwargs)\n    C:\\Users\\Deepa Kapoor\\AppData\\Roaming\\Python\\Python38\\site-packages\\tensorflow\\python\\distribute\\distribute_lib.py:3417 _call_for_each_replica\n        return fn(*args, **kwargs)\n    C:\\Users\\Deepa Kapoor\\AppData\\Roaming\\Python\\Python38\\site-packages\\tensorflow\\python\\keras\\engine\\training.py:1217 run_step  **\n        outputs = model.test_step(data)\n    C:\\Users\\Deepa Kapoor\\AppData\\Roaming\\Python\\Python38\\site-packages\\tensorflow\\python\\keras\\engine\\training.py:1183 test_step\n        y_pred = self(x, training=False)\n    C:\\Users\\Deepa Kapoor\\AppData\\Roaming\\Python\\Python38\\site-packages\\tensorflow\\python\\keras\\engine\\base_layer.py:1012 __call__\n        outputs = call_fn(inputs, *args, **kwargs)\n    C:\\Users\\Deepa Kapoor\\AppData\\Roaming\\Python\\Python38\\site-packages\\tensorflow\\python\\keras\\engine\\functional.py:424 call\n        return self._run_internal_graph(\n    C:\\Users\\Deepa Kapoor\\AppData\\Roaming\\Python\\Python38\\site-packages\\tensorflow\\python\\keras\\engine\\functional.py:560 _run_internal_graph\n        outputs = node.layer(*args, **kwargs)\n    C:\\Users\\Deepa Kapoor\\AppData\\Roaming\\Python\\Python38\\site-packages\\tensorflow\\python\\keras\\engine\\base_layer.py:998 __call__\n        input_spec.assert_input_compatibility(self.input_spec, inputs, self.name)\n    C:\\Users\\Deepa Kapoor\\AppData\\Roaming\\Python\\Python38\\site-packages\\tensorflow\\python\\keras\\engine\\input_spec.py:234 assert_input_compatibility\n        raise ValueError('Input ' + str(input_index) + ' of layer ' +\n\n    ValueError: Input 0 of layer block1_conv1 is incompatible with the layer: : expected min_ndim=4, found ndim=2. Full shape received: (32, 1)\n"
     ]
    }
   ],
   "source": [
    "score = model.evaluate(train[\"cough_filename\"], train[\"corona_test\"], verbose=0)\n",
    "print(\"Training Accuracy: \", score[1])\n",
    "\n",
    "score = model.evaluate(test[\"cough_filename\"], test[\"corona_test\"], verbose=0)\n",
    "print(\"Testing Accuracy: \", score[1])"
   ]
  },
  {
   "cell_type": "markdown",
   "metadata": {},
   "source": [
    "### We got 62% accuracy on our test data"
   ]
  },
  {
   "cell_type": "code",
   "execution_count": 53,
   "metadata": {},
   "outputs": [],
   "source": [
    "# Saving the dataframe to use with our Dense NN to use as a voting classifier \n",
    "predic_cnn = pd.DataFrame(preds)\n",
    "\n",
    "predic_cnn.to_csv('predict_cnn.csv', index=False)"
   ]
  },
  {
   "cell_type": "code",
   "execution_count": 54,
   "metadata": {},
   "outputs": [],
   "source": [
    "os.system('say -v Juan ya acabé');"
   ]
  },
  {
   "cell_type": "code",
   "execution_count": null,
   "metadata": {},
   "outputs": [],
   "source": []
  }
 ],
 "metadata": {
  "kernelspec": {
   "display_name": "Python 3",
   "language": "python",
   "name": "python3"
  },
  "language_info": {
   "codemirror_mode": {
    "name": "ipython",
    "version": 3
   },
   "file_extension": ".py",
   "mimetype": "text/x-python",
   "name": "python",
   "nbconvert_exporter": "python",
   "pygments_lexer": "ipython3",
   "version": "3.8.3"
  },
  "metadata": {
   "interpreter": {
    "hash": "de1d295a3419ab67f9fc432cc94c69d449188380c591f37e3f15ae3d438489a0"
   }
  }
 },
 "nbformat": 4,
 "nbformat_minor": 4
}
