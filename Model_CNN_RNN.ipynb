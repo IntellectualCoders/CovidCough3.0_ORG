{
 "cells": [
  {
   "cell_type": "code",
   "execution_count": 10,
   "metadata": {},
   "outputs": [],
   "source": [
    "import os\n",
    "from scipy.io import wavfile\n",
    "import pandas as pd\n",
    "import matplotlib.pyplot as plt\n",
    "import numpy as np\n",
    "from keras.layers import Conv2D, MaxPool2D, Flatten, LSTM\n",
    "from keras.layers import Dropout, Dense, TimeDistributed\n",
    "from keras.models import Sequential\n",
    "from keras.utils import to_categorical\n",
    "from keras.callbacks import ModelCheckpoint\n",
    "from sklearn.utils.class_weight import compute_class_weight\n",
    "from tqdm import tqdm\n",
    "from python_speech_features import mfcc\n",
    "import pickle\n"
   ]
  },
  {
   "cell_type": "code",
   "execution_count": 11,
   "metadata": {},
   "outputs": [],
   "source": [
    "import os\n",
    "\n",
    "class Config:\n",
    "    \n",
    "    def __init__(self, mode='conv', nfilt=26, nfeat=13, nfft=512, rate=16000):\n",
    "        self.mode = mode\n",
    "        self.nfilt = nfilt\n",
    "        self.nfeat = nfeat\n",
    "        self.rate = rate\n",
    "        self.nfft = nfft\n",
    "        self.step = int(rate/10)\n",
    "        self.model_path = os.path.join('models', mode + '.model')\n",
    "        self.p_path = os.path.join('pickles', mode + '.p')"
   ]
  },
  {
   "cell_type": "code",
   "execution_count": 12,
   "metadata": {},
   "outputs": [],
   "source": [
    "def check_data():\n",
    "    if os.path.isfile(config.p_path):\n",
    "        print('Loading existing data for {} model'.format(config.mode))\n",
    "        with open(config.p_path, 'rb') as handle:\n",
    "            tmp = pickle.load(handle)\n",
    "            return tmp\n",
    "    else:\n",
    "        return None"
   ]
  },
  {
   "cell_type": "code",
   "execution_count": 13,
   "metadata": {},
   "outputs": [],
   "source": [
    "def build_rand_feat():\n",
    "    tmp = check_data()\n",
    "    \n",
    "    if tmp:\n",
    "        return tmp.data[0], tmp.data[1]\n",
    "        \n",
    "    X = []\n",
    "    y = []\n",
    "    _min, _max = float('inf'), -float('inf')\n",
    "    for _ in tqdm(range(number_sample)):\n",
    "        rand_class = np.random.choice(class_dist.index, p = prob_distribution)\n",
    "        file = np.random.choice(data_frame[data_frame.corona_test == rand_class].index)\n",
    "        rate, wav = wavfile.read('cleanfiles/'+file)\n",
    "        label = data_frame.at[file, 'corona_test']\n",
    "        rand_index = np.random.randint(0, wav.shape[0]-config.step)\n",
    "        sample = wav[rand_index:rand_index+config.step]\n",
    "        X_sample = mfcc(sample, rate, numcep=config.nfeat, nfilt=config.nfilt, nfft=config.nfft)\n",
    "        _min = min(np.amin(X_sample), _min)\n",
    "        _max = max(np.amax(X_sample), _max)\n",
    "        X.append(X_sample)\n",
    "        y.append(classes.index(label))\n",
    "    config._min = _min\n",
    "    config._max = _max\n",
    "    X,y = np.array(X), np.array(y)\n",
    "    X = (X - _min) / (_max - _min)\n",
    "    if config.mode == 'conv':\n",
    "        X = X.reshape(X.shape[0], X.shape[1], X.shape[2], 1)\n",
    "    elif config.mode == 'time':\n",
    "        X = X.reshape(X.shape[0], X.shape[1], X.shape[2])\n",
    "    \n",
    "    y = to_categorical(y, num_classes=2)\n",
    "    config.data = (X,y)\n",
    "    with open(config.p_path, 'wb') as handle:\n",
    "        pickle.dump(config, handle, protocol=pickle.HIGHEST_PROTOCOL)\n",
    "  \n",
    "    return X, y"
   ]
  },
  {
   "cell_type": "code",
   "execution_count": 14,
   "metadata": {},
   "outputs": [],
   "source": [
    "def get_conv_model():\n",
    "    model = Sequential()\n",
    "    \n",
    "    model.add(Conv2D(16, (3,3), activation='relu', strides=(1,1), padding='same',input_shape=input_shape))\n",
    "    model.add(Conv2D(32, (3,3), activation='relu', strides=(1,1), padding='same',input_shape=input_shape))\n",
    "    model.add(Conv2D(64, (3,3), activation='relu', strides=(1,1), padding='same',input_shape=input_shape))\n",
    "    model.add(Conv2D(128, (3,3), activation='relu', strides=(1,1), padding='same',input_shape=input_shape))\n",
    "    \n",
    "    model.add(MaxPool2D(2,2))\n",
    "    \n",
    "    model.add(Dropout(0.5))\n",
    "    \n",
    "    model.add(Flatten())\n",
    "    \n",
    "    model.add(Dense(128, activation='relu'))\n",
    "    model.add(Dense(64, activation='relu'))\n",
    "    model.add(Dense(2, activation='softmax'))\n",
    "    \n",
    "    model.summary()\n",
    "    model.compile(loss='categorical_crossentropy', optimizer='adam', metrics=['acc'])\n",
    "    \n",
    "    return model"
   ]
  },
  {
   "cell_type": "code",
   "execution_count": 15,
   "metadata": {},
   "outputs": [],
   "source": [
    "def get_recurrent_model():\n",
    "    model = Sequential()\n",
    "    \n",
    "    model.add(LSTM(128, return_sequences=True, input_shape=input_shape))\n",
    "    model.add(LSTM(128, return_sequences=True))\n",
    "    model.add(Dropout(0.5))\n",
    "\n",
    "    model.add(TimeDistributed(Dense(64, activation='relu')))\n",
    "    model.add(TimeDistributed(Dense(32, activation='relu')))\n",
    "    model.add(TimeDistributed(Dense(16, activation='relu')))\n",
    "    model.add(TimeDistributed(Dense(8, activation='relu')))\n",
    "    \n",
    "    model.add(Flatten())\n",
    "    model.add(Dense(2, activation='softmax'))\n",
    "    model.summary()\n",
    "    model.compile(loss='categorical_crossentropy', optimizer='adam', metrics=['acc'])\n",
    "    \n",
    "    return model"
   ]
  },
  {
   "cell_type": "code",
   "execution_count": 16,
   "metadata": {},
   "outputs": [
    {
     "name": "stdout",
     "output_type": "stream",
     "text": [
      "corona_test\n",
      "negative    0.581199\n",
      "positive    0.692211\n",
      "Name: length, dtype: float64\n"
     ]
    }
   ],
   "source": [
    "data_frame = pd.read_csv('dataset_minor2.csv')\n",
    "data_frame.set_index('cough_filename', inplace=True)\n",
    "\n",
    "for f in data_frame.index:\n",
    "    rate, signal = wavfile.read('cleanfiles/'+f)\n",
    "    data_frame.at[f, 'length'] = signal.shape[0]/rate\n",
    "\n",
    "classes = list(np.unique(data_frame.corona_test))\n",
    "class_dist = data_frame.groupby(['corona_test'])['length'].mean()\n",
    "print(class_dist)"
   ]
  },
  {
   "cell_type": "code",
   "execution_count": 17,
   "metadata": {},
   "outputs": [
    {
     "data": {
      "image/png": "[encoded data removed]",
      "text/plain": [
       "<Figure size 432x288 with 1 Axes>"
      ]
     },
     "metadata": {},
     "output_type": "display_data"
    },
    {
     "name": "stdout",
     "output_type": "stream",
     "text": [
      "Loading existing data for conv model\n",
      "Model: \"sequential_2\"\n",
      "_________________________________________________________________\n",
      "Layer (type)                 Output Shape              Param #   \n",
      "=================================================================\n",
      "conv2d_4 (Conv2D)            (None, 9, 13, 16)         160       \n",
      "_________________________________________________________________\n",
      "conv2d_5 (Conv2D)            (None, 9, 13, 32)         4640      \n",
      "_________________________________________________________________\n",
      "conv2d_6 (Conv2D)            (None, 9, 13, 64)         18496     \n",
      "_________________________________________________________________\n",
      "conv2d_7 (Conv2D)            (None, 9, 13, 128)        73856     \n",
      "_________________________________________________________________\n",
      "max_pooling2d_1 (MaxPooling2 (None, 4, 6, 128)         0         \n",
      "_________________________________________________________________\n",
      "dropout_2 (Dropout)          (None, 4, 6, 128)         0         \n",
      "_________________________________________________________________\n",
      "flatten_2 (Flatten)          (None, 3072)              0         \n",
      "_________________________________________________________________\n",
      "dense_8 (Dense)              (None, 128)               393344    \n",
      "_________________________________________________________________\n",
      "dense_9 (Dense)              (None, 64)                8256      \n",
      "_________________________________________________________________\n",
      "dense_10 (Dense)             (None, 2)                 130       \n",
      "=================================================================\n",
      "Total params: 498,882\n",
      "Trainable params: 498,882\n",
      "Non-trainable params: 0\n",
      "_________________________________________________________________\n"
     ]
    },
    {
     "name": "stderr",
     "output_type": "stream",
     "text": [
      "C:\\Users\\Deepa Kapoor\\anaconda364\\lib\\site-packages\\sklearn\\utils\\validation.py:68: FutureWarning: Pass classes=[0 1], y=[0 1 0 1 1 1 1 0 1 1 0 1 1 1 0 0 0 0 1 0 1 1 0 1 1 1 1 1 1 0 1 0 0 1 1 1 1\n",
      " 0 1 0 1 1 0 0 1 1 1 0 1 1 1 0 1 0 0 0 1 0 1 1 0 0 0 0 1 0 1 0 0 1 1 0 1 0\n",
      " 0 1 1 0 1 0 1 1 1 0 1 0 1 1 0 0 0 1 0 1 1 1 1 0 1 1 1 0 0 0 0 1 1 1 0 0 0\n",
      " 1 1 1 1 1 0 1 1 0 1 1 1 1 0 0 0 0 1 0 1 0 1 1 1 1 1 1 0 1 1 0 0 1 1 1 1 0\n",
      " 1 0 1 1 1 1 1 1 0 0 0 1 0 0 1 0 0 0 1 1 1 1 0 0 1 1 1 1 1 1 1 1 0 0 1 1 1\n",
      " 1 1 1 0 1 1 1 0 1 0 1 1 0 1 0 1 1 1 1 1 1 0 1 1 1 1 0 0 0 0 1 0 0 0 0 1 1\n",
      " 1 1 1 0 1 0 1 1 0 1 1 0 0 1 0 1 0 1 0 1 0 0 0 0 0 1 1 0 1 0 1 0 0 1 1 0 0\n",
      " 0 1 1 1 0 0 1 1 1 1 1 0 0 0 1 1 0 0 0 1 1 1 1 0 0 1 1 0 1 1 0 0 0 0 1 1 1\n",
      " 0 0 1 0 1 0 0 0 0 1 0 1 1 1 1 1 0 1 1 1 0 1 1 0 1 1 1 1 1 0 1 1 0 0 1 0 1\n",
      " 0 0 1 0 0 0 0 0 1 0 0 1 1 1 1 0 1 1 1 0 0 1 0 1 1 1 0 1 0 1 0 0 0 0 0 1 0\n",
      " 0 1 0 1 1 1 0 1 1 0 1 1 1 1 1 0 1 1 1 1 1 1 0 0 1 0 0 1 0 0 1 0 0 1 1 0 1\n",
      " 1 1 1 0 0 1 1 0 0 0 1 1 1 1 0 1 1 0 0 1 0 0 1 0 0 0 0 1 1 1 0 0 0 1 1 1 0\n",
      " 1 1 0 1 0 0 1 1 1 1 1 1 0 0 0 0 0 0 1 0 0 1 0 0 0 1 0 1 1 0 0 0 1 0 0 1 0\n",
      " 1 1 1 1 0 0 1 1 1 1 1 1 1 0 0 0 1 1 0 0 0 1 0 1 0 1 1 0 0 1 0 1 0 1 1 1 1\n",
      " 1 0 0 0 1 0 1 1 0 1 1 0 0 1 1 1 1 0 0 1 1 1 0 1 1 0 1 1 1 0 1 1 1 0 1 0 0\n",
      " 0 1 0 1 0 0 1 0 0 1 0 0 0 1 1 0 0 0 1 1 1 0 0 0 1 1 0 0 0 0 0 0 1 0 0 0 0\n",
      " 1 1 1 0 0 1 1 0 0 1 0 0 1 1 1 1 0 1 1 1 1 0 0 1 1 1 1 0 0 1 1 1 0 1 1 0 0\n",
      " 1 0 1 1 1 0 0 0 1 0 0 1 0 1 1 0 1 1 1 1 1 1 1 0 1 1 0 1 1 1 1 1 0 1 1 1 1\n",
      " 0 1 1 1 1 1 0 0 1 1 1 0 1 1 0 0 0 1 1 1 1 1 1 0 1 0 1 0 1 0 1 1 1 0 1 1 1\n",
      " 1 0 0 0 0 0 0 0 0 0 0 1 1 1 1 1 0 1 1 0 0 1 1 0 0 1 1 0 1 1 0 1 0 1 1 0 0\n",
      " 0 1 0 1 1 1 1 1 0 1 1 0 1 1 0 1] as keyword args. From version 0.25 passing these as positional arguments will result in an error\n",
      "  warnings.warn(\"Pass {} as keyword args. From version 0.25 \"\n"
     ]
    },
    {
     "name": "stdout",
     "output_type": "stream",
     "text": [
      "[1.15243902 0.88317757]\n",
      "WARNING:tensorflow:`period` argument is deprecated. Please use `save_freq` to specify the frequency in number of batches seen.\n"
     ]
    },
    {
     "name": "stderr",
     "output_type": "stream",
     "text": [
      "WARNING:tensorflow:`period` argument is deprecated. Please use `save_freq` to specify the frequency in number of batches seen.\n"
     ]
    },
    {
     "name": "stdout",
     "output_type": "stream",
     "text": [
      "Epoch 1/10\n",
      "22/22 [==============================] - 101s 1s/step - loss: 0.6957 - acc: 0.5062 - val_loss: 0.6828 - val_acc: 0.5658\n",
      "\n",
      "Epoch 00001: val_acc improved from -inf to 0.56579, saving model to models\\conv.model\n",
      "INFO:tensorflow:Assets written to: models\\conv.model\\assets\n"
     ]
    },
    {
     "name": "stderr",
     "output_type": "stream",
     "text": [
      "INFO:tensorflow:Assets written to: models\\conv.model\\assets\n"
     ]
    },
    {
     "name": "stdout",
     "output_type": "stream",
     "text": [
      "Epoch 2/10\n",
      "22/22 [==============================] - 2s 104ms/step - loss: 0.6844 - acc: 0.5578 - val_loss: 0.6446 - val_acc: 0.6579\n",
      "\n",
      "Epoch 00002: val_acc improved from 0.56579 to 0.65789, saving model to models\\conv.model\n",
      "INFO:tensorflow:Assets written to: models\\conv.model\\assets\n"
     ]
    },
    {
     "name": "stderr",
     "output_type": "stream",
     "text": [
      "INFO:tensorflow:Assets written to: models\\conv.model\\assets\n"
     ]
    },
    {
     "name": "stdout",
     "output_type": "stream",
     "text": [
      "Epoch 3/10\n",
      "22/22 [==============================] - 2s 83ms/step - loss: 0.6287 - acc: 0.6575 - val_loss: 0.6204 - val_acc: 0.6711\n",
      "\n",
      "Epoch 00003: val_acc improved from 0.65789 to 0.67105, saving model to models\\conv.model\n",
      "INFO:tensorflow:Assets written to: models\\conv.model\\assets\n"
     ]
    },
    {
     "name": "stderr",
     "output_type": "stream",
     "text": [
      "INFO:tensorflow:Assets written to: models\\conv.model\\assets\n"
     ]
    },
    {
     "name": "stdout",
     "output_type": "stream",
     "text": [
      "Epoch 4/10\n",
      "22/22 [==============================] - 2s 93ms/step - loss: 0.6178 - acc: 0.6721 - val_loss: 0.5860 - val_acc: 0.7368\n",
      "\n",
      "Epoch 00004: val_acc improved from 0.67105 to 0.73684, saving model to models\\conv.model\n",
      "INFO:tensorflow:Assets written to: models\\conv.model\\assets\n"
     ]
    },
    {
     "name": "stderr",
     "output_type": "stream",
     "text": [
      "INFO:tensorflow:Assets written to: models\\conv.model\\assets\n"
     ]
    },
    {
     "name": "stdout",
     "output_type": "stream",
     "text": [
      "Epoch 5/10\n",
      "22/22 [==============================] - 2s 85ms/step - loss: 0.5608 - acc: 0.6928 - val_loss: 0.5397 - val_acc: 0.7237\n",
      "\n",
      "Epoch 00005: val_acc did not improve from 0.73684\n",
      "Epoch 6/10\n",
      "22/22 [==============================] - 3s 125ms/step - loss: 0.5130 - acc: 0.7693 - val_loss: 0.4869 - val_acc: 0.7500\n",
      "\n",
      "Epoch 00006: val_acc improved from 0.73684 to 0.75000, saving model to models\\conv.model\n",
      "INFO:tensorflow:Assets written to: models\\conv.model\\assets\n"
     ]
    },
    {
     "name": "stderr",
     "output_type": "stream",
     "text": [
      "INFO:tensorflow:Assets written to: models\\conv.model\\assets\n"
     ]
    },
    {
     "name": "stdout",
     "output_type": "stream",
     "text": [
      "Epoch 7/10\n",
      "22/22 [==============================] - 2s 100ms/step - loss: 0.4331 - acc: 0.8057 - val_loss: 0.4604 - val_acc: 0.7368\n",
      "\n",
      "Epoch 00007: val_acc did not improve from 0.75000\n",
      "Epoch 8/10\n",
      "22/22 [==============================] - 2s 96ms/step - loss: 0.4318 - acc: 0.8087 - val_loss: 0.4621 - val_acc: 0.7500\n",
      "\n",
      "Epoch 00008: val_acc did not improve from 0.75000\n",
      "Epoch 9/10\n",
      "22/22 [==============================] - 2s 109ms/step - loss: 0.4089 - acc: 0.8052 - val_loss: 0.4336 - val_acc: 0.8158\n",
      "\n",
      "Epoch 00009: val_acc improved from 0.75000 to 0.81579, saving model to models\\conv.model\n",
      "INFO:tensorflow:Assets written to: models\\conv.model\\assets\n"
     ]
    },
    {
     "name": "stderr",
     "output_type": "stream",
     "text": [
      "INFO:tensorflow:Assets written to: models\\conv.model\\assets\n"
     ]
    },
    {
     "name": "stdout",
     "output_type": "stream",
     "text": [
      "Epoch 10/10\n",
      "22/22 [==============================] - 2s 83ms/step - loss: 0.3990 - acc: 0.8116 - val_loss: 0.4086 - val_acc: 0.8421\n",
      "\n",
      "Epoch 00010: val_acc improved from 0.81579 to 0.84211, saving model to models\\conv.model\n",
      "INFO:tensorflow:Assets written to: models\\conv.model\\assets\n"
     ]
    },
    {
     "name": "stderr",
     "output_type": "stream",
     "text": [
      "INFO:tensorflow:Assets written to: models\\conv.model\\assets\n"
     ]
    },
    {
     "name": "stdout",
     "output_type": "stream",
     "text": [
      "INFO:tensorflow:Assets written to: models\\conv.model\\assets\n"
     ]
    },
    {
     "name": "stderr",
     "output_type": "stream",
     "text": [
      "INFO:tensorflow:Assets written to: models\\conv.model\\assets\n"
     ]
    }
   ],
   "source": [
    "number_sample = 1 * int(data_frame['length'].sum()/0.1)\n",
    "prob_distribution = class_dist/class_dist.sum()\n",
    "choices = np.random.choice(class_dist.index, p=prob_distribution)\n",
    "\n",
    "fig, ax = plt.subplots()\n",
    "ax.set_title('Class Distribution', y=1.08)\n",
    "ax.pie(class_dist, labels=class_dist.index, autopct='%1.1f%%',\n",
    "       shadow=False, startangle=90)\n",
    "ax.axis('equal')\n",
    "plt.show()\n",
    "\n",
    "config = Config(mode='conv')\n",
    "\n",
    "if config.mode == 'conv':\n",
    "    X, y = build_rand_feat()\n",
    "#     print(X)\n",
    "#     print(y)\n",
    "    y_flat = np.argmax(y, axis=1)\n",
    "#     print(y_flat)\n",
    "    input_shape = (X.shape[1], X.shape[2], 1)\n",
    "    model = get_conv_model()\n",
    "    \n",
    "elif config.mode == 'time':\n",
    "    X,y = build_rand_feat()\n",
    "    y_flat = np.argmax(y, axis=1)\n",
    "    input_shape = (X.shape[1], X.shape[2])\n",
    "    model = get_recurrent_model()\n",
    "    \n",
    "class_weight = compute_class_weight('balanced', np.unique(y_flat), y_flat)\n",
    "print(class_weight)\n",
    "checkpoint = ModelCheckpoint(config.model_path, monitor='val_acc', verbose=1, mode='max', \n",
    "                             save_best_only=True, save_weights_only=False, period=1)\n",
    "\n",
    "model.fit(X,y, epochs=10, batch_size=32,  shuffle=True, class_weight = None, \n",
    "          validation_split=0.1, callbacks=[checkpoint])\n",
    "\n",
    "model.save(config.model_path)"
   ]
  },
  {
   "cell_type": "code",
   "execution_count": 20,
   "metadata": {},
   "outputs": [],
   "source": [
    "from sklearn.preprocessing import LabelEncoder\n",
    "predicted_vector = model.predict_classes(X)\n",
    "le = LabelEncoder()\n",
    "yy_pred = to_categorical(le.fit_transform(predicted_vector)) \n",
    "# print(yy_pred)"
   ]
  },
  {
   "cell_type": "code",
   "execution_count": 22,
   "metadata": {},
   "outputs": [
    {
     "name": "stdout",
     "output_type": "stream",
     "text": [
      "Normalized confusion matrix\n",
      "[[0.88 0.12]\n",
      " [0.13 0.87]]\n"
     ]
    },
    {
     "data": {
      "image/png": "[encoded data removed]",
      "text/plain": [
       "<Figure size 432x288 with 2 Axes>"
      ]
     },
     "metadata": {
      "needs_background": "light"
     },
     "output_type": "display_data"
    }
   ],
   "source": [
    "from sklearn.metrics import classification_report\n",
    "from sklearn.metrics import confusion_matrix\n",
    "from sklearn.metrics import plot_confusion_matrix\n",
    "import matplotlib.pyplot as plt\n",
    "import itertools\n",
    "\n",
    "def plot_confusion_matrix(cm, classes,\n",
    "                          normalize=False,\n",
    "                          title='Confusion matrix',\n",
    "                          cmap=plt.cm.Blues):\n",
    "    plt.imshow(cm, interpolation='nearest', cmap=cmap)\n",
    "    plt.title(title)\n",
    "    plt.colorbar()\n",
    "    tick_marks = np.arange(len(classes))\n",
    "    plt.xticks(tick_marks, classes, rotation=45)\n",
    "    plt.yticks(tick_marks, classes)\n",
    "\n",
    "    if normalize:\n",
    "        cm = cm.astype('float') / cm.sum(axis=1)[:, np.newaxis]\n",
    "        print(\"Normalized confusion matrix\")\n",
    "    else:\n",
    "        print('Confusion matrix, without normalization')\n",
    "\n",
    "    print(cm)\n",
    "    np.set_printoptions(precision=2)\n",
    "    thresh = cm.max() / 2.\n",
    "    for i, j in itertools.product(range(cm.shape[0]), range(cm.shape[1])):\n",
    "        plt.text(j, i, cm[i, j],\n",
    "                 horizontalalignment=\"center\",\n",
    "                 color=\"white\" if cm[i, j] > thresh else \"black\")\n",
    "\n",
    "    plt.tight_layout()\n",
    "    plt.ylabel('True label')\n",
    "    plt.xlabel('Predicted label')\n",
    "\n",
    "\n",
    "cnf_matrix=confusion_matrix(y.argmax(axis=1),yy_pred.argmax(axis=1))\n",
    "np.set_printoptions(precision=2)\n",
    "plt.figure()\n",
    "plot_confusion_matrix(cnf_matrix, ['negative','positive'],\n",
    "                      'Confusion matrix, without normalization')\n",
    "plt.show()"
   ]
  },
  {
   "cell_type": "code",
   "execution_count": 24,
   "metadata": {},
   "outputs": [
    {
     "name": "stdout",
     "output_type": "stream",
     "text": [
      "              precision    recall  f1-score   support\n",
      "\n",
      "           0       0.88      0.84      0.86       341\n",
      "           1       0.87      0.90      0.89       415\n",
      "\n",
      "    accuracy                           0.87       756\n",
      "   macro avg       0.87      0.87      0.87       756\n",
      "weighted avg       0.87      0.87      0.87       756\n",
      "\n"
     ]
    }
   ],
   "source": [
    "print(classification_report(yy_pred.argmax(axis=1),y.argmax(axis=1)))"
   ]
  },
  {
   "cell_type": "code",
   "execution_count": 25,
   "metadata": {},
   "outputs": [
    {
     "data": {
      "image/png": "[encoded data removed]",
      "text/plain": [
       "<Figure size 432x288 with 1 Axes>"
      ]
     },
     "metadata": {},
     "output_type": "display_data"
    },
    {
     "name": "stdout",
     "output_type": "stream",
     "text": [
      "Loading existing data for time model\n",
      "Model: \"sequential_3\"\n",
      "_________________________________________________________________\n",
      "Layer (type)                 Output Shape              Param #   \n",
      "=================================================================\n",
      "lstm_2 (LSTM)                (None, 9, 128)            72704     \n",
      "_________________________________________________________________\n",
      "lstm_3 (LSTM)                (None, 9, 128)            131584    \n",
      "_________________________________________________________________\n",
      "dropout_3 (Dropout)          (None, 9, 128)            0         \n",
      "_________________________________________________________________\n",
      "time_distributed_4 (TimeDist (None, 9, 64)             8256      \n",
      "_________________________________________________________________\n",
      "time_distributed_5 (TimeDist (None, 9, 32)             2080      \n",
      "_________________________________________________________________\n",
      "time_distributed_6 (TimeDist (None, 9, 16)             528       \n",
      "_________________________________________________________________\n",
      "time_distributed_7 (TimeDist (None, 9, 8)              136       \n",
      "_________________________________________________________________\n",
      "flatten_3 (Flatten)          (None, 72)                0         \n",
      "_________________________________________________________________\n",
      "dense_15 (Dense)             (None, 2)                 146       \n",
      "=================================================================\n",
      "Total params: 215,434\n",
      "Trainable params: 215,434\n",
      "Non-trainable params: 0\n",
      "_________________________________________________________________\n",
      "[1.09 0.92]\n",
      "WARNING:tensorflow:`period` argument is deprecated. Please use `save_freq` to specify the frequency in number of batches seen.\n"
     ]
    },
    {
     "name": "stderr",
     "output_type": "stream",
     "text": [
      "C:\\Users\\Deepa Kapoor\\anaconda364\\lib\\site-packages\\sklearn\\utils\\validation.py:68: FutureWarning: Pass classes=[0 1], y=[1 1 0 0 1 1 0 0 1 0 1 1 1 1 1 0 1 1 0 0 1 1 0 0 0 0 0 0 1 1 1 1 1 1 0 1 1\n",
      " 0 1 1 0 0 0 0 1 0 1 1 0 1 1 0 1 1 1 0 0 1 0 0 0 1 1 1 0 1 0 1 1 0 0 1 0 1\n",
      " 0 1 1 1 1 1 1 1 0 0 0 0 1 1 0 1 1 1 1 0 1 1 1 1 0 0 0 0 0 1 1 1 0 1 1 0 1\n",
      " 0 1 0 1 0 1 1 1 1 0 1 0 1 1 0 0 0 0 0 0 1 0 1 0 0 1 1 1 0 0 0 0 0 1 0 0 1\n",
      " 0 1 1 1 0 1 1 0 0 0 0 1 1 0 0 0 0 1 1 1 1 0 0 0 0 1 0 0 1 1 1 1 1 0 1 1 1\n",
      " 0 0 0 1 1 1 1 0 1 0 0 1 0 0 1 1 0 1 0 1 1 1 0 1 1 1 1 0 0 1 1 1 1 0 0 0 1\n",
      " 0 0 0 0 1 0 0 1 0 1 0 1 0 0 1 0 0 1 0 0 0 1 0 0 0 1 1 0 1 0 1 0 0 1 1 1 1\n",
      " 1 0 1 0 1 0 0 1 1 0 0 1 0 1 1 1 1 0 0 1 1 0 0 1 1 1 0 1 1 1 0 0 0 1 0 0 0\n",
      " 1 0 1 1 1 0 0 0 1 1 0 0 1 1 0 0 1 0 1 0 1 1 1 0 1 1 0 0 0 0 0 1 1 0 1 1 1\n",
      " 1 0 0 0 1 1 1 1 0 1 0 1 1 1 1 0 1 1 0 0 0 0 0 1 1 1 0 1 1 0 1 0 0 0 0 1 1\n",
      " 1 0 0 1 0 0 1 1 0 1 1 0 1 0 0 0 1 0 1 1 1 1 0 1 1 1 1 0 0 1 0 1 0 0 1 0 0\n",
      " 1 1 0 0 0 0 0 1 1 0 1 1 0 1 1 1 1 1 0 0 1 0 1 0 1 1 1 0 1 1 1 0 1 0 0 1 0\n",
      " 0 1 0 0 0 0 1 0 1 0 1 0 1 0 0 1 0 1 0 1 1 0 1 0 0 1 0 1 0 1 0 0 1 1 1 1 1\n",
      " 0 0 0 0 1 0 1 1 1 0 1 1 1 1 0 1 1 0 1 1 1 0 1 1 0 1 1 0 0 0 0 0 1 0 1 0 1\n",
      " 1 0 0 1 1 0 0 1 1 1 0 1 1 0 1 1 0 1 1 1 0 0 1 1 1 1 0 0 1 1 1 1 1 0 1 0 0\n",
      " 1 0 0 1 0 1 0 1 0 0 0 1 0 0 0 0 0 1 1 0 1 0 0 1 1 1 1 0 0 1 1 1 1 1 1 0 1\n",
      " 1 1 1 1 1 1 0 0 1 0 0 0 0 1 1 0 1 1 1 0 1 0 1 1 1 0 0 1 0 0 1 1 0 0 1 1 1\n",
      " 0 0 0 1 1 0 0 0 0 1 0 1 1 1 0 1 0 1 0 0 1 0 0 0 1 0 1 0 1 1 0 1 1 1 1 0 0\n",
      " 1 0 1 1 1 1 0 1 0 1 0 0 1 0 0 0 0 0 1 1 1 1 1 0 0 1 1 1 1 1 0 1 0 1 0 0 1\n",
      " 1 1 0 1 1 0 1 1 0 0 0 1 1 1 1 1 0 1 1 1 1 0 1 1 0 1 1 0 1 1 0 1 1 1 1 0 0\n",
      " 1 1 0 0 1 0 0 1 1 0 0 1 0 1 1 1] as keyword args. From version 0.25 passing these as positional arguments will result in an error\n",
      "  warnings.warn(\"Pass {} as keyword args. From version 0.25 \"\n",
      "WARNING:tensorflow:`period` argument is deprecated. Please use `save_freq` to specify the frequency in number of batches seen.\n"
     ]
    },
    {
     "name": "stdout",
     "output_type": "stream",
     "text": [
      "Epoch 1/10\n",
      "22/22 [==============================] - 16s 128ms/step - loss: 0.6912 - acc: 0.5358 - val_loss: 0.6799 - val_acc: 0.6184\n",
      "\n",
      "Epoch 00001: val_acc improved from -inf to 0.61842, saving model to models\\time.model\n"
     ]
    },
    {
     "name": "stderr",
     "output_type": "stream",
     "text": [
      "WARNING:absl:Found untraced functions such as lstm_cell_2_layer_call_fn, lstm_cell_2_layer_call_and_return_conditional_losses, lstm_cell_3_layer_call_fn, lstm_cell_3_layer_call_and_return_conditional_losses, lstm_cell_2_layer_call_fn while saving (showing 5 of 10). These functions will not be directly callable after loading.\n",
      "WARNING:absl:Found untraced functions such as lstm_cell_2_layer_call_fn, lstm_cell_2_layer_call_and_return_conditional_losses, lstm_cell_3_layer_call_fn, lstm_cell_3_layer_call_and_return_conditional_losses, lstm_cell_2_layer_call_fn while saving (showing 5 of 10). These functions will not be directly callable after loading.\n"
     ]
    },
    {
     "name": "stdout",
     "output_type": "stream",
     "text": [
      "INFO:tensorflow:Assets written to: models\\time.model\\assets\n"
     ]
    },
    {
     "name": "stderr",
     "output_type": "stream",
     "text": [
      "INFO:tensorflow:Assets written to: models\\time.model\\assets\n"
     ]
    },
    {
     "name": "stdout",
     "output_type": "stream",
     "text": [
      "Epoch 2/10\n",
      "22/22 [==============================] - 1s 46ms/step - loss: 0.6871 - acc: 0.5404 - val_loss: 0.6854 - val_acc: 0.6184\n",
      "\n",
      "Epoch 00002: val_acc did not improve from 0.61842\n",
      "Epoch 3/10\n",
      "22/22 [==============================] - 1s 50ms/step - loss: 0.6846 - acc: 0.5516 - val_loss: 0.6734 - val_acc: 0.6711\n",
      "\n",
      "Epoch 00003: val_acc improved from 0.61842 to 0.67105, saving model to models\\time.model\n"
     ]
    },
    {
     "name": "stderr",
     "output_type": "stream",
     "text": [
      "WARNING:absl:Found untraced functions such as lstm_cell_2_layer_call_fn, lstm_cell_2_layer_call_and_return_conditional_losses, lstm_cell_3_layer_call_fn, lstm_cell_3_layer_call_and_return_conditional_losses, lstm_cell_2_layer_call_fn while saving (showing 5 of 10). These functions will not be directly callable after loading.\n",
      "WARNING:absl:Found untraced functions such as lstm_cell_2_layer_call_fn, lstm_cell_2_layer_call_and_return_conditional_losses, lstm_cell_3_layer_call_fn, lstm_cell_3_layer_call_and_return_conditional_losses, lstm_cell_2_layer_call_fn while saving (showing 5 of 10). These functions will not be directly callable after loading.\n"
     ]
    },
    {
     "name": "stdout",
     "output_type": "stream",
     "text": [
      "INFO:tensorflow:Assets written to: models\\time.model\\assets\n"
     ]
    },
    {
     "name": "stderr",
     "output_type": "stream",
     "text": [
      "INFO:tensorflow:Assets written to: models\\time.model\\assets\n"
     ]
    },
    {
     "name": "stdout",
     "output_type": "stream",
     "text": [
      "Epoch 4/10\n",
      "22/22 [==============================] - 1s 42ms/step - loss: 0.6786 - acc: 0.5710 - val_loss: 0.6711 - val_acc: 0.6974\n",
      "\n",
      "Epoch 00004: val_acc improved from 0.67105 to 0.69737, saving model to models\\time.model\n"
     ]
    },
    {
     "name": "stderr",
     "output_type": "stream",
     "text": [
      "WARNING:absl:Found untraced functions such as lstm_cell_2_layer_call_fn, lstm_cell_2_layer_call_and_return_conditional_losses, lstm_cell_3_layer_call_fn, lstm_cell_3_layer_call_and_return_conditional_losses, lstm_cell_2_layer_call_fn while saving (showing 5 of 10). These functions will not be directly callable after loading.\n",
      "WARNING:absl:Found untraced functions such as lstm_cell_2_layer_call_fn, lstm_cell_2_layer_call_and_return_conditional_losses, lstm_cell_3_layer_call_fn, lstm_cell_3_layer_call_and_return_conditional_losses, lstm_cell_2_layer_call_fn while saving (showing 5 of 10). These functions will not be directly callable after loading.\n"
     ]
    },
    {
     "name": "stdout",
     "output_type": "stream",
     "text": [
      "INFO:tensorflow:Assets written to: models\\time.model\\assets\n"
     ]
    },
    {
     "name": "stderr",
     "output_type": "stream",
     "text": [
      "INFO:tensorflow:Assets written to: models\\time.model\\assets\n"
     ]
    },
    {
     "name": "stdout",
     "output_type": "stream",
     "text": [
      "Epoch 5/10\n",
      "22/22 [==============================] - 1s 42ms/step - loss: 0.6751 - acc: 0.5776 - val_loss: 0.6369 - val_acc: 0.6184\n",
      "\n",
      "Epoch 00005: val_acc did not improve from 0.69737\n",
      "Epoch 6/10\n",
      "22/22 [==============================] - 1s 43ms/step - loss: 0.6435 - acc: 0.6581 - val_loss: 0.6054 - val_acc: 0.7105\n",
      "\n",
      "Epoch 00006: val_acc improved from 0.69737 to 0.71053, saving model to models\\time.model\n"
     ]
    },
    {
     "name": "stderr",
     "output_type": "stream",
     "text": [
      "WARNING:absl:Found untraced functions such as lstm_cell_2_layer_call_fn, lstm_cell_2_layer_call_and_return_conditional_losses, lstm_cell_3_layer_call_fn, lstm_cell_3_layer_call_and_return_conditional_losses, lstm_cell_2_layer_call_fn while saving (showing 5 of 10). These functions will not be directly callable after loading.\n",
      "WARNING:absl:Found untraced functions such as lstm_cell_2_layer_call_fn, lstm_cell_2_layer_call_and_return_conditional_losses, lstm_cell_3_layer_call_fn, lstm_cell_3_layer_call_and_return_conditional_losses, lstm_cell_2_layer_call_fn while saving (showing 5 of 10). These functions will not be directly callable after loading.\n"
     ]
    },
    {
     "name": "stdout",
     "output_type": "stream",
     "text": [
      "INFO:tensorflow:Assets written to: models\\time.model\\assets\n"
     ]
    },
    {
     "name": "stderr",
     "output_type": "stream",
     "text": [
      "INFO:tensorflow:Assets written to: models\\time.model\\assets\n"
     ]
    },
    {
     "name": "stdout",
     "output_type": "stream",
     "text": [
      "Epoch 7/10\n",
      "22/22 [==============================] - 1s 47ms/step - loss: 0.5970 - acc: 0.6874 - val_loss: 0.6506 - val_acc: 0.6184\n",
      "\n",
      "Epoch 00007: val_acc did not improve from 0.71053\n",
      "Epoch 8/10\n",
      "22/22 [==============================] - 1s 46ms/step - loss: 0.6415 - acc: 0.5975 - val_loss: 0.5947 - val_acc: 0.7105\n",
      "\n",
      "Epoch 00008: val_acc did not improve from 0.71053\n",
      "Epoch 9/10\n",
      "22/22 [==============================] - 1s 51ms/step - loss: 0.5642 - acc: 0.6960 - val_loss: 0.5916 - val_acc: 0.6711\n",
      "\n",
      "Epoch 00009: val_acc did not improve from 0.71053\n",
      "Epoch 10/10\n",
      "22/22 [==============================] - 1s 46ms/step - loss: 0.6102 - acc: 0.6526 - val_loss: 0.7731 - val_acc: 0.6316\n",
      "\n",
      "Epoch 00010: val_acc did not improve from 0.71053\n"
     ]
    },
    {
     "name": "stderr",
     "output_type": "stream",
     "text": [
      "WARNING:absl:Found untraced functions such as lstm_cell_2_layer_call_fn, lstm_cell_2_layer_call_and_return_conditional_losses, lstm_cell_3_layer_call_fn, lstm_cell_3_layer_call_and_return_conditional_losses, lstm_cell_2_layer_call_fn while saving (showing 5 of 10). These functions will not be directly callable after loading.\n",
      "WARNING:absl:Found untraced functions such as lstm_cell_2_layer_call_fn, lstm_cell_2_layer_call_and_return_conditional_losses, lstm_cell_3_layer_call_fn, lstm_cell_3_layer_call_and_return_conditional_losses, lstm_cell_2_layer_call_fn while saving (showing 5 of 10). These functions will not be directly callable after loading.\n"
     ]
    },
    {
     "name": "stdout",
     "output_type": "stream",
     "text": [
      "INFO:tensorflow:Assets written to: models\\time.model\\assets\n"
     ]
    },
    {
     "name": "stderr",
     "output_type": "stream",
     "text": [
      "INFO:tensorflow:Assets written to: models\\time.model\\assets\n"
     ]
    }
   ],
   "source": [
    "number_sample = 1 * int(data_frame['length'].sum()/0.1)\n",
    "prob_distribution = class_dist/class_dist.sum()\n",
    "choices = np.random.choice(class_dist.index, p=prob_distribution)\n",
    "\n",
    "fig, ax = plt.subplots()\n",
    "ax.set_title('Class Distribution', y=1.08)\n",
    "ax.pie(class_dist, labels=class_dist.index, autopct='%1.1f%%',\n",
    "       shadow=False, startangle=90)\n",
    "ax.axis('equal')\n",
    "plt.show()\n",
    "\n",
    "config = Config(mode='time')\n",
    "\n",
    "if config.mode == 'conv':\n",
    "    X, y = build_rand_feat()\n",
    "#     print(X)\n",
    "#     print(y)\n",
    "    y_flat = np.argmax(y, axis=1)\n",
    "#     print(y_flat)\n",
    "    input_shape = (X.shape[1], X.shape[2], 1)\n",
    "    model = get_conv_model()\n",
    "    \n",
    "elif config.mode == 'time':\n",
    "    X,y = build_rand_feat()\n",
    "    y_flat = np.argmax(y, axis=1)\n",
    "    input_shape = (X.shape[1], X.shape[2])\n",
    "    model = get_recurrent_model()\n",
    "    \n",
    "class_weight = compute_class_weight('balanced', np.unique(y_flat), y_flat)\n",
    "print(class_weight)\n",
    "checkpoint = ModelCheckpoint(config.model_path, monitor='val_acc', verbose=1, mode='max', \n",
    "                             save_best_only=True, save_weights_only=False, period=1)\n",
    "\n",
    "model.fit(X,y, epochs=10, batch_size=32,  shuffle=True, class_weight = None, \n",
    "          validation_split=0.1, callbacks=[checkpoint])\n",
    "\n",
    "model.save(config.model_path)"
   ]
  },
  {
   "cell_type": "code",
   "execution_count": 26,
   "metadata": {},
   "outputs": [
    {
     "name": "stderr",
     "output_type": "stream",
     "text": [
      "C:\\Users\\Deepa Kapoor\\AppData\\Roaming\\Python\\Python38\\site-packages\\tensorflow\\python\\keras\\engine\\sequential.py:450: UserWarning: `model.predict_classes()` is deprecated and will be removed after 2021-01-01. Please use instead:* `np.argmax(model.predict(x), axis=-1)`,   if your model does multi-class classification   (e.g. if it uses a `softmax` last-layer activation).* `(model.predict(x) > 0.5).astype(\"int32\")`,   if your model does binary classification   (e.g. if it uses a `sigmoid` last-layer activation).\n",
      "  warnings.warn('`model.predict_classes()` is deprecated and '\n"
     ]
    }
   ],
   "source": [
    "from sklearn.preprocessing import LabelEncoder\n",
    "predicted_vector = model.predict_classes(X)\n",
    "le = LabelEncoder()\n",
    "yy_pred = to_categorical(le.fit_transform(predicted_vector)) \n",
    "# print(yy_pred)"
   ]
  },
  {
   "cell_type": "code",
   "execution_count": 27,
   "metadata": {},
   "outputs": [
    {
     "name": "stdout",
     "output_type": "stream",
     "text": [
      "Normalized confusion matrix\n",
      "[[0.82 0.18]\n",
      " [0.45 0.55]]\n"
     ]
    },
    {
     "data": {
      "image/png": "[encoded data removed]",
      "text/plain": [
       "<Figure size 432x288 with 2 Axes>"
      ]
     },
     "metadata": {
      "needs_background": "light"
     },
     "output_type": "display_data"
    }
   ],
   "source": [
    "from sklearn.metrics import classification_report\n",
    "from sklearn.metrics import confusion_matrix\n",
    "from sklearn.metrics import plot_confusion_matrix\n",
    "import matplotlib.pyplot as plt\n",
    "import itertools\n",
    "\n",
    "def plot_confusion_matrix(cm, classes,\n",
    "                          normalize=False,\n",
    "                          title='Confusion matrix',\n",
    "                          cmap=plt.cm.Blues):\n",
    "    plt.imshow(cm, interpolation='nearest', cmap=cmap)\n",
    "    plt.title(title)\n",
    "    plt.colorbar()\n",
    "    tick_marks = np.arange(len(classes))\n",
    "    plt.xticks(tick_marks, classes, rotation=45)\n",
    "    plt.yticks(tick_marks, classes)\n",
    "\n",
    "    if normalize:\n",
    "        cm = cm.astype('float') / cm.sum(axis=1)[:, np.newaxis]\n",
    "        print(\"Normalized confusion matrix\")\n",
    "    else:\n",
    "        print('Confusion matrix, without normalization')\n",
    "\n",
    "    print(cm)\n",
    "    np.set_printoptions(precision=2)\n",
    "    thresh = cm.max() / 2.\n",
    "    for i, j in itertools.product(range(cm.shape[0]), range(cm.shape[1])):\n",
    "        plt.text(j, i, cm[i, j],\n",
    "                 horizontalalignment=\"center\",\n",
    "                 color=\"white\" if cm[i, j] > thresh else \"black\")\n",
    "\n",
    "    plt.tight_layout()\n",
    "    plt.ylabel('True label')\n",
    "    plt.xlabel('Predicted label')\n",
    "\n",
    "\n",
    "cnf_matrix=confusion_matrix(y.argmax(axis=1),yy_pred.argmax(axis=1))\n",
    "np.set_printoptions(precision=2)\n",
    "plt.figure()\n",
    "plot_confusion_matrix(cnf_matrix, ['negative','positive'],\n",
    "                      'Confusion matrix, without normalization')\n",
    "plt.show()"
   ]
  },
  {
   "cell_type": "code",
   "execution_count": 28,
   "metadata": {},
   "outputs": [
    {
     "name": "stdout",
     "output_type": "stream",
     "text": [
      "              precision    recall  f1-score   support\n",
      "\n",
      "           0       0.82      0.61      0.70       469\n",
      "           1       0.55      0.79      0.65       287\n",
      "\n",
      "    accuracy                           0.68       756\n",
      "   macro avg       0.69      0.70      0.68       756\n",
      "weighted avg       0.72      0.68      0.68       756\n",
      "\n"
     ]
    }
   ],
   "source": [
    "print(classification_report(yy_pred.argmax(axis=1),y.argmax(axis=1)))"
   ]
  },
  {
   "cell_type": "code",
   "execution_count": null,
   "metadata": {},
   "outputs": [],
   "source": []
  }
 ],
 "metadata": {
  "kernelspec": {
   "display_name": "Python 3",
   "language": "python",
   "name": "python3"
  },
  "language_info": {
   "codemirror_mode": {
    "name": "ipython",
    "version": 3
   },
   "file_extension": ".py",
   "mimetype": "text/x-python",
   "name": "python",
   "nbconvert_exporter": "python",
   "pygments_lexer": "ipython3",
   "version": "3.8.3"
  }
 },
 "nbformat": 4,
 "nbformat_minor": 4
}
